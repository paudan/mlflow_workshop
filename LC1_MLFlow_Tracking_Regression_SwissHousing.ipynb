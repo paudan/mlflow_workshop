{
  "cells": [
    {
      "cell_type": "markdown",
      "metadata": {
        "id": "view-in-github",
        "colab_type": "text"
      },
      "source": [
        "<a href=\"https://colab.research.google.com/github/paudan/mlflow_workshop/blob/main/LC1_MLFlow_Tracking_Regression_SwissHousing.ipynb\" target=\"_parent\"><img src=\"https://colab.research.google.com/assets/colab-badge.svg\" alt=\"Open In Colab\"/></a>"
      ]
    },
    {
      "cell_type": "markdown",
      "source": [
        "<center><a target=\"_blank\" href=\"https://www.sds2022.ch/\"><img src=\"https://drive.google.com/uc?id=1S7k7kTXs9qIylw3C7LA9rHkLycjlY8te\" width=\"500\" style=\"background:none; border:none; box-shadow:none;\" /></a> </center>\n",
        "\n",
        "<center><a target=\"_blank\" href=\"http://www.sit.academy\"><img src=\"https://drive.google.com/uc?id=1x9_jQgLhozCSWDSaOdVxKmxOEAe_OLgV\" width=\"250\" style=\"background:none; border:none; box-shadow:none;\" /></a> </center>\n",
        "\n",
        "_____\n",
        "\n",
        "<center> <h1> Live Coding  </h1> </center>\n",
        "\n",
        "<p style=\"margin-bottom:1cm;\"></p>\n",
        "\n",
        "_____\n",
        "\n",
        "<center>SIT Academy, 2022</center>\n",
        "\n"
      ],
      "metadata": {
        "id": "iUHorfv1hYYQ"
      }
    },
    {
      "cell_type": "markdown",
      "source": [
        "# MLFlow Workshop - Sequence 1 - Tracking API\n",
        "\n",
        "MLflow Tracking is an API and UI for logging:\n",
        "- parameters, \n",
        "- code versions, \n",
        "- metrics, and \n",
        "- artifacts \n",
        "\n",
        "when running your machine learning code and for later visualizing the results. You can use MLflow Tracking in any environment (for example, a standalone script or a notebook) to log results to local files or to a server, then compare multiple runs. Teams can also use it to compare results from different users.\n"
      ],
      "metadata": {
        "id": "680F_dQCQxll"
      }
    },
    {
      "cell_type": "markdown",
      "source": [
        "# The Use-Case: \n",
        "\n",
        "Predict the price of the property based on different features from the `swiss_housing_data.csv` such as: \n",
        "\n",
        "\"type\", \"room_num\", \"floor\", \"area_m2\", \"floors_num\", \"year_built\", \"last_refurbishment\", \"city\", \"lat\", \"lon\", \"canton\""
      ],
      "metadata": {
        "id": "rv6Q6dqPYsV2"
      }
    },
    {
      "cell_type": "markdown",
      "metadata": {
        "id": "rUEGicVSCb9-"
      },
      "source": [
        "# Install Dependencies"
      ]
    },
    {
      "cell_type": "code",
      "execution_count": 1,
      "metadata": {
        "id": "_Zlnha6HwfR7"
      },
      "outputs": [],
      "source": [
        "!pip install mlflow --quiet"
      ]
    },
    {
      "cell_type": "markdown",
      "metadata": {
        "id": "1DeOd4j8DGrf"
      },
      "source": [
        "# Load Dependencies"
      ]
    },
    {
      "cell_type": "code",
      "execution_count": 2,
      "metadata": {
        "id": "7LmnKD3WDIf0"
      },
      "outputs": [],
      "source": [
        "import os\n",
        "import warnings\n",
        "import sys\n",
        "\n",
        "import pandas as pd\n",
        "import numpy as np"
      ]
    },
    {
      "cell_type": "code",
      "execution_count": 3,
      "metadata": {
        "id": "fi_-nei_DM21"
      },
      "outputs": [],
      "source": [
        "from sklearn.metrics import mean_squared_error, mean_absolute_error, r2_score\n",
        "from sklearn.model_selection import train_test_split\n",
        "from sklearn.linear_model import ElasticNet\n",
        "from sklearn.ensemble import RandomForestRegressor\n",
        "from sklearn.pipeline import Pipeline\n",
        "from sklearn.compose import ColumnTransformer\n",
        "from sklearn.preprocessing import StandardScaler, OneHotEncoder"
      ]
    },
    {
      "cell_type": "code",
      "execution_count": 4,
      "metadata": {
        "id": "Dw8gpm-zDWje"
      },
      "outputs": [],
      "source": [
        "import mlflow\n",
        "import mlflow.sklearn"
      ]
    },
    {
      "cell_type": "code",
      "execution_count": 5,
      "metadata": {
        "id": "jXZoQgQADhlw"
      },
      "outputs": [],
      "source": [
        "import logging\n",
        "logging.basicConfig(level=logging.WARN)\n",
        "logger = logging.getLogger(__name__)"
      ]
    },
    {
      "cell_type": "markdown",
      "source": [
        "# Data mapping"
      ],
      "metadata": {
        "id": "JqgMpGGgT2Qo"
      }
    },
    {
      "cell_type": "code",
      "source": [
        "!pip install pyyaml==5.4.1"
      ],
      "metadata": {
        "id": "3dqrxaObUwBy",
        "colab": {
          "base_uri": "https://localhost:8080/"
        },
        "outputId": "b9bfcad2-2020-4ca3-ab50-094485ec0cee"
      },
      "execution_count": 6,
      "outputs": [
        {
          "output_type": "stream",
          "name": "stdout",
          "text": [
            "Looking in indexes: https://pypi.org/simple, https://us-python.pkg.dev/colab-wheels/public/simple/\n",
            "Requirement already satisfied: pyyaml==5.4.1 in /usr/local/lib/python3.7/dist-packages (5.4.1)\n"
          ]
        }
      ]
    },
    {
      "cell_type": "code",
      "source": [
        "import plotly.graph_objects as go\n",
        "import plotly.express as px\n",
        "import plotly.io as pio"
      ],
      "metadata": {
        "id": "3jx9LaEOT06y",
        "colab": {
          "base_uri": "https://localhost:8080/"
        },
        "outputId": "3e279fe6-5883-4bd3-942e-49260f1d12d0"
      },
      "execution_count": 7,
      "outputs": [
        {
          "output_type": "stream",
          "name": "stderr",
          "text": [
            "/usr/local/lib/python3.7/dist-packages/distributed/config.py:20: YAMLLoadWarning: calling yaml.load() without Loader=... is deprecated, as the default Loader is unsafe. Please read https://msg.pyyaml.org/load for full details.\n",
            "  defaults = yaml.load(f)\n"
          ]
        }
      ]
    },
    {
      "cell_type": "code",
      "source": [
        "orig_url = \"https://drive.google.com/file/d/1eNTyJc4jXJMkLPXW0eY6LL7_P9YN1GWO/view\"\n",
        "file_id = orig_url.split('/')[-2]\n",
        "data_path='https://drive.google.com/uc?export=download&id=' + file_id\n",
        "swisshousing_data = pd.read_csv(data_path)\n",
        "swisshousing_data.head()"
      ],
      "metadata": {
        "colab": {
          "base_uri": "https://localhost:8080/",
          "height": 206
        },
        "id": "l2I6G9OhUVhJ",
        "outputId": "79ba805d-c643-44ac-844a-29c14c6581f7"
      },
      "execution_count": 8,
      "outputs": [
        {
          "output_type": "execute_result",
          "data": {
            "text/plain": [
              "   Unnamed: 0      price        type  room_num floor  area_m2  floors_num  \\\n",
              "0           0  1,235,000   Apartment       2.5    GF    138.0         4.0   \n",
              "1           1    650,000   Apartment       4.5     1    121.0         1.0   \n",
              "2           2  1,062,900   Apartment       2.5     1     63.0         1.0   \n",
              "3           3  1,125,500  Attic flat       2.5     3     63.0         1.0   \n",
              "4           4  2,180,700   Apartment       3.5     2    125.0         1.0   \n",
              "\n",
              "   year_built  last_refurbishment             city   zip      lat      lon  \\\n",
              "0      2015.0              2018.0  Aeugst am Albis  8914  47.2822  8.48965   \n",
              "1      1987.0              2021.0             Agno  6982  46.0005  8.90280   \n",
              "2         NaN                 NaN          Bissone  6816  45.9510  8.96550   \n",
              "3         NaN                 NaN          Bissone  6816  45.9510  8.96550   \n",
              "4         NaN                 NaN          Bissone  6816  45.9510  8.96550   \n",
              "\n",
              "          canton  \n",
              "0  Kanton Zürich  \n",
              "1         Ticino  \n",
              "2         Ticino  \n",
              "3         Ticino  \n",
              "4         Ticino  "
            ],
            "text/html": [
              "\n",
              "  <div id=\"df-f56e499e-4b35-4b15-a13c-6629ba52a47a\">\n",
              "    <div class=\"colab-df-container\">\n",
              "      <div>\n",
              "<style scoped>\n",
              "    .dataframe tbody tr th:only-of-type {\n",
              "        vertical-align: middle;\n",
              "    }\n",
              "\n",
              "    .dataframe tbody tr th {\n",
              "        vertical-align: top;\n",
              "    }\n",
              "\n",
              "    .dataframe thead th {\n",
              "        text-align: right;\n",
              "    }\n",
              "</style>\n",
              "<table border=\"1\" class=\"dataframe\">\n",
              "  <thead>\n",
              "    <tr style=\"text-align: right;\">\n",
              "      <th></th>\n",
              "      <th>Unnamed: 0</th>\n",
              "      <th>price</th>\n",
              "      <th>type</th>\n",
              "      <th>room_num</th>\n",
              "      <th>floor</th>\n",
              "      <th>area_m2</th>\n",
              "      <th>floors_num</th>\n",
              "      <th>year_built</th>\n",
              "      <th>last_refurbishment</th>\n",
              "      <th>city</th>\n",
              "      <th>zip</th>\n",
              "      <th>lat</th>\n",
              "      <th>lon</th>\n",
              "      <th>canton</th>\n",
              "    </tr>\n",
              "  </thead>\n",
              "  <tbody>\n",
              "    <tr>\n",
              "      <th>0</th>\n",
              "      <td>0</td>\n",
              "      <td>1,235,000</td>\n",
              "      <td>Apartment</td>\n",
              "      <td>2.5</td>\n",
              "      <td>GF</td>\n",
              "      <td>138.0</td>\n",
              "      <td>4.0</td>\n",
              "      <td>2015.0</td>\n",
              "      <td>2018.0</td>\n",
              "      <td>Aeugst am Albis</td>\n",
              "      <td>8914</td>\n",
              "      <td>47.2822</td>\n",
              "      <td>8.48965</td>\n",
              "      <td>Kanton Zürich</td>\n",
              "    </tr>\n",
              "    <tr>\n",
              "      <th>1</th>\n",
              "      <td>1</td>\n",
              "      <td>650,000</td>\n",
              "      <td>Apartment</td>\n",
              "      <td>4.5</td>\n",
              "      <td>1</td>\n",
              "      <td>121.0</td>\n",
              "      <td>1.0</td>\n",
              "      <td>1987.0</td>\n",
              "      <td>2021.0</td>\n",
              "      <td>Agno</td>\n",
              "      <td>6982</td>\n",
              "      <td>46.0005</td>\n",
              "      <td>8.90280</td>\n",
              "      <td>Ticino</td>\n",
              "    </tr>\n",
              "    <tr>\n",
              "      <th>2</th>\n",
              "      <td>2</td>\n",
              "      <td>1,062,900</td>\n",
              "      <td>Apartment</td>\n",
              "      <td>2.5</td>\n",
              "      <td>1</td>\n",
              "      <td>63.0</td>\n",
              "      <td>1.0</td>\n",
              "      <td>NaN</td>\n",
              "      <td>NaN</td>\n",
              "      <td>Bissone</td>\n",
              "      <td>6816</td>\n",
              "      <td>45.9510</td>\n",
              "      <td>8.96550</td>\n",
              "      <td>Ticino</td>\n",
              "    </tr>\n",
              "    <tr>\n",
              "      <th>3</th>\n",
              "      <td>3</td>\n",
              "      <td>1,125,500</td>\n",
              "      <td>Attic flat</td>\n",
              "      <td>2.5</td>\n",
              "      <td>3</td>\n",
              "      <td>63.0</td>\n",
              "      <td>1.0</td>\n",
              "      <td>NaN</td>\n",
              "      <td>NaN</td>\n",
              "      <td>Bissone</td>\n",
              "      <td>6816</td>\n",
              "      <td>45.9510</td>\n",
              "      <td>8.96550</td>\n",
              "      <td>Ticino</td>\n",
              "    </tr>\n",
              "    <tr>\n",
              "      <th>4</th>\n",
              "      <td>4</td>\n",
              "      <td>2,180,700</td>\n",
              "      <td>Apartment</td>\n",
              "      <td>3.5</td>\n",
              "      <td>2</td>\n",
              "      <td>125.0</td>\n",
              "      <td>1.0</td>\n",
              "      <td>NaN</td>\n",
              "      <td>NaN</td>\n",
              "      <td>Bissone</td>\n",
              "      <td>6816</td>\n",
              "      <td>45.9510</td>\n",
              "      <td>8.96550</td>\n",
              "      <td>Ticino</td>\n",
              "    </tr>\n",
              "  </tbody>\n",
              "</table>\n",
              "</div>\n",
              "      <button class=\"colab-df-convert\" onclick=\"convertToInteractive('df-f56e499e-4b35-4b15-a13c-6629ba52a47a')\"\n",
              "              title=\"Convert this dataframe to an interactive table.\"\n",
              "              style=\"display:none;\">\n",
              "        \n",
              "  <svg xmlns=\"http://www.w3.org/2000/svg\" height=\"24px\"viewBox=\"0 0 24 24\"\n",
              "       width=\"24px\">\n",
              "    <path d=\"M0 0h24v24H0V0z\" fill=\"none\"/>\n",
              "    <path d=\"M18.56 5.44l.94 2.06.94-2.06 2.06-.94-2.06-.94-.94-2.06-.94 2.06-2.06.94zm-11 1L8.5 8.5l.94-2.06 2.06-.94-2.06-.94L8.5 2.5l-.94 2.06-2.06.94zm10 10l.94 2.06.94-2.06 2.06-.94-2.06-.94-.94-2.06-.94 2.06-2.06.94z\"/><path d=\"M17.41 7.96l-1.37-1.37c-.4-.4-.92-.59-1.43-.59-.52 0-1.04.2-1.43.59L10.3 9.45l-7.72 7.72c-.78.78-.78 2.05 0 2.83L4 21.41c.39.39.9.59 1.41.59.51 0 1.02-.2 1.41-.59l7.78-7.78 2.81-2.81c.8-.78.8-2.07 0-2.86zM5.41 20L4 18.59l7.72-7.72 1.47 1.35L5.41 20z\"/>\n",
              "  </svg>\n",
              "      </button>\n",
              "      \n",
              "  <style>\n",
              "    .colab-df-container {\n",
              "      display:flex;\n",
              "      flex-wrap:wrap;\n",
              "      gap: 12px;\n",
              "    }\n",
              "\n",
              "    .colab-df-convert {\n",
              "      background-color: #E8F0FE;\n",
              "      border: none;\n",
              "      border-radius: 50%;\n",
              "      cursor: pointer;\n",
              "      display: none;\n",
              "      fill: #1967D2;\n",
              "      height: 32px;\n",
              "      padding: 0 0 0 0;\n",
              "      width: 32px;\n",
              "    }\n",
              "\n",
              "    .colab-df-convert:hover {\n",
              "      background-color: #E2EBFA;\n",
              "      box-shadow: 0px 1px 2px rgba(60, 64, 67, 0.3), 0px 1px 3px 1px rgba(60, 64, 67, 0.15);\n",
              "      fill: #174EA6;\n",
              "    }\n",
              "\n",
              "    [theme=dark] .colab-df-convert {\n",
              "      background-color: #3B4455;\n",
              "      fill: #D2E3FC;\n",
              "    }\n",
              "\n",
              "    [theme=dark] .colab-df-convert:hover {\n",
              "      background-color: #434B5C;\n",
              "      box-shadow: 0px 1px 3px 1px rgba(0, 0, 0, 0.15);\n",
              "      filter: drop-shadow(0px 1px 2px rgba(0, 0, 0, 0.3));\n",
              "      fill: #FFFFFF;\n",
              "    }\n",
              "  </style>\n",
              "\n",
              "      <script>\n",
              "        const buttonEl =\n",
              "          document.querySelector('#df-f56e499e-4b35-4b15-a13c-6629ba52a47a button.colab-df-convert');\n",
              "        buttonEl.style.display =\n",
              "          google.colab.kernel.accessAllowed ? 'block' : 'none';\n",
              "\n",
              "        async function convertToInteractive(key) {\n",
              "          const element = document.querySelector('#df-f56e499e-4b35-4b15-a13c-6629ba52a47a');\n",
              "          const dataTable =\n",
              "            await google.colab.kernel.invokeFunction('convertToInteractive',\n",
              "                                                     [key], {});\n",
              "          if (!dataTable) return;\n",
              "\n",
              "          const docLinkHtml = 'Like what you see? Visit the ' +\n",
              "            '<a target=\"_blank\" href=https://colab.research.google.com/notebooks/data_table.ipynb>data table notebook</a>'\n",
              "            + ' to learn more about interactive tables.';\n",
              "          element.innerHTML = '';\n",
              "          dataTable['output_type'] = 'display_data';\n",
              "          await google.colab.output.renderOutput(dataTable, element);\n",
              "          const docLink = document.createElement('div');\n",
              "          docLink.innerHTML = docLinkHtml;\n",
              "          element.appendChild(docLink);\n",
              "        }\n",
              "      </script>\n",
              "    </div>\n",
              "  </div>\n",
              "  "
            ]
          },
          "metadata": {},
          "execution_count": 8
        }
      ]
    },
    {
      "cell_type": "code",
      "source": [
        "swisshousing_data.info()"
      ],
      "metadata": {
        "colab": {
          "base_uri": "https://localhost:8080/"
        },
        "id": "9ijqNLjsWjlU",
        "outputId": "dea69e77-8c62-46cb-f35d-8ce0ca569f33"
      },
      "execution_count": 9,
      "outputs": [
        {
          "output_type": "stream",
          "name": "stdout",
          "text": [
            "<class 'pandas.core.frame.DataFrame'>\n",
            "RangeIndex: 2191 entries, 0 to 2190\n",
            "Data columns (total 14 columns):\n",
            " #   Column              Non-Null Count  Dtype  \n",
            "---  ------              --------------  -----  \n",
            " 0   Unnamed: 0          2191 non-null   int64  \n",
            " 1   price               2191 non-null   object \n",
            " 2   type                2191 non-null   object \n",
            " 3   room_num            2077 non-null   float64\n",
            " 4   floor               2191 non-null   object \n",
            " 5   area_m2             2026 non-null   float64\n",
            " 6   floors_num          2191 non-null   float64\n",
            " 7   year_built          1657 non-null   float64\n",
            " 8   last_refurbishment  1728 non-null   float64\n",
            " 9   city                2191 non-null   object \n",
            " 10  zip                 2191 non-null   int64  \n",
            " 11  lat                 2191 non-null   float64\n",
            " 12  lon                 2191 non-null   float64\n",
            " 13  canton              2191 non-null   object \n",
            "dtypes: float64(7), int64(2), object(5)\n",
            "memory usage: 239.8+ KB\n"
          ]
        }
      ]
    },
    {
      "cell_type": "code",
      "source": [
        "#Data cleaning\n",
        "swisshousing_data[\"price\"] = swisshousing_data[\"price\"].str.replace(',', '')\n",
        "swisshousing_data[\"price\"] = pd.to_numeric(swisshousing_data[\"price\"])\n",
        "swisshousing_data = swisshousing_data.drop([\"Unnamed: 0\", 'zip'], 1)\n",
        "swisshousing_data = swisshousing_data.dropna()"
      ],
      "metadata": {
        "colab": {
          "base_uri": "https://localhost:8080/"
        },
        "id": "4eJetCXtVvOd",
        "outputId": "1fb2e530-f5b2-4091-c7fb-fb2df0439a30"
      },
      "execution_count": 10,
      "outputs": [
        {
          "output_type": "stream",
          "name": "stderr",
          "text": [
            "/usr/local/lib/python3.7/dist-packages/ipykernel_launcher.py:4: FutureWarning: In a future version of pandas all arguments of DataFrame.drop except for the argument 'labels' will be keyword-only\n",
            "  after removing the cwd from sys.path.\n"
          ]
        }
      ]
    },
    {
      "cell_type": "code",
      "source": [
        "fig = px.scatter_mapbox(swisshousing_data, lat='lat', lon='lon', color='price', size='price', hover_data=['type', 'year_built', 'area_m2', 'canton'],\n",
        "                          zoom=7.5, height=700,\n",
        "                        labels={\"price\": \"Housing Price\"}\n",
        "                        )\n",
        "fig.update_layout(mapbox_style=\"open-street-map\")\n",
        "fig.update_layout(margin={\"r\":0,\"t\":0,\"l\":0,\"b\":0})\n",
        "fig.show()"
      ],
      "metadata": {
        "colab": {
          "base_uri": "https://localhost:8080/",
          "height": 717
        },
        "id": "zV3wtzHMV5ID",
        "outputId": "bb717ded-b385-43d3-a7e5-6ac8a166e75f"
      },
      "execution_count": 11,
      "outputs": [
        {
          "output_type": "display_data",
          "data": {
            "text/html": [
              "<html>\n",
              "<head><meta charset=\"utf-8\" /></head>\n",
              "<body>\n",
              "    <div>            <script src=\"https://cdnjs.cloudflare.com/ajax/libs/mathjax/2.7.5/MathJax.js?config=TeX-AMS-MML_SVG\"></script><script type=\"text/javascript\">if (window.MathJax) {MathJax.Hub.Config({SVG: {font: \"STIX-Web\"}});}</script>                <script type=\"text/javascript\">window.PlotlyConfig = {MathJaxConfig: 'local'};</script>\n",
              "        <script src=\"https://cdn.plot.ly/plotly-2.8.3.min.js\"></script>                <div id=\"63a728e8-7882-4c5e-a7ed-9f3b336c1cd2\" class=\"plotly-graph-div\" style=\"height:700px; width:100%;\"></div>            <script type=\"text/javascript\">                                    window.PLOTLYENV=window.PLOTLYENV || {};                                    if (document.getElementById(\"63a728e8-7882-4c5e-a7ed-9f3b336c1cd2\")) {                    Plotly.newPlot(                        \"63a728e8-7882-4c5e-a7ed-9f3b336c1cd2\",                        [{\"customdata\":[[\"Apartment\",2015.0,138.0,\"Kanton Z\\u00fcrich\"],[\"Apartment\",1987.0,121.0,\"Ticino\"],[\"Apartment\",2022.0,223.0,\"Kanton Basel-Landschaft\"],[\"Apartment\",2011.0,110.0,\"Kanton Z\\u00fcrich\"],[\"Attic flat\",2001.0,214.0,\"Kanton St. Gallen\"],[\"Apartment\",2023.0,90.0,\"Kanton Z\\u00fcrich\"],[\"Apartment\",2023.0,119.0,\"Kanton Z\\u00fcrich\"],[\"Duplex\",2023.0,173.0,\"Kanton Z\\u00fcrich\"],[\"Duplex\",2023.0,184.0,\"Kanton Z\\u00fcrich\"],[\"Apartment\",2022.0,103.0,\"Kanton Thurgau\"],[\"Apartment\",2022.0,64.0,\"Ticino\"],[\"Terrace flat\",2022.0,175.0,\"Kanton Thurgau\"],[\"Apartment\",1977.0,88.0,\"Kanton Aargau\"],[\"Apartment\",1992.0,98.0,\"Kanton Aargau\"],[\"Apartment\",1982.0,116.0,\"Kanton Z\\u00fcrich\"],[\"Duplex\",1993.0,157.0,\"Kanton Basel-Landschaft\"],[\"Apartment\",1972.0,75.0,\"Kanton Luzern\"],[\"Apartment\",2015.0,121.0,\"Kanton Schaffhausen\"],[\"Apartment\",1972.0,58.0,\"Kanton Schwyz\"],[\"Roof flat\",2009.0,160.0,\"Neuch\\u00e2tel\"],[\"Attic flat\",2012.0,210.0,\"Kanton Aargau\"],[\"Terrace flat\",2022.0,180.0,\"Kanton St. Gallen\"],[\"Apartment\",2022.0,97.0,\"Kanton Z\\u00fcrich\"],[\"Apartment\",2012.0,124.0,\"Kanton Z\\u00fcrich\"],[\"Terrace flat\",2019.0,176.0,\"Canton de Berne\"],[\"Apartment\",1960.0,70.0,\"Ticino\"],[\"Attic flat\",2011.0,137.0,\"Ticino\"],[\"Apartment\",2012.0,124.0,\"Kanton Z\\u00fcrich\"],[\"Terrace flat\",2019.0,176.0,\"Canton de Berne\"],[\"Apartment\",1960.0,70.0,\"Ticino\"],[\"Attic flat\",2011.0,137.0,\"Ticino\"],[\"Apartment\",2021.0,149.0,\"Ticino\"],[\"Apartment\",2021.0,400.0,\"Ticino\"],[\"Apartment\",2012.0,102.0,\"Ticino\"],[\"Apartment\",2011.0,66.0,\"Kanton Graub\\u00fcnden\"],[\"Apartment\",1928.0,150.0,\"Kanton Graub\\u00fcnden\"],[\"Apartment\",1990.0,90.0,\"Ticino\"],[\"Attic flat\",2022.0,132.0,\"Ticino\"],[\"Apartment\",2013.0,100.0,\"Ticino\"],[\"Apartment\",1989.0,120.0,\"Ticino\"],[\"Duplex\",2018.0,106.0,\"Ticino\"],[\"Apartment\",2021.0,190.0,\"Ticino\"],[\"Attic flat\",2004.0,180.0,\"Kanton Zug\"],[\"Apartment\",1963.0,78.0,\"Kanton Aargau\"],[\"Apartment\",2013.0,162.0,\"Ticino\"],[\"Apartment\",1993.0,88.0,\"Kanton Z\\u00fcrich\"],[\"Apartment\",2005.0,114.0,\"Kanton Z\\u00fcrich\"],[\"Attic flat\",1983.0,210.0,\"Kanton Z\\u00fcrich\"],[\"Terrace flat\",2022.0,116.0,\"Kanton Aargau\"],[\"Terrace flat\",2022.0,152.0,\"Kanton Aargau\"],[\"Attic flat\",2016.0,142.0,\"Kanton Aargau\"],[\"Apartment\",2009.0,129.0,\"Gen\\u00e8ve\"],[\"Apartment\",2003.0,188.0,\"Kanton Aargau\"],[\"Apartment\",2022.0,60.0,\"Ticino\"],[\"Apartment\",2018.0,227.0,\"Ticino\"],[\"Apartment\",2014.0,135.0,\"Ticino\"],[\"Apartment\",2020.0,109.0,\"Kanton Aargau\"],[\"Apartment\",2022.0,87.0,\"Kanton Basel-Landschaft\"],[\"Apartment\",1960.0,75.0,\"Kanton Basel-Landschaft\"],[\"Apartment\",2018.0,227.0,\"Ticino\"],[\"Apartment\",2014.0,135.0,\"Ticino\"],[\"Apartment\",2020.0,109.0,\"Kanton Aargau\"],[\"Apartment\",2022.0,87.0,\"Kanton Basel-Landschaft\"],[\"Apartment\",1960.0,75.0,\"Kanton Basel-Landschaft\"],[\"Duplex\",1900.0,88.0,\"Canton de Vaud\"],[\"Apartment\",2022.0,134.0,\"Ticino\"],[\"Apartment\",1973.0,160.0,\"Canton du Valais\"],[\"Terrace flat\",2015.0,135.0,\"Ticino\"],[\"Apartment\",2020.0,139.0,\"Ticino\"],[\"Apartment\",2022.0,98.0,\"Kanton Solothurn\"],[\"Apartment\",2022.0,63.0,\"Kanton St. Gallen\"],[\"Apartment\",2022.0,91.0,\"Kanton St. Gallen\"],[\"Apartment\",2022.0,138.0,\"Kanton St. Gallen\"],[\"Apartment\",2023.0,157.0,\"Ticino\"],[\"Apartment\",2021.0,175.0,\"Ticino\"],[\"Apartment\",1975.0,237.0,\"Ticino\"],[\"Loft\",2021.0,200.0,\"Ticino\"],[\"Apartment\",2010.0,106.0,\"Kanton Zug\"],[\"Apartment\",2022.0,57.0,\"Kanton Graub\\u00fcnden\"],[\"Apartment\",2022.0,89.0,\"Kanton Graub\\u00fcnden\"],[\"Attic flat\",1990.0,104.0,\"Canton du Valais\"],[\"Apartment\",2014.0,174.0,\"Canton de Vaud\"],[\"Apartment\",1978.0,134.0,\"Gen\\u00e8ve\"],[\"Apartment\",1978.0,123.0,\"Gen\\u00e8ve\"],[\"Apartment\",2021.0,138.0,\"Jura\"],[\"Apartment\",2009.0,158.0,\"Canton du Valais\"],[\"Apartment\",2015.0,117.0,\"Canton du Valais\"],[\"Apartment\",1995.0,100.0,\"Canton de Vaud\"],[\"Attic flat\",2022.0,139.0,\"Ticino\"],[\"Apartment\",2022.0,118.0,\"Ticino\"],[\"Apartment\",1995.0,100.0,\"Canton de Vaud\"],[\"Attic flat\",2022.0,139.0,\"Ticino\"],[\"Apartment\",2022.0,118.0,\"Ticino\"],[\"Attic flat\",2022.0,75.0,\"Kanton Aargau\"],[\"Apartment\",2015.0,158.0,\"Kanton Z\\u00fcrich\"],[\"Apartment\",1993.0,126.0,\"Kanton Luzern\"],[\"Apartment\",2008.0,84.0,\"Kanton Aargau\"],[\"Duplex\",2004.0,130.0,\"Canton de Vaud\"],[\"Apartment\",2008.0,120.0,\"Kanton Aargau\"],[\"Apartment\",2016.0,70.0,\"Kanton Luzern\"],[\"Apartment\",2024.0,64.0,\"Canton de Fribourg\"],[\"Apartment\",2024.0,93.0,\"Canton de Fribourg\"],[\"Apartment\",2024.0,120.0,\"Canton de Fribourg\"],[\"Roof flat\",1978.0,75.0,\"Kanton Graub\\u00fcnden\"],[\"Apartment\",2023.0,124.0,\"Kanton Graub\\u00fcnden\"],[\"Apartment\",2023.0,126.0,\"Kanton Graub\\u00fcnden\"],[\"Attic flat\",1990.0,208.0,\"Kanton Uri\"],[\"Apartment\",2015.0,122.0,\"Kanton Thurgau\"],[\"Attic flat\",2001.0,128.0,\"Kanton Z\\u00fcrich\"],[\"Apartment\",2019.0,120.0,\"Canton de Vaud\"],[\"Apartment\",2023.0,103.0,\"Ticino\"],[\"Duplex\",1986.0,250.0,\"Ticino\"],[\"Apartment\",1984.0,317.0,\"Gen\\u00e8ve\"],[\"Apartment\",1905.0,255.0,\"Gen\\u00e8ve\"],[\"Roof flat\",1905.0,521.0,\"Gen\\u00e8ve\"],[\"Apartment\",1980.0,114.0,\"Gen\\u00e8ve\"],[\"Roof flat\",1951.0,220.0,\"Gen\\u00e8ve\"],[\"Apartment\",1970.0,381.0,\"Gen\\u00e8ve\"],[\"Apartment\",1972.0,105.0,\"Kanton Z\\u00fcrich\"],[\"Terrace flat\",2013.0,70.0,\"Kanton Z\\u00fcrich\"],[\"Roof flat\",2004.0,108.0,\"Kanton Z\\u00fcrich\"],[\"Duplex\",2010.0,139.0,\"Kanton Z\\u00fcrich\"],[\"Apartment\",2004.0,107.0,\"Ticino\"],[\"Apartment\",1970.0,381.0,\"Gen\\u00e8ve\"],[\"Apartment\",1972.0,105.0,\"Kanton Z\\u00fcrich\"],[\"Terrace flat\",2013.0,70.0,\"Kanton Z\\u00fcrich\"],[\"Roof flat\",2004.0,108.0,\"Kanton Z\\u00fcrich\"],[\"Duplex\",2010.0,139.0,\"Kanton Z\\u00fcrich\"],[\"Apartment\",2004.0,107.0,\"Ticino\"],[\"Apartment\",2021.0,140.0,\"Ticino\"],[\"Duplex\",2014.0,132.0,\"Kanton Basel-Landschaft\"],[\"Apartment\",1980.0,110.0,\"Kanton Aargau\"],[\"Apartment\",1986.0,132.0,\"Kanton Appenzell Ausserrhoden\"],[\"Roof flat\",1995.0,100.0,\"Kanton Z\\u00fcrich\"],[\"Duplex\",1988.0,110.0,\"Kanton Z\\u00fcrich\"],[\"Apartment\",1981.0,73.0,\"Kanton Z\\u00fcrich\"],[\"Attic flat\",2011.0,199.0,\"Kanton Z\\u00fcrich\"],[\"Apartment\",2019.0,121.0,\"Kanton Thurgau\"],[\"Duplex\",2022.0,96.0,\"Kanton Luzern\"],[\"Apartment\",2022.0,136.0,\"Kanton Graub\\u00fcnden\"],[\"Apartment\",1985.0,62.0,\"Kanton St. Gallen\"],[\"Apartment\",2022.0,113.0,\"Kanton Z\\u00fcrich\"],[\"Apartment\",2002.0,147.0,\"Kanton Graub\\u00fcnden\"],[\"Terrace flat\",1960.0,77.0,\"Kanton Graub\\u00fcnden\"],[\"Apartment\",2019.0,46.0,\"Kanton Z\\u00fcrich\"],[\"Apartment\",1970.0,123.0,\"Kanton Thurgau\"],[\"Apartment\",2001.0,145.0,\"Kanton Luzern\"],[\"Apartment\",2021.0,92.0,\"Canton de Vaud\"],[\"Attic flat\",1993.0,156.0,\"Gen\\u00e8ve\"],[\"Attic flat\",1995.0,110.0,\"Kanton Graub\\u00fcnden\"],[\"Apartment\",2022.0,101.0,\"Canton de Vaud\"],[\"Apartment\",1975.0,171.0,\"Gen\\u00e8ve\"],[\"Duplex\",2022.0,178.0,\"Canton de Vaud\"],[\"Duplex\",1981.0,202.0,\"Canton de Vaud\"],[\"Apartment\",2014.0,90.0,\"Ticino\"],[\"Apartment\",2014.0,97.0,\"Ticino\"],[\"Apartment\",2022.0,132.0,\"Ticino\"],[\"Apartment\",2021.0,51.0,\"Ticino\"],[\"Duplex\",1981.0,202.0,\"Canton de Vaud\"],[\"Apartment\",2014.0,90.0,\"Ticino\"],[\"Apartment\",2014.0,97.0,\"Ticino\"],[\"Apartment\",2022.0,132.0,\"Ticino\"],[\"Apartment\",2021.0,51.0,\"Ticino\"],[\"Apartment\",2022.0,86.0,\"Ticino\"],[\"Apartment\",1970.0,121.0,\"Ticino\"],[\"Apartment\",2000.0,126.0,\"Ticino\"],[\"Apartment\",2022.0,185.0,\"Ticino\"],[\"Apartment\",2015.0,140.0,\"Ticino\"],[\"Apartment\",2021.0,111.0,\"Ticino\"],[\"Apartment\",2022.0,480.0,\"Ticino\"],[\"Attic flat\",2011.0,195.0,\"Ticino\"],[\"Apartment\",2009.0,240.0,\"Ticino\"],[\"Apartment\",2005.0,218.0,\"Ticino\"],[\"Apartment\",2019.0,250.0,\"Ticino\"],[\"Apartment\",2015.0,130.0,\"Ticino\"],[\"Apartment\",2021.0,421.0,\"Ticino\"],[\"Duplex\",2001.0,142.0,\"Canton de Vaud\"],[\"Apartment\",2020.0,145.0,\"Ticino\"],[\"Duplex\",1989.0,110.0,\"Kanton Aargau\"],[\"Apartment\",1972.0,89.0,\"Kanton Luzern\"],[\"Apartment\",2007.0,94.0,\"Kanton Graub\\u00fcnden\"],[\"Apartment\",2022.0,121.0,\"Kanton Z\\u00fcrich\"],[\"Apartment\",2022.0,78.0,\"Ticino\"],[\"Apartment\",2018.0,115.0,\"Ticino\"],[\"Apartment\",1972.0,89.0,\"Kanton Luzern\"],[\"Apartment\",2007.0,94.0,\"Kanton Graub\\u00fcnden\"],[\"Apartment\",2022.0,121.0,\"Kanton Z\\u00fcrich\"],[\"Apartment\",2022.0,78.0,\"Ticino\"],[\"Apartment\",2018.0,115.0,\"Ticino\"],[\"Apartment\",2021.0,84.0,\"Canton du Valais\"],[\"Apartment\",2021.0,95.0,\"Canton du Valais\"],[\"Apartment\",2019.0,44.0,\"Kanton Aargau\"],[\"Studio\",2019.0,98.0,\"Kanton St. Gallen\"],[\"Apartment\",2021.0,111.0,\"Kanton St. Gallen\"],[\"Apartment\",2023.0,130.0,\"Kanton St. Gallen\"],[\"Apartment\",2021.0,185.0,\"Kanton St. Gallen\"],[\"Apartment\",2020.0,145.0,\"Ticino\"],[\"Apartment\",2022.0,118.0,\"Kanton Aargau\"],[\"Apartment\",2010.0,131.0,\"Kanton Zug\"],[\"Apartment\",1863.0,135.0,\"Canton de Vaud\"],[\"Apartment\",1993.0,110.0,\"Ticino\"],[\"Apartment\",2021.0,200.0,\"Canton de Vaud\"],[\"Apartment\",2014.0,100.0,\"Ticino\"],[\"Attic flat\",1960.0,210.0,\"Ticino\"],[\"Apartment\",2024.0,57.0,\"Kanton Schaffhausen\"],[\"Apartment\",2024.0,73.0,\"Kanton Schaffhausen\"],[\"Apartment\",2024.0,98.0,\"Kanton Schaffhausen\"],[\"Apartment\",2023.0,63.0,\"Kanton Aargau\"],[\"Apartment\",2023.0,88.0,\"Kanton Aargau\"],[\"Apartment\",2023.0,133.0,\"Kanton Aargau\"],[\"Apartment\",2023.0,152.0,\"Kanton Aargau\"],[\"Apartment\",1999.0,120.0,\"Kanton Aargau\"],[\"Apartment\",2022.0,134.0,\"Kanton Z\\u00fcrich\"],[\"Terrace flat\",2023.0,240.0,\"Kanton Z\\u00fcrich\"],[\"Apartment\",1972.0,110.0,\"Kanton Aargau\"],[\"Apartment\",2022.0,98.0,\"Kanton Basel-Landschaft\"],[\"Apartment\",2022.0,105.0,\"Kanton Basel-Landschaft\"],[\"Apartment\",2023.0,85.0,\"Canton de Vaud\"],[\"Apartment\",2012.0,87.0,\"Ticino\"],[\"Apartment\",2011.0,150.0,\"Ticino\"],[\"Apartment\",2022.0,105.0,\"Kanton Basel-Landschaft\"],[\"Apartment\",2023.0,85.0,\"Canton de Vaud\"],[\"Apartment\",2012.0,87.0,\"Ticino\"],[\"Apartment\",2011.0,150.0,\"Ticino\"],[\"Apartment\",2012.0,326.0,\"Ticino\"],[\"Roof flat\",2022.0,80.0,\"Canton de Vaud\"],[\"Apartment\",2009.0,92.0,\"Ticino\"],[\"Attic flat\",2009.0,112.0,\"Ticino\"],[\"Apartment\",2013.0,92.0,\"Ticino\"],[\"Apartment\",2007.0,108.0,\"Gen\\u00e8ve\"],[\"Apartment\",2010.0,118.0,\"Gen\\u00e8ve\"],[\"Apartment\",1990.0,110.0,\"Kanton Graub\\u00fcnden\"],[\"Apartment\",2022.0,260.0,\"Canton de Vaud\"],[\"Apartment\",2010.0,173.0,\"Canton de Vaud\"],[\"Duplex\",2008.0,130.0,\"Kanton Z\\u00fcrich\"],[\"Apartment\",2022.0,113.0,\"Kanton St. Gallen\"],[\"Apartment\",2010.0,100.0,\"Kanton Aargau\"],[\"Apartment\",1969.0,81.0,\"Kanton Aargau\"],[\"Terrace flat\",2017.0,168.0,\"Kanton Z\\u00fcrich\"],[\"Apartment\",2022.0,89.0,\"Kanton Z\\u00fcrich\"],[\"Duplex\",2022.0,167.0,\"Kanton Z\\u00fcrich\"],[\"Duplex\",2022.0,169.0,\"Kanton Z\\u00fcrich\"],[\"Attic flat\",2022.0,235.0,\"Kanton Aargau\"],[\"Attic flat\",2014.0,105.0,\"Kanton St. Gallen\"],[\"Apartment\",2012.0,319.0,\"Kanton Z\\u00fcrich\"],[\"Duplex\",1988.0,96.0,\"Canton du Valais\"],[\"Apartment\",1982.0,110.0,\"Kanton Graub\\u00fcnden\"],[\"Apartment\",1994.0,135.0,\"Kanton Obwalden\"],[\"Apartment\",1970.0,110.0,\"Canton de Vaud\"],[\"Apartment\",1994.0,135.0,\"Kanton Obwalden\"],[\"Apartment\",1970.0,110.0,\"Canton de Vaud\"],[\"Attic flat\",2009.0,130.0,\"Kanton St. Gallen\"],[\"Attic flat\",2011.0,186.0,\"Kanton Z\\u00fcrich\"],[\"Apartment\",2007.0,135.0,\"Kanton Schwyz\"],[\"Duplex\",1988.0,132.0,\"Kanton Graub\\u00fcnden\"],[\"Roof flat\",2017.0,108.0,\"Kanton Basel-Landschaft\"],[\"Apartment\",1993.0,85.0,\"Canton de Fribourg\"],[\"Apartment\",2019.0,69.0,\"Ticino\"],[\"Apartment\",2016.0,129.0,\"Canton de Vaud\"],[\"Attic flat\",2016.0,124.0,\"Canton de Vaud\"],[\"Apartment\",1970.0,60.0,\"Kanton Graub\\u00fcnden\"],[\"Apartment\",1982.0,88.0,\"Kanton Graub\\u00fcnden\"],[\"Apartment\",1963.0,94.0,\"Kanton Graub\\u00fcnden\"],[\"Attic flat\",1905.0,73.0,\"Kanton Graub\\u00fcnden\"],[\"Apartment\",1965.0,150.0,\"Kanton Graub\\u00fcnden\"],[\"Attic flat\",1972.0,112.0,\"Kanton Graub\\u00fcnden\"],[\"Apartment\",2020.0,143.0,\"Kanton Z\\u00fcrich\"],[\"Apartment\",2022.0,136.0,\"Kanton Z\\u00fcrich\"],[\"Duplex\",2022.0,198.0,\"Kanton Z\\u00fcrich\"],[\"Apartment\",1963.0,60.0,\"Canton de Berne\"],[\"Apartment\",2009.0,276.0,\"Ticino\"],[\"Apartment\",2017.0,121.0,\"Kanton Z\\u00fcrich\"],[\"Apartment\",2023.0,157.0,\"Kanton Z\\u00fcrich\"],[\"Apartment\",2023.0,207.0,\"Kanton Z\\u00fcrich\"],[\"Apartment\",2017.0,143.0,\"Kanton Aargau\"],[\"Duplex\",2023.0,166.0,\"Kanton Z\\u00fcrich\"],[\"Apartment\",2022.0,141.0,\"Kanton Aargau\"],[\"Apartment\",1974.0,88.0,\"Kanton Z\\u00fcrich\"],[\"Attic flat\",2022.0,138.0,\"Gen\\u00e8ve\"],[\"Apartment\",2022.0,150.0,\"Ticino\"],[\"Apartment\",1972.0,92.0,\"Canton de Fribourg\"],[\"Apartment\",1963.0,85.0,\"Canton de Fribourg\"],[\"Attic flat\",2022.0,152.0,\"Kanton Thurgau\"],[\"Apartment\",2022.0,150.0,\"Ticino\"],[\"Apartment\",1972.0,92.0,\"Canton de Fribourg\"],[\"Apartment\",1963.0,85.0,\"Canton de Fribourg\"],[\"Attic flat\",2022.0,152.0,\"Kanton Thurgau\"],[\"Duplex\",2001.0,135.0,\"Kanton Aargau\"],[\"Apartment\",2020.0,80.0,\"Kanton Z\\u00fcrich\"],[\"Apartment\",2013.0,187.0,\"Kanton Schwyz\"],[\"Apartment\",1996.0,90.0,\"Kanton Z\\u00fcrich\"],[\"Apartment\",1993.0,132.0,\"Kanton Z\\u00fcrich\"],[\"Attic flat\",2010.0,150.0,\"Kanton Z\\u00fcrich\"],[\"Apartment\",2010.0,140.0,\"Kanton Z\\u00fcrich\"],[\"Apartment\",1993.0,128.0,\"Kanton Aargau\"],[\"Apartment\",2020.0,126.0,\"Kanton Basel-Landschaft\"],[\"Apartment\",2020.0,145.0,\"Kanton Basel-Landschaft\"],[\"Apartment\",2022.0,130.0,\"Kanton Z\\u00fcrich\"],[\"Apartment\",2015.0,108.0,\"Kanton Z\\u00fcrich\"],[\"Apartment\",2003.0,160.0,\"Kanton Z\\u00fcrich\"],[\"Apartment\",2001.0,94.0,\"Kanton Z\\u00fcrich\"],[\"Apartment\",2014.0,160.0,\"Kanton Z\\u00fcrich\"],[\"Apartment\",2015.0,75.0,\"Kanton Z\\u00fcrich\"],[\"Apartment\",2024.0,85.0,\"Kanton Z\\u00fcrich\"],[\"Apartment\",1969.0,90.0,\"Kanton Aargau\"],[\"Apartment\",2021.0,117.0,\"Ticino\"],[\"Apartment\",2021.0,116.0,\"Ticino\"],[\"Apartment\",2008.0,150.0,\"Ticino\"],[\"Apartment\",2002.0,175.0,\"Ticino\"],[\"Apartment\",2022.0,85.0,\"Kanton Basel-Landschaft\"],[\"Apartment\",1984.0,56.0,\"Canton du Valais\"],[\"Apartment\",2005.0,146.0,\"Canton du Valais\"],[\"Duplex\",2022.0,88.0,\"Canton du Valais\"],[\"Duplex\",2022.0,88.0,\"Canton du Valais\"],[\"Apartment\",2022.0,103.0,\"Canton du Valais\"],[\"Apartment\",2022.0,109.0,\"Canton du Valais\"],[\"Apartment\",2022.0,109.0,\"Canton du Valais\"],[\"Apartment\",2022.0,112.0,\"Canton du Valais\"],[\"Apartment\",2022.0,103.0,\"Canton du Valais\"],[\"Apartment\",2022.0,109.0,\"Canton du Valais\"],[\"Apartment\",2022.0,109.0,\"Canton du Valais\"],[\"Apartment\",2022.0,112.0,\"Canton du Valais\"],[\"Apartment\",2022.0,112.0,\"Canton du Valais\"],[\"Apartment\",2022.0,112.0,\"Canton du Valais\"],[\"Apartment\",1960.0,75.0,\"Kanton Thurgau\"],[\"Apartment\",2014.0,125.0,\"Canton du Valais\"],[\"Apartment\",1978.0,130.0,\"Ticino\"],[\"Apartment\",2021.0,93.0,\"Ticino\"],[\"Apartment\",2016.0,106.0,\"Ticino\"],[\"Apartment\",2006.0,133.0,\"Ticino\"],[\"Apartment\",2021.0,250.0,\"Ticino\"],[\"Apartment\",1986.0,88.0,\"Kanton Zug\"],[\"Apartment\",1982.0,59.0,\"Kanton Aargau\"],[\"Apartment\",2021.0,95.0,\"Ticino\"],[\"Apartment\",2016.0,88.0,\"Ticino\"],[\"Apartment\",2016.0,101.0,\"Ticino\"],[\"Apartment\",2016.0,101.0,\"Ticino\"],[\"Apartment\",2016.0,105.0,\"Ticino\"],[\"Apartment\",1900.0,68.0,\"Kanton Basel-Stadt\"],[\"Attic flat\",2008.0,115.0,\"Canton du Valais\"],[\"Apartment\",2020.0,126.0,\"Ticino\"],[\"Apartment\",2022.0,150.0,\"Ticino\"],[\"Terrace flat\",2017.0,115.0,\"Ticino\"],[\"Apartment\",2017.0,130.0,\"Ticino\"],[\"Apartment\",2015.0,122.0,\"Kanton Basel-Landschaft\"],[\"Apartment\",1996.0,86.0,\"Canton de Berne\"],[\"Apartment\",1964.0,120.0,\"Canton de Berne\"],[\"Apartment\",1976.0,85.0,\"Kanton Basel-Landschaft\"],[\"Apartment\",2022.0,70.0,\"Kanton Basel-Landschaft\"],[\"Apartment\",2022.0,88.0,\"Kanton Basel-Landschaft\"],[\"Apartment\",2012.0,133.0,\"Kanton Basel-Landschaft\"],[\"Duplex\",2002.0,104.0,\"Kanton Aargau\"],[\"Apartment\",1960.0,75.0,\"Kanton Basel-Landschaft\"],[\"Apartment\",1980.0,50.0,\"Ticino\"],[\"Apartment\",2015.0,122.0,\"Kanton Basel-Landschaft\"],[\"Apartment\",1996.0,86.0,\"Canton de Berne\"],[\"Apartment\",1964.0,120.0,\"Canton de Berne\"],[\"Apartment\",1976.0,85.0,\"Kanton Basel-Landschaft\"],[\"Apartment\",2022.0,70.0,\"Kanton Basel-Landschaft\"],[\"Apartment\",2022.0,88.0,\"Kanton Basel-Landschaft\"],[\"Apartment\",2012.0,133.0,\"Kanton Basel-Landschaft\"],[\"Duplex\",2002.0,104.0,\"Kanton Aargau\"],[\"Apartment\",1960.0,75.0,\"Kanton Basel-Landschaft\"],[\"Apartment\",1980.0,50.0,\"Ticino\"],[\"Apartment\",1980.0,50.0,\"Ticino\"],[\"Apartment\",1980.0,50.0,\"Ticino\"],[\"Apartment\",1990.0,130.0,\"Ticino\"],[\"Apartment\",2019.0,235.0,\"Ticino\"],[\"Attic flat\",2021.0,235.0,\"Ticino\"],[\"Apartment\",2013.0,140.0,\"Ticino\"],[\"Apartment\",2020.0,32.0,\"Canton du Valais\"],[\"Terrace flat\",2011.0,86.0,\"Canton du Valais\"],[\"Apartment\",2022.0,76.0,\"Ticino\"],[\"Apartment\",1967.0,124.0,\"Ticino\"],[\"Attic flat\",2001.0,160.0,\"Ticino\"],[\"Apartment\",2021.0,166.0,\"Ticino\"],[\"Apartment\",2022.0,83.0,\"Ticino\"],[\"Apartment\",2022.0,102.0,\"Ticino\"],[\"Attic flat\",1976.0,205.0,\"Ticino\"],[\"Apartment\",2017.0,140.0,\"Ticino\"],[\"Apartment\",2010.0,140.0,\"Ticino\"],[\"Apartment\",2012.0,61.0,\"Ticino\"],[\"Duplex\",2012.0,190.0,\"Ticino\"],[\"Apartment\",2022.0,79.0,\"Ticino\"],[\"Apartment\",2022.0,79.0,\"Ticino\"],[\"Apartment\",2019.0,49.0,\"Ticino\"],[\"Apartment\",1990.0,118.0,\"Ticino\"],[\"Apartment\",2020.0,104.0,\"Ticino\"],[\"Apartment\",2022.0,157.0,\"Ticino\"],[\"Apartment\",2022.0,211.0,\"Ticino\"],[\"Duplex\",2021.0,193.0,\"Ticino\"],[\"Duplex\",2021.0,193.0,\"Ticino\"],[\"Attic flat\",2023.0,225.0,\"Ticino\"],[\"Apartment\",2020.0,104.0,\"Ticino\"],[\"Apartment\",2022.0,157.0,\"Ticino\"],[\"Apartment\",2022.0,211.0,\"Ticino\"],[\"Duplex\",2021.0,193.0,\"Ticino\"],[\"Duplex\",2021.0,193.0,\"Ticino\"],[\"Attic flat\",2023.0,225.0,\"Ticino\"],[\"Attic flat\",2022.0,225.0,\"Ticino\"],[\"Apartment\",2016.0,256.0,\"Ticino\"],[\"Apartment\",2022.0,67.0,\"Ticino\"],[\"Apartment\",2017.0,99.0,\"Ticino\"],[\"Apartment\",1980.0,160.0,\"Ticino\"],[\"Apartment\",1973.0,56.0,\"Ticino\"],[\"Apartment\",2023.0,67.0,\"Ticino\"],[\"Apartment\",2023.0,70.0,\"Ticino\"],[\"Apartment\",2023.0,76.0,\"Ticino\"],[\"Apartment\",2023.0,140.0,\"Ticino\"],[\"Apartment\",2001.0,143.0,\"Ticino\"],[\"Apartment\",1985.0,153.0,\"Ticino\"],[\"Apartment\",2021.0,55.0,\"Ticino\"],[\"Apartment\",2021.0,90.0,\"Ticino\"],[\"Apartment\",2021.0,80.0,\"Ticino\"],[\"Apartment\",1971.0,130.0,\"Ticino\"],[\"Apartment\",1970.0,88.0,\"Ticino\"],[\"Apartment\",2018.0,80.0,\"Ticino\"],[\"Duplex\",1980.0,200.0,\"Ticino\"],[\"Apartment\",2000.0,70.0,\"Ticino\"],[\"Apartment\",2021.0,106.0,\"Ticino\"],[\"Apartment\",1986.0,104.0,\"Canton du Valais\"],[\"Apartment\",2002.0,160.0,\"Ticino\"],[\"Attic flat\",2012.0,150.0,\"Ticino\"],[\"Apartment\",2021.0,164.0,\"Ticino\"],[\"Studio\",1985.0,30.0,\"Canton du Valais\"],[\"Studio\",2022.0,31.0,\"Canton du Valais\"],[\"Apartment\",1969.0,93.0,\"Canton du Valais\"],[\"Apartment\",2022.0,62.0,\"Canton du Valais\"],[\"Apartment\",2022.0,68.0,\"Canton du Valais\"],[\"Apartment\",2022.0,74.0,\"Canton du Valais\"],[\"Apartment\",2022.0,53.0,\"Canton du Valais\"],[\"Apartment\",2022.0,85.0,\"Canton du Valais\"],[\"Apartment\",2022.0,85.0,\"Canton du Valais\"],[\"Apartment\",2022.0,87.0,\"Canton du Valais\"],[\"Apartment\",2022.0,85.0,\"Canton du Valais\"],[\"Apartment\",2022.0,85.0,\"Canton du Valais\"],[\"Attic flat\",2022.0,85.0,\"Canton du Valais\"],[\"Apartment\",2022.0,94.0,\"Canton du Valais\"],[\"Apartment\",2022.0,83.0,\"Canton du Valais\"],[\"Apartment\",2022.0,86.0,\"Canton du Valais\"],[\"Apartment\",1984.0,139.0,\"Canton du Valais\"],[\"Apartment\",2006.0,116.0,\"Canton du Valais\"],[\"Apartment\",2022.0,79.0,\"Canton du Valais\"],[\"Apartment\",2022.0,87.0,\"Canton du Valais\"],[\"Apartment\",2022.0,109.0,\"Canton du Valais\"],[\"Loft\",2022.0,99.0,\"Canton du Valais\"],[\"Attic flat\",2022.0,162.0,\"Canton du Valais\"],[\"Attic flat\",2022.0,230.0,\"Canton du Valais\"],[\"Apartment\",1971.0,53.0,\"Canton du Valais\"],[\"Apartment\",2022.0,58.0,\"Canton du Valais\"],[\"Apartment\",1950.0,80.0,\"Canton du Valais\"],[\"Apartment\",2006.0,99.0,\"Canton du Valais\"],[\"Apartment\",1950.0,80.0,\"Canton du Valais\"],[\"Apartment\",2006.0,99.0,\"Canton du Valais\"],[\"Apartment\",2022.0,123.0,\"Canton du Valais\"],[\"Apartment\",2022.0,123.0,\"Canton du Valais\"],[\"Apartment\",2022.0,133.0,\"Canton du Valais\"],[\"Apartment\",1976.0,138.0,\"Canton du Valais\"],[\"Apartment\",1994.0,129.0,\"Canton du Valais\"],[\"Apartment\",2022.0,153.0,\"Canton du Valais\"],[\"Apartment\",1995.0,135.0,\"Canton du Valais\"],[\"Apartment\",1995.0,140.0,\"Canton du Valais\"],[\"Apartment\",1995.0,440.0,\"Canton du Valais\"],[\"Attic flat\",2007.0,144.0,\"Neuch\\u00e2tel\"],[\"Apartment\",2021.0,116.0,\"Ticino\"],[\"Apartment\",2023.0,108.0,\"Ticino\"],[\"Apartment\",2021.0,116.0,\"Ticino\"],[\"Duplex\",2023.0,156.0,\"Ticino\"],[\"Duplex\",1996.0,71.0,\"Kanton Aargau\"],[\"Apartment\",1989.0,90.0,\"Kanton Aargau\"],[\"Apartment\",2022.0,80.0,\"Canton du Valais\"],[\"Apartment\",2022.0,135.0,\"Canton du Valais\"],[\"Apartment\",2022.0,159.0,\"Canton du Valais\"],[\"Duplex\",2003.0,119.0,\"Kanton Z\\u00fcrich\"],[\"Roof flat\",1984.0,112.0,\"Kanton Z\\u00fcrich\"],[\"Apartment\",2013.0,97.0,\"Kanton Aargau\"],[\"Duplex\",2016.0,170.0,\"Kanton Aargau\"],[\"Duplex\",2019.0,250.0,\"Ticino\"],[\"Duplex\",1825.0,120.0,\"Canton du Valais\"],[\"Apartment\",2017.0,158.0,\"Neuch\\u00e2tel\"],[\"Apartment\",2022.0,56.0,\"Kanton Thurgau\"],[\"Apartment\",2022.0,115.0,\"Kanton Thurgau\"],[\"Apartment\",1988.0,90.0,\"Kanton St. Gallen\"],[\"Apartment\",1960.0,45.0,\"Canton du Valais\"],[\"Attic flat\",2024.0,276.0,\"Ticino\"],[\"Duplex\",2012.0,246.0,\"Gen\\u00e8ve\"],[\"Apartment\",1960.0,45.0,\"Canton du Valais\"],[\"Attic flat\",2024.0,276.0,\"Ticino\"],[\"Duplex\",2012.0,246.0,\"Gen\\u00e8ve\"],[\"Apartment\",1970.0,81.0,\"Gen\\u00e8ve\"],[\"Roof flat\",1988.0,110.0,\"Canton de Berne\"],[\"Roof flat\",1988.0,110.0,\"Canton de Berne\"],[\"Apartment\",2022.0,89.0,\"Kanton St. Gallen\"],[\"Apartment\",2022.0,127.0,\"Kanton St. Gallen\"],[\"Apartment\",2022.0,127.0,\"Kanton St. Gallen\"],[\"Apartment\",2008.0,130.0,\"Ticino\"],[\"Apartment\",1960.0,110.0,\"Ticino\"],[\"Apartment\",2016.0,130.0,\"Canton de Fribourg\"],[\"Apartment\",2022.0,130.0,\"Canton du Valais\"],[\"Apartment\",2022.0,103.0,\"Canton du Valais\"],[\"Apartment\",2022.0,122.0,\"Canton du Valais\"],[\"Apartment\",2022.0,122.0,\"Canton du Valais\"],[\"Apartment\",2009.0,145.0,\"Canton du Valais\"],[\"Apartment\",2022.0,134.0,\"Canton du Valais\"],[\"Apartment\",2022.0,134.0,\"Canton du Valais\"],[\"Duplex\",2022.0,184.0,\"Canton du Valais\"],[\"Duplex\",2023.0,193.0,\"Canton du Valais\"],[\"Apartment\",1981.0,61.0,\"Canton de Vaud\"],[\"Studio\",1969.0,40.0,\"Canton du Valais\"],[\"Duplex\",1988.0,155.0,\"Kanton Zug\"],[\"Apartment\",2019.0,55.0,\"Ticino\"],[\"Attic\",1920.0,65.0,\"Canton du Valais\"],[\"Apartment\",2015.0,127.0,\"Kanton Solothurn\"],[\"Apartment\",2012.0,133.0,\"Neuch\\u00e2tel\"],[\"Attic flat\",2017.0,152.0,\"Neuch\\u00e2tel\"],[\"Apartment\",2021.0,117.0,\"Canton de Fribourg\"],[\"Apartment\",2003.0,144.0,\"Canton de Vaud\"],[\"Apartment\",2016.0,122.0,\"Canton de Fribourg\"],[\"Apartment\",2016.0,122.0,\"Canton de Fribourg\"],[\"Duplex\",1996.0,125.0,\"Canton de Fribourg\"],[\"Duplex\",1996.0,169.0,\"Canton de Fribourg\"],[\"Apartment\",2021.0,117.0,\"Canton de Fribourg\"],[\"Apartment\",2003.0,144.0,\"Canton de Vaud\"],[\"Apartment\",2016.0,122.0,\"Canton de Fribourg\"],[\"Apartment\",2016.0,122.0,\"Canton de Fribourg\"],[\"Duplex\",1996.0,125.0,\"Canton de Fribourg\"],[\"Duplex\",1996.0,169.0,\"Canton de Fribourg\"],[\"Apartment\",1958.0,71.0,\"Neuch\\u00e2tel\"],[\"Apartment\",1994.0,100.0,\"Canton du Valais\"],[\"Apartment\",2003.0,62.0,\"Ticino\"],[\"Terrace flat\",1978.0,50.0,\"Ticino\"],[\"Apartment\",2008.0,72.0,\"Ticino\"],[\"Apartment\",1968.0,70.0,\"Ticino\"],[\"Apartment\",2019.0,104.0,\"Ticino\"],[\"Apartment\",2022.0,91.0,\"Ticino\"],[\"Apartment\",2018.0,93.0,\"Ticino\"],[\"Apartment\",2007.0,95.0,\"Ticino\"],[\"Apartment\",2005.0,100.0,\"Ticino\"],[\"Apartment\",2004.0,135.0,\"Ticino\"],[\"Apartment\",2012.0,107.0,\"Ticino\"],[\"Apartment\",2022.0,175.0,\"Ticino\"],[\"Terrace flat\",1978.0,111.0,\"Ticino\"],[\"Terrace flat\",1978.0,160.0,\"Ticino\"],[\"Apartment\",2016.0,106.0,\"Ticino\"],[\"Apartment\",1976.0,160.0,\"Ticino\"],[\"Terrace flat\",2019.0,253.0,\"Ticino\"],[\"Apartment\",2014.0,100.0,\"Ticino\"],[\"Apartment\",1980.0,120.0,\"Ticino\"],[\"Apartment\",2017.0,87.0,\"Kanton Z\\u00fcrich\"],[\"Apartment\",2014.0,100.0,\"Ticino\"],[\"Apartment\",1980.0,120.0,\"Ticino\"],[\"Apartment\",2017.0,87.0,\"Kanton Z\\u00fcrich\"],[\"Apartment\",2020.0,68.0,\"Ticino\"],[\"Apartment\",2020.0,68.0,\"Ticino\"],[\"Apartment\",2020.0,68.0,\"Ticino\"],[\"Apartment\",1994.0,128.0,\"Ticino\"],[\"Apartment\",1990.0,115.0,\"Ticino\"],[\"Apartment\",1970.0,98.0,\"Ticino\"],[\"Apartment\",2018.0,139.0,\"Ticino\"],[\"Apartment\",2019.0,153.0,\"Ticino\"],[\"Apartment\",1980.0,130.0,\"Ticino\"],[\"Apartment\",2015.0,92.0,\"Ticino\"],[\"Apartment\",2014.0,164.0,\"Ticino\"],[\"Apartment\",2007.0,126.0,\"Ticino\"],[\"Apartment\",1990.0,135.0,\"Ticino\"],[\"Apartment\",1970.0,208.0,\"Ticino\"],[\"Apartment\",2000.0,100.0,\"Ticino\"],[\"Duplex\",1992.0,244.0,\"Ticino\"],[\"Apartment\",2001.0,150.0,\"Ticino\"],[\"Apartment\",1975.0,176.0,\"Ticino\"],[\"Duplex\",2005.0,160.0,\"Ticino\"],[\"Apartment\",2012.0,161.0,\"Ticino\"],[\"Duplex\",2005.0,160.0,\"Ticino\"],[\"Apartment\",2012.0,161.0,\"Ticino\"],[\"Apartment\",2022.0,400.0,\"Ticino\"],[\"Apartment\",2015.0,136.0,\"Ticino\"],[\"Apartment\",1978.0,80.0,\"Ticino\"],[\"Apartment\",2001.0,150.0,\"Ticino\"],[\"Apartment\",2020.0,115.0,\"Ticino\"],[\"Apartment\",2020.0,125.0,\"Ticino\"],[\"Apartment\",2015.0,50.0,\"Ticino\"],[\"Apartment\",2009.0,100.0,\"Ticino\"],[\"Apartment\",2008.0,157.0,\"Ticino\"],[\"Apartment\",2002.0,198.0,\"Ticino\"],[\"Apartment\",2012.0,130.0,\"Ticino\"],[\"Apartment\",2016.0,60.0,\"Ticino\"],[\"Apartment\",2016.0,60.0,\"Ticino\"],[\"Attic flat\",2010.0,174.0,\"Ticino\"],[\"Apartment\",2022.0,215.0,\"Ticino\"],[\"Apartment\",2022.0,263.0,\"Ticino\"],[\"Apartment\",2006.0,70.0,\"Ticino\"],[\"Apartment\",2021.0,125.0,\"Ticino\"],[\"Duplex\",2021.0,116.0,\"Ticino\"],[\"Apartment\",1966.0,105.0,\"Canton de Vaud\"],[\"Apartment\",2022.0,61.0,\"Canton du Valais\"],[\"Apartment\",2022.0,62.0,\"Canton du Valais\"],[\"Apartment\",1971.0,44.0,\"Ticino\"],[\"Apartment\",2015.0,68.0,\"Ticino\"],[\"Apartment\",1974.0,120.0,\"Ticino\"],[\"Attic flat\",2015.0,200.0,\"Ticino\"],[\"Apartment\",2008.0,200.0,\"Ticino\"],[\"Apartment\",1980.0,45.0,\"Canton du Valais\"],[\"Apartment\",2022.0,64.0,\"Ticino\"],[\"Apartment\",2015.0,68.0,\"Ticino\"],[\"Apartment\",1974.0,120.0,\"Ticino\"],[\"Attic flat\",2015.0,200.0,\"Ticino\"],[\"Apartment\",2008.0,200.0,\"Ticino\"],[\"Apartment\",1980.0,45.0,\"Canton du Valais\"],[\"Apartment\",2022.0,64.0,\"Ticino\"],[\"Attic flat\",2022.0,130.0,\"Ticino\"],[\"Attic flat\",2012.0,187.0,\"Ticino\"],[\"Attic flat\",2012.0,187.0,\"Ticino\"],[\"Apartment\",2016.0,83.0,\"Ticino\"],[\"Apartment\",2017.0,104.0,\"Ticino\"],[\"Apartment\",2016.0,90.0,\"Ticino\"],[\"Apartment\",2022.0,42.0,\"Ticino\"],[\"Apartment\",2020.0,93.0,\"Ticino\"],[\"Apartment\",2019.0,143.0,\"Ticino\"],[\"Apartment\",2020.0,178.0,\"Ticino\"],[\"Apartment\",2019.0,152.0,\"Ticino\"],[\"Apartment\",2017.0,66.0,\"Ticino\"],[\"Apartment\",1970.0,102.0,\"Ticino\"],[\"Apartment\",2006.0,105.0,\"Ticino\"],[\"Apartment\",2005.0,85.0,\"Ticino\"],[\"Apartment\",2017.0,144.0,\"Ticino\"],[\"Terrace flat\",1975.0,140.0,\"Ticino\"],[\"Apartment\",2014.0,142.0,\"Ticino\"],[\"Apartment\",2019.0,257.0,\"Ticino\"],[\"Apartment\",2019.0,243.0,\"Ticino\"],[\"Attic flat\",2020.0,150.0,\"Ticino\"],[\"Apartment\",2019.0,230.0,\"Ticino\"],[\"Apartment\",2005.0,60.0,\"Canton de Vaud\"],[\"Apartment\",1980.0,60.0,\"Canton du Valais\"],[\"Duplex\",2010.0,300.0,\"Canton de Vaud\"],[\"Apartment\",2012.0,137.0,\"Ticino\"],[\"Apartment\",2011.0,195.0,\"Ticino\"],[\"Apartment\",2005.0,60.0,\"Canton de Vaud\"],[\"Apartment\",1980.0,60.0,\"Canton du Valais\"],[\"Duplex\",2010.0,300.0,\"Canton de Vaud\"],[\"Apartment\",2012.0,137.0,\"Ticino\"],[\"Apartment\",2011.0,195.0,\"Ticino\"],[\"Apartment\",2004.0,265.0,\"Ticino\"],[\"Apartment\",2007.0,269.0,\"Ticino\"],[\"Apartment\",2021.0,253.0,\"Ticino\"],[\"Apartment\",1986.0,82.0,\"Canton de Vaud\"],[\"Apartment\",2014.0,80.0,\"Canton de Vaud\"],[\"Apartment\",2008.0,104.0,\"Canton de Vaud\"],[\"Apartment\",2019.0,85.0,\"Canton de Vaud\"],[\"Apartment\",2014.0,140.0,\"Canton de Vaud\"],[\"Apartment\",2003.0,180.0,\"Canton de Vaud\"],[\"Apartment\",2009.0,219.0,\"Canton de Vaud\"],[\"Apartment\",1995.0,133.0,\"Ticino\"],[\"Apartment\",2022.0,92.0,\"Canton du Valais\"],[\"Apartment\",2022.0,104.0,\"Canton du Valais\"],[\"Apartment\",2020.0,104.0,\"Canton du Valais\"],[\"Apartment\",2015.0,140.0,\"Ticino\"],[\"Apartment\",2015.0,192.0,\"Ticino\"],[\"Apartment\",2015.0,285.0,\"Ticino\"],[\"Apartment\",1988.0,141.0,\"Kanton Aargau\"],[\"Roof flat\",1996.0,75.0,\"Kanton Basel-Landschaft\"],[\"Apartment\",1982.0,91.0,\"Ticino\"],[\"Apartment\",2010.0,120.0,\"Ticino\"],[\"Apartment\",1967.0,110.0,\"Canton du Valais\"],[\"Apartment\",1995.0,133.0,\"Ticino\"],[\"Apartment\",2022.0,92.0,\"Canton du Valais\"],[\"Apartment\",2022.0,104.0,\"Canton du Valais\"],[\"Apartment\",2020.0,104.0,\"Canton du Valais\"],[\"Apartment\",2015.0,140.0,\"Ticino\"],[\"Apartment\",2015.0,192.0,\"Ticino\"],[\"Apartment\",2015.0,285.0,\"Ticino\"],[\"Apartment\",1988.0,141.0,\"Kanton Aargau\"],[\"Roof flat\",1996.0,75.0,\"Kanton Basel-Landschaft\"],[\"Apartment\",1982.0,91.0,\"Ticino\"],[\"Apartment\",2010.0,120.0,\"Ticino\"],[\"Apartment\",1967.0,110.0,\"Canton du Valais\"],[\"Duplex\",1974.0,190.0,\"Canton du Valais\"],[\"Studio\",1975.0,28.0,\"Canton du Valais\"],[\"Apartment\",1983.0,57.0,\"Canton du Valais\"],[\"Apartment\",2022.0,92.0,\"Canton du Valais\"],[\"Apartment\",2022.0,91.0,\"Canton du Valais\"],[\"Apartment\",2021.0,127.0,\"Ticino\"],[\"Apartment\",2015.0,182.0,\"Ticino\"],[\"Apartment\",2014.0,135.0,\"Ticino\"],[\"Apartment\",2021.0,180.0,\"Ticino\"],[\"Attic flat\",2022.0,201.0,\"Ticino\"],[\"Apartment\",2008.0,182.0,\"Ticino\"],[\"Attic flat\",2021.0,269.0,\"Ticino\"],[\"Apartment\",2009.0,126.0,\"Gen\\u00e8ve\"],[\"Apartment\",1970.0,133.0,\"Gen\\u00e8ve\"],[\"Apartment\",1971.0,79.0,\"Kanton Luzern\"],[\"Apartment\",1990.0,129.0,\"Gen\\u00e8ve\"],[\"Apartment\",2021.0,95.0,\"Ticino\"],[\"Attic flat\",2017.0,99.0,\"Ticino\"],[\"Apartment\",1971.0,79.0,\"Kanton Luzern\"],[\"Apartment\",1990.0,129.0,\"Gen\\u00e8ve\"],[\"Apartment\",2021.0,95.0,\"Ticino\"],[\"Attic flat\",2017.0,99.0,\"Ticino\"],[\"Apartment\",1900.0,120.0,\"Ticino\"],[\"Apartment\",2017.0,167.0,\"Ticino\"],[\"Apartment\",2013.0,215.0,\"Ticino\"],[\"Apartment\",2023.0,89.0,\"Kanton Graub\\u00fcnden\"],[\"Apartment\",2022.0,113.0,\"Kanton Graub\\u00fcnden\"],[\"Apartment\",2023.0,113.0,\"Kanton Graub\\u00fcnden\"],[\"Apartment\",2017.0,82.0,\"Ticino\"],[\"Attic flat\",2018.0,142.0,\"Ticino\"],[\"Apartment\",1978.0,220.0,\"Ticino\"],[\"Apartment\",2021.0,105.0,\"Canton de Vaud\"],[\"Apartment\",2021.0,105.0,\"Canton de Vaud\"],[\"Apartment\",1978.0,220.0,\"Ticino\"],[\"Apartment\",2021.0,105.0,\"Canton de Vaud\"],[\"Apartment\",2021.0,105.0,\"Canton de Vaud\"],[\"Apartment\",1974.0,83.0,\"Kanton Solothurn\"],[\"Apartment\",1960.0,78.0,\"Kanton St. Gallen\"],[\"Apartment\",1960.0,61.0,\"Kanton St. Gallen\"],[\"Apartment\",2022.0,64.0,\"Canton du Valais\"],[\"Apartment\",2022.0,67.0,\"Canton du Valais\"],[\"Apartment\",2022.0,62.0,\"Canton du Valais\"],[\"Apartment\",2022.0,69.0,\"Canton du Valais\"],[\"Apartment\",2022.0,127.0,\"Canton du Valais\"],[\"Attic flat\",2021.0,139.0,\"Canton du Valais\"],[\"Apartment\",2022.0,63.0,\"Ticino\"],[\"Apartment\",2022.0,86.0,\"Ticino\"],[\"Apartment\",2022.0,86.0,\"Ticino\"],[\"Apartment\",2022.0,106.0,\"Ticino\"],[\"Duplex\",2016.0,83.0,\"Ticino\"],[\"Apartment\",2016.0,112.0,\"Ticino\"],[\"Apartment\",2016.0,117.0,\"Ticino\"],[\"Apartment\",2019.0,124.0,\"Ticino\"],[\"Attic flat\",2010.0,76.0,\"Canton de Vaud\"],[\"Duplex\",1995.0,95.0,\"Kanton Solothurn\"],[\"Apartment\",1968.0,64.0,\"Kanton St. Gallen\"],[\"Apartment\",2007.0,320.0,\"Ticino\"],[\"Apartment\",2011.0,160.0,\"Ticino\"],[\"Apartment\",2008.0,200.0,\"Ticino\"],[\"Apartment\",2009.0,91.0,\"Canton du Valais\"],[\"Apartment\",2008.0,100.0,\"Canton du Valais\"],[\"Roof flat\",1985.0,110.0,\"Kanton Graub\\u00fcnden\"],[\"Roof flat\",1983.0,170.0,\"Kanton Thurgau\"],[\"Attic flat\",2023.0,94.0,\"Kanton Schwyz\"],[\"Attic flat\",2023.0,112.0,\"Kanton Schwyz\"],[\"Apartment\",2004.0,40.0,\"Ticino\"],[\"Apartment\",2004.0,130.0,\"Ticino\"],[\"Apartment\",2004.0,130.0,\"Ticino\"],[\"Apartment\",1969.0,100.0,\"Canton du Valais\"],[\"Apartment\",1975.0,88.0,\"Canton du Valais\"],[\"Apartment\",1963.0,115.0,\"Canton du Valais\"],[\"Apartment\",1970.0,92.0,\"Canton du Valais\"],[\"Terrace flat\",2018.0,200.0,\"Canton du Valais\"],[\"Apartment\",2013.0,49.0,\"Canton du Valais\"],[\"Apartment\",2022.0,60.0,\"Canton du Valais\"],[\"Apartment\",2022.0,60.0,\"Canton du Valais\"],[\"Apartment\",2021.0,77.0,\"Canton du Valais\"],[\"Apartment\",1985.0,94.0,\"Canton du Valais\"],[\"Apartment\",2022.0,72.0,\"Canton du Valais\"],[\"Apartment\",2022.0,72.0,\"Canton du Valais\"],[\"Apartment\",2021.0,88.0,\"Canton du Valais\"],[\"Apartment\",1995.0,95.0,\"Canton du Valais\"],[\"Apartment\",2020.0,61.0,\"Canton du Valais\"],[\"Attic flat\",2022.0,102.0,\"Canton du Valais\"],[\"Apartment\",2021.0,122.0,\"Canton du Valais\"],[\"Apartment\",1995.0,105.0,\"Canton du Valais\"],[\"Attic flat\",2022.0,126.0,\"Canton du Valais\"],[\"Apartment\",2011.0,145.0,\"Canton du Valais\"],[\"Apartment\",1903.0,140.0,\"Canton du Valais\"],[\"Apartment\",2021.0,126.0,\"Canton du Valais\"],[\"Attic flat\",1994.0,212.0,\"Canton du Valais\"],[\"Attic flat\",1985.0,217.0,\"Canton du Valais\"],[\"Apartment\",1996.0,107.0,\"Kanton Solothurn\"],[\"Apartment\",2021.0,136.0,\"Ticino\"],[\"Attic flat\",2021.0,118.0,\"Ticino\"],[\"Apartment\",2020.0,120.0,\"Ticino\"],[\"Apartment\",2022.0,155.0,\"Canton de Vaud\"],[\"Apartment\",2021.0,126.0,\"Canton du Valais\"],[\"Attic flat\",1994.0,212.0,\"Canton du Valais\"],[\"Attic flat\",1985.0,217.0,\"Canton du Valais\"],[\"Apartment\",1996.0,107.0,\"Kanton Solothurn\"],[\"Apartment\",2021.0,136.0,\"Ticino\"],[\"Attic flat\",2021.0,118.0,\"Ticino\"],[\"Apartment\",2020.0,120.0,\"Ticino\"],[\"Apartment\",2022.0,155.0,\"Canton de Vaud\"],[\"Apartment\",2022.0,153.0,\"Canton de Vaud\"],[\"Apartment\",1990.0,100.0,\"Canton du Valais\"],[\"Apartment\",1960.0,65.0,\"Canton du Valais\"],[\"Apartment\",1986.0,106.0,\"Kanton St. Gallen\"],[\"Apartment\",2015.0,145.0,\"Ticino\"],[\"Apartment\",2023.0,68.0,\"Kanton St. Gallen\"],[\"Apartment\",2014.0,104.0,\"Canton du Valais\"],[\"Apartment\",1980.0,80.0,\"Ticino\"],[\"Apartment\",2014.0,87.0,\"Ticino\"],[\"Apartment\",1971.0,81.0,\"Kanton Basel-Landschaft\"],[\"Apartment\",1994.0,53.0,\"Canton du Valais\"],[\"Furnished dwelling\",1974.0,80.0,\"Canton du Valais\"],[\"Attic flat\",1985.0,66.0,\"Ticino\"],[\"Attic flat\",1985.0,134.0,\"Ticino\"],[\"Duplex\",2001.0,95.0,\"Kanton Z\\u00fcrich\"],[\"Apartment\",2022.0,35.0,\"Canton du Valais\"],[\"Apartment\",2022.0,42.0,\"Canton du Valais\"],[\"Apartment\",2022.0,53.0,\"Canton du Valais\"],[\"Studio\",2022.0,42.0,\"Canton du Valais\"],[\"Apartment\",2022.0,66.0,\"Canton du Valais\"],[\"Apartment\",2022.0,70.0,\"Canton du Valais\"],[\"Apartment\",1980.0,80.0,\"Ticino\"],[\"Apartment\",2014.0,87.0,\"Ticino\"],[\"Apartment\",1971.0,81.0,\"Kanton Basel-Landschaft\"],[\"Apartment\",1994.0,53.0,\"Canton du Valais\"],[\"Furnished dwelling\",1974.0,80.0,\"Canton du Valais\"],[\"Attic flat\",1985.0,66.0,\"Ticino\"],[\"Attic flat\",1985.0,134.0,\"Ticino\"],[\"Duplex\",2001.0,95.0,\"Kanton Z\\u00fcrich\"],[\"Apartment\",2022.0,35.0,\"Canton du Valais\"],[\"Apartment\",2022.0,42.0,\"Canton du Valais\"],[\"Apartment\",2022.0,53.0,\"Canton du Valais\"],[\"Studio\",2022.0,42.0,\"Canton du Valais\"],[\"Apartment\",2022.0,66.0,\"Canton du Valais\"],[\"Apartment\",2022.0,70.0,\"Canton du Valais\"],[\"Apartment\",2022.0,61.0,\"Canton du Valais\"],[\"Apartment\",2022.0,70.0,\"Canton du Valais\"],[\"Attic flat\",2022.0,60.0,\"Canton du Valais\"],[\"Apartment\",2022.0,87.0,\"Canton du Valais\"],[\"Apartment\",2022.0,97.0,\"Canton du Valais\"],[\"Row house\",1994.0,140.0,\"Kanton Z\\u00fcrich\"],[\"Multi-family house\",1949.0,359.0,\"Kanton Basel-Stadt\"],[\"Villa\",1923.0,168.0,\"Kanton Basel-Stadt\"],[\"Single house\",1950.0,108.0,\"Canton de Berne\"],[\"Multi-family house\",1967.0,195.0,\"Kanton Aargau\"],[\"Single house\",1926.0,145.0,\"Kanton Aargau\"],[\"Single house\",2022.0,200.0,\"Kanton Aargau\"],[\"Single house\",2022.0,200.0,\"Kanton Glarus\"],[\"Single house\",2021.0,160.0,\"Kanton Aargau\"],[\"Multi-family house\",1923.0,190.0,\"Kanton Schwyz\"],[\"Single house\",2010.0,560.0,\"Neuch\\u00e2tel\"],[\"Single house\",2022.0,196.0,\"Canton de Fribourg\"],[\"Single house\",2023.0,210.0,\"Kanton Aargau\"],[\"Single house\",2023.0,210.0,\"Kanton Aargau\"],[\"Row house\",2022.0,167.0,\"Kanton Solothurn\"],[\"Bifamiliar house\",2022.0,248.0,\"Kanton Aargau\"],[\"Row house\",2022.0,167.0,\"Kanton Solothurn\"],[\"Bifamiliar house\",2022.0,248.0,\"Kanton Aargau\"],[\"Single house\",1982.0,194.0,\"Gen\\u00e8ve\"],[\"Single house\",1986.0,245.0,\"Kanton Luzern\"],[\"Multi-family house\",1900.0,308.0,\"Kanton Solothurn\"],[\"Multi-family house\",1912.0,666.0,\"Kanton Z\\u00fcrich\"],[\"Multi-family house\",1895.0,350.0,\"Kanton Z\\u00fcrich\"],[\"Single house\",1986.0,220.0,\"Ticino\"],[\"Single house\",1983.0,164.0,\"Ticino\"],[\"Row house\",1984.0,140.0,\"Ticino\"],[\"Chalet\",1950.0,130.0,\"Ticino\"],[\"Row house\",2015.0,163.0,\"Kanton Uri\"],[\"Single house\",1984.0,171.0,\"Kanton St. Gallen\"],[\"Chalet\",2006.0,220.0,\"Canton du Valais\"],[\"Chalet\",2016.0,225.0,\"Canton du Valais\"],[\"Bifamiliar house\",1982.0,155.0,\"Kanton Aargau\"],[\"Single house\",2021.0,181.0,\"Ticino\"],[\"Single house\",1960.0,202.0,\"Ticino\"],[\"Single house\",1990.0,115.0,\"Ticino\"],[\"Single house\",1993.0,450.0,\"Jura\"],[\"Single house\",1996.0,293.0,\"Kanton St. Gallen\"],[\"Row house\",1988.0,150.0,\"Kanton Aargau\"],[\"Single house\",1974.0,240.0,\"Ticino\"],[\"Villa\",1900.0,537.0,\"Ticino\"],[\"Row house\",2000.0,198.0,\"Kanton Z\\u00fcrich\"],[\"Chalet\",2008.0,195.0,\"Ticino\"],[\"Row house\",2000.0,198.0,\"Kanton Z\\u00fcrich\"],[\"Chalet\",2008.0,195.0,\"Ticino\"],[\"Row house\",1993.0,157.0,\"Kanton Aargau\"],[\"Single house\",2002.0,189.0,\"Kanton Basel-Landschaft\"],[\"Single house\",2022.0,173.0,\"Ticino\"],[\"Single house\",2022.0,175.0,\"Ticino\"],[\"Villa\",1970.0,484.0,\"Ticino\"],[\"Villa\",1987.0,363.0,\"Ticino\"],[\"Bifamiliar house\",2011.0,177.0,\"Kanton Aargau\"],[\"Single house\",2009.0,152.0,\"Kanton Z\\u00fcrich\"],[\"Single house\",2017.0,430.0,\"Kanton Aargau\"],[\"Terrace house\",1976.0,145.0,\"Canton de Vaud\"],[\"Single house\",1859.0,112.0,\"Kanton Z\\u00fcrich\"],[\"Single house\",2006.0,144.0,\"Ticino\"],[\"Single house\",1999.0,150.0,\"Ticino\"],[\"Single house\",2010.0,228.0,\"Ticino\"],[\"Chalet\",1900.0,260.0,\"Canton du Valais\"],[\"Single house\",1870.0,140.0,\"Canton de Fribourg\"],[\"Villa\",1980.0,360.0,\"Ticino\"],[\"Single house\",1870.0,140.0,\"Canton de Fribourg\"],[\"Villa\",1980.0,360.0,\"Ticino\"],[\"Villa\",2020.0,156.0,\"Canton du Valais\"],[\"Single house\",1960.0,180.0,\"Canton de Vaud\"],[\"Single house\",1990.0,317.0,\"Jura\"],[\"Chalet\",2012.0,356.0,\"Canton du Valais\"],[\"Bifamiliar house\",1984.0,222.0,\"Canton de Vaud\"],[\"Single house\",2007.0,185.0,\"Canton de Fribourg\"],[\"Single house\",1976.0,295.0,\"Ticino\"],[\"Single house\",1979.0,178.0,\"Kanton Solothurn\"],[\"Single house\",1994.0,150.0,\"Kanton Luzern\"],[\"Bifamiliar house\",2022.0,132.0,\"Canton de Vaud\"],[\"Single house\",1990.0,1300.0,\"Kanton Solothurn\"],[\"Bifamiliar house\",1996.0,193.0,\"Kanton Aargau\"],[\"Bifamiliar house\",1924.0,127.0,\"Kanton Aargau\"],[\"Single house\",2003.0,248.0,\"Canton de Vaud\"],[\"Multi-family house\",1932.0,192.0,\"Kanton Solothurn\"],[\"Single house\",1982.0,122.0,\"Kanton Solothurn\"],[\"Single house\",1971.0,125.0,\"Kanton Thurgau\"],[\"Single house\",2021.0,170.0,\"Canton de Fribourg\"],[\"Villa\",2021.0,175.0,\"Canton de Fribourg\"],[\"Single house\",2021.0,170.0,\"Canton de Fribourg\"],[\"Row house\",1992.0,170.0,\"Kanton Z\\u00fcrich\"],[\"Single house\",1981.0,145.0,\"Kanton Z\\u00fcrich\"],[\"Single house\",1740.0,305.0,\"Kanton St. Gallen\"],[\"Single house\",1987.0,155.0,\"Jura\"],[\"Bifamiliar house\",2007.0,136.0,\"Kanton Basel-Landschaft\"],[\"Villa\",2018.0,222.0,\"Ticino\"],[\"Single house\",1869.0,600.0,\"Canton de Vaud\"],[\"Single house\",1981.0,145.0,\"Kanton Z\\u00fcrich\"],[\"Single house\",1740.0,305.0,\"Kanton St. Gallen\"],[\"Single house\",1987.0,155.0,\"Jura\"],[\"Bifamiliar house\",2007.0,136.0,\"Kanton Basel-Landschaft\"],[\"Villa\",2018.0,222.0,\"Ticino\"],[\"Single house\",1869.0,600.0,\"Canton de Vaud\"],[\"Row house\",2000.0,180.0,\"Gen\\u00e8ve\"],[\"Row house\",1912.0,120.0,\"Kanton Glarus\"],[\"Single house\",2008.0,160.0,\"Kanton Z\\u00fcrich\"],[\"Single house\",1931.0,220.0,\"Kanton Aargau\"],[\"Single house\",2001.0,173.0,\"Kanton Z\\u00fcrich\"],[\"Single house\",2023.0,180.0,\"Kanton Basel-Landschaft\"],[\"Single house\",1994.0,234.0,\"Kanton Solothurn\"],[\"Chalet\",2022.0,560.0,\"Canton de Vaud\"],[\"Single house\",1977.0,155.0,\"Kanton Schaffhausen\"],[\"Single house\",2023.0,190.0,\"Canton de Berne\"],[\"Row house\",1989.0,123.0,\"Kanton Aargau\"],[\"Bifamiliar house\",1995.0,172.0,\"Kanton Z\\u00fcrich\"],[\"Row house\",2018.0,147.0,\"Kanton Aargau\"],[\"Farm house\",1900.0,732.0,\"Kanton Solothurn\"],[\"Single house\",1783.0,365.0,\"Kanton Aargau\"],[\"Single house\",2003.0,139.0,\"Ticino\"],[\"Villa\",1967.0,300.0,\"Ticino\"],[\"Single house\",1974.0,262.0,\"Kanton St. Gallen\"],[\"Bifamiliar house\",1973.0,153.0,\"Kanton Aargau\"],[\"Chalet\",1939.0,350.0,\"Kanton Graub\\u00fcnden\"],[\"Single house\",1974.0,113.0,\"Kanton Z\\u00fcrich\"],[\"Single house\",1962.0,103.0,\"Kanton Luzern\"],[\"Single house\",1940.0,113.0,\"Kanton Graub\\u00fcnden\"],[\"Chalet\",2010.0,560.0,\"Neuch\\u00e2tel\"],[\"Single house\",2010.0,560.0,\"Neuch\\u00e2tel\"],[\"Bifamiliar house\",1830.0,230.0,\"Canton de Vaud\"],[\"Single house\",1950.0,193.0,\"Kanton Basel-Landschaft\"],[\"Single house\",1940.0,113.0,\"Kanton Graub\\u00fcnden\"],[\"Chalet\",2010.0,560.0,\"Neuch\\u00e2tel\"],[\"Single house\",2010.0,560.0,\"Neuch\\u00e2tel\"],[\"Bifamiliar house\",1830.0,230.0,\"Canton de Vaud\"],[\"Single house\",1950.0,193.0,\"Kanton Basel-Landschaft\"],[\"Bifamiliar house\",2022.0,234.0,\"Canton de Vaud\"],[\"Single house\",2004.0,400.0,\"Canton de Vaud\"],[\"Single house\",2022.0,165.0,\"Kanton Aargau\"],[\"Chalet\",1975.0,200.0,\"Canton du Valais\"],[\"Villa\",1974.0,310.0,\"Ticino\"],[\"Bifamiliar house\",2022.0,160.0,\"Ticino\"],[\"Single house\",2004.0,190.0,\"Ticino\"],[\"Villa\",1982.0,290.0,\"Ticino\"],[\"Villa\",2005.0,302.0,\"Ticino\"],[\"Villa\",1989.0,550.0,\"Ticino\"],[\"Single house\",1977.0,250.0,\"Ticino\"],[\"Single house\",1975.0,209.0,\"Kanton Luzern\"],[\"Row house\",1999.0,151.0,\"Kanton Aargau\"],[\"Villa\",2021.0,170.0,\"Ticino\"],[\"Single house\",1971.0,193.0,\"Kanton Luzern\"],[\"Villa\",2022.0,145.0,\"Ticino\"],[\"Single house\",1715.0,240.0,\"Kanton Z\\u00fcrich\"],[\"Single house\",2023.0,170.0,\"Canton de Berne\"],[\"Villa\",2022.0,400.0,\"Ticino\"],[\"Row house\",2005.0,150.0,\"Canton de Vaud\"],[\"Single house\",1782.0,600.0,\"Canton de Vaud\"],[\"Villa\",2020.0,695.0,\"Ticino\"],[\"Villa\",1977.0,430.0,\"Ticino\"],[\"Villa\",1969.0,580.0,\"Canton de Vaud\"],[\"Single house\",2022.0,160.0,\"Kanton Thurgau\"],[\"Single house\",2007.0,170.0,\"Kanton Luzern\"],[\"Single house\",1987.0,450.0,\"Kanton Schaffhausen\"],[\"Single house\",2022.0,160.0,\"Kanton Thurgau\"],[\"Single house\",2007.0,170.0,\"Kanton Luzern\"],[\"Single house\",1987.0,450.0,\"Kanton Schaffhausen\"],[\"Single house\",1996.0,124.0,\"Kanton Solothurn\"],[\"Single house\",2006.0,250.0,\"Canton de Vaud\"],[\"Row house\",2023.0,200.0,\"Kanton Glarus\"],[\"Single house\",1996.0,220.0,\"Kanton Aargau\"],[\"Single house\",1996.0,341.0,\"Kanton Graub\\u00fcnden\"],[\"Multi-family house\",1969.0,341.0,\"Kanton Graub\\u00fcnden\"],[\"Bifamiliar house\",1980.0,200.0,\"Kanton Zug\"],[\"Villa\",2010.0,443.0,\"Ticino\"],[\"Chalet\",2005.0,104.0,\"Canton de Vaud\"],[\"Chalet\",2022.0,146.0,\"Canton du Valais\"],[\"Villa\",1965.0,115.0,\"Ticino\"],[\"Single house\",2003.0,288.0,\"Ticino\"],[\"Single house\",1968.0,200.0,\"Kanton Z\\u00fcrich\"],[\"Villa\",1965.0,250.0,\"Ticino\"],[\"Multi-family house\",2022.0,650.0,\"Ticino\"],[\"Bifamiliar house\",2023.0,145.0,\"Kanton Basel-Landschaft\"],[\"Villa\",2023.0,250.0,\"Kanton Basel-Landschaft\"],[\"Single house\",1980.0,270.0,\"Kanton Aargau\"],[\"Row house\",1907.0,230.0,\"Canton de Vaud\"],[\"Farm house\",1820.0,188.0,\"Kanton Z\\u00fcrich\"],[\"Villa\",1932.0,319.0,\"Kanton Basel-Stadt\"],[\"Single house\",2022.0,149.0,\"Kanton Aargau\"],[\"Villa\",2021.0,335.0,\"Ticino\"],[\"Farm house\",1828.0,285.0,\"Kanton Aargau\"],[\"Single house\",1998.0,250.0,\"Ticino\"],[\"Villa\",2021.0,335.0,\"Ticino\"],[\"Farm house\",1828.0,285.0,\"Kanton Aargau\"],[\"Single house\",1998.0,250.0,\"Ticino\"],[\"Single house\",2023.0,206.0,\"Canton de Berne\"],[\"Single house\",1983.0,245.0,\"Gen\\u00e8ve\"],[\"Single house\",2022.0,175.0,\"Ticino\"],[\"Villa\",2016.0,129.0,\"Canton du Valais\"],[\"Single house\",1988.0,260.0,\"Kanton Aargau\"],[\"Single house\",1880.0,132.0,\"Kanton Graub\\u00fcnden\"],[\"Chalet\",1820.0,100.0,\"Kanton Graub\\u00fcnden\"],[\"Row house\",1997.0,180.0,\"Kanton Z\\u00fcrich\"],[\"Multi-family house\",1875.0,160.0,\"Kanton Basel-Landschaft\"],[\"Single house\",1908.0,290.0,\"Neuch\\u00e2tel\"],[\"Single house\",2000.0,200.0,\"Kanton St. Gallen\"],[\"Multi-family house\",1927.0,154.0,\"Kanton Solothurn\"],[\"Bifamiliar house\",2022.0,169.0,\"Kanton Z\\u00fcrich\"],[\"Villa\",2004.0,240.0,\"Canton de Fribourg\"],[\"Villa\",1987.0,200.0,\"Gen\\u00e8ve\"],[\"Row house\",1999.0,177.0,\"Kanton Z\\u00fcrich\"],[\"Villa\",2013.0,290.0,\"Kanton Z\\u00fcrich\"],[\"Single house\",1990.0,270.0,\"Gen\\u00e8ve\"],[\"Chalet\",2022.0,524.0,\"Canton du Valais\"],[\"Villa\",2013.0,290.0,\"Kanton Z\\u00fcrich\"],[\"Single house\",1990.0,270.0,\"Gen\\u00e8ve\"],[\"Chalet\",2022.0,524.0,\"Canton du Valais\"],[\"Single house\",1945.0,320.0,\"Gen\\u00e8ve\"],[\"Single house\",1968.0,313.0,\"Gen\\u00e8ve\"],[\"Villa\",1989.0,388.0,\"Ticino\"],[\"Single house\",2018.0,200.0,\"Ticino\"],[\"Bifamiliar house\",2021.0,110.0,\"Ticino\"],[\"Bifamiliar house\",2021.0,180.0,\"Ticino\"],[\"Multi-family house\",1905.0,260.0,\"Kanton Luzern\"],[\"Bifamiliar house\",2023.0,189.0,\"Kanton Z\\u00fcrich\"],[\"Single house\",2014.0,120.0,\"Canton du Valais\"],[\"Bifamiliar house\",1994.0,133.0,\"Kanton Z\\u00fcrich\"],[\"Bifamiliar house\",1999.0,150.0,\"Kanton Z\\u00fcrich\"],[\"Bifamiliar house\",2001.0,150.0,\"Kanton Z\\u00fcrich\"],[\"Single house\",1969.0,168.0,\"Kanton Aargau\"],[\"Bifamiliar house\",2022.0,177.0,\"Kanton Z\\u00fcrich\"],[\"Single house\",1970.0,157.0,\"Kanton St. Gallen\"],[\"Multi-family house\",1967.0,250.0,\"Kanton Aargau\"],[\"Single house\",1912.0,143.0,\"Canton de Berne\"],[\"Single house\",1971.0,196.0,\"Canton de Vaud\"],[\"Terrace house\",1976.0,155.0,\"Kanton Aargau\"],[\"Terrace house\",2012.0,285.0,\"Kanton Aargau\"],[\"Villa\",1924.0,262.0,\"Kanton Z\\u00fcrich\"],[\"Single house\",1927.0,200.0,\"Kanton Aargau\"],[\"Single house\",1911.0,250.0,\"Ticino\"],[\"Row house\",2005.0,186.0,\"Kanton Basel-Landschaft\"],[\"Row house\",2009.0,154.0,\"Kanton Basel-Landschaft\"],[\"Chalet\",1997.0,450.0,\"Ticino\"],[\"Single house\",1927.0,200.0,\"Kanton Aargau\"],[\"Single house\",1911.0,250.0,\"Ticino\"],[\"Row house\",2005.0,186.0,\"Kanton Basel-Landschaft\"],[\"Row house\",2009.0,154.0,\"Kanton Basel-Landschaft\"],[\"Chalet\",1997.0,450.0,\"Ticino\"],[\"Single house\",2021.0,165.0,\"Jura\"],[\"Villa\",1960.0,300.0,\"Ticino\"],[\"Villa\",1976.0,250.0,\"Canton de Vaud\"],[\"Bifamiliar house\",2021.0,144.0,\"Canton du Valais\"],[\"Single house\",2011.0,240.0,\"Kanton Thurgau\"],[\"Single house\",1984.0,110.0,\"Ticino\"],[\"Single house\",1984.0,110.0,\"Ticino\"],[\"Single house\",1850.0,210.0,\"Canton du Valais\"],[\"Villa\",1998.0,250.0,\"Ticino\"],[\"Single house\",2002.0,525.0,\"Canton de Vaud\"],[\"Single house\",1987.0,272.0,\"Ticino\"],[\"Bifamiliar house\",2003.0,165.0,\"Gen\\u00e8ve\"],[\"Chalet\",1968.0,99.0,\"Canton du Valais\"],[\"Bifamiliar house\",2022.0,154.0,\"Ticino\"],[\"Bifamiliar house\",2022.0,198.0,\"Ticino\"],[\"Villa\",1998.0,250.0,\"Ticino\"],[\"Single house\",2002.0,525.0,\"Canton de Vaud\"],[\"Single house\",1987.0,272.0,\"Ticino\"],[\"Bifamiliar house\",2003.0,165.0,\"Gen\\u00e8ve\"],[\"Chalet\",1968.0,99.0,\"Canton du Valais\"],[\"Bifamiliar house\",2022.0,154.0,\"Ticino\"],[\"Bifamiliar house\",2022.0,198.0,\"Ticino\"],[\"Single house\",1953.0,183.0,\"Kanton St. Gallen\"],[\"Multi-family house\",1881.0,198.0,\"Kanton Basel-Stadt\"],[\"Multi-family house\",1890.0,194.0,\"Kanton Z\\u00fcrich\"],[\"Single house\",1989.0,250.0,\"Ticino\"],[\"Bifamiliar house\",1999.0,177.0,\"Kanton Aargau\"],[\"Multi-family house\",2023.0,510.0,\"Ticino\"],[\"Single house\",1850.0,200.0,\"Canton du Valais\"],[\"Chalet\",1980.0,100.0,\"Canton de Vaud\"],[\"Row house\",1758.0,174.0,\"Canton de Vaud\"],[\"Villa\",1973.0,420.0,\"Canton de Vaud\"],[\"Single house\",1991.0,35.0,\"Ticino\"],[\"Multi-family house\",1900.0,229.0,\"Kanton Basel-Landschaft\"],[\"Single house\",2022.0,196.0,\"Kanton Basel-Landschaft\"],[\"Single house\",1983.0,220.0,\"Ticino\"],[\"Single house\",1991.0,160.0,\"Ticino\"],[\"Single house\",1991.0,160.0,\"Ticino\"],[\"Villa\",1986.0,185.0,\"Ticino\"],[\"Villa\",1962.0,158.0,\"Canton de Vaud\"],[\"Single house\",2023.0,153.0,\"Canton de Vaud\"],[\"Single house\",1991.0,160.0,\"Ticino\"],[\"Villa\",1986.0,185.0,\"Ticino\"],[\"Villa\",1962.0,158.0,\"Canton de Vaud\"],[\"Single house\",2023.0,153.0,\"Canton de Vaud\"],[\"Bifamiliar house\",2023.0,135.0,\"Canton de Vaud\"],[\"Bifamiliar house\",2023.0,135.0,\"Canton de Vaud\"],[\"Single house\",2012.0,350.0,\"Canton de Vaud\"],[\"Single house\",1989.0,500.0,\"Canton de Vaud\"],[\"Single house\",1996.0,270.0,\"Canton de Vaud\"],[\"Villa\",2006.0,180.0,\"Canton du Valais\"],[\"Single house\",2022.0,143.0,\"Ticino\"],[\"Villa\",1960.0,260.0,\"Ticino\"],[\"Villa\",1979.0,240.0,\"Ticino\"],[\"Single house\",2023.0,131.0,\"Kanton Schaffhausen\"],[\"Row house\",1996.0,125.0,\"Kanton Basel-Landschaft\"],[\"Row house\",1987.0,151.0,\"Kanton Schwyz\"],[\"Single house\",1970.0,324.0,\"Kanton Solothurn\"],[\"Single house\",2023.0,232.0,\"Canton de Berne\"],[\"Chalet\",1968.0,160.0,\"Ticino\"],[\"Single house\",2023.0,131.0,\"Kanton Schaffhausen\"],[\"Row house\",1996.0,125.0,\"Kanton Basel-Landschaft\"],[\"Row house\",1987.0,151.0,\"Kanton Schwyz\"],[\"Single house\",1970.0,324.0,\"Kanton Solothurn\"],[\"Single house\",2023.0,232.0,\"Canton de Berne\"],[\"Chalet\",1968.0,160.0,\"Ticino\"],[\"Villa\",1970.0,550.0,\"Ticino\"],[\"Single house\",1900.0,100.0,\"Ticino\"],[\"Villa\",2001.0,138.0,\"Ticino\"],[\"Single house\",1993.0,240.0,\"Ticino\"],[\"Single house\",2002.0,150.0,\"Ticino\"],[\"Villa\",1965.0,450.0,\"Ticino\"],[\"Single house\",2022.0,258.0,\"Ticino\"],[\"Single house\",1920.0,360.0,\"Ticino\"],[\"Single house\",2009.0,75.0,\"Canton du Valais\"],[\"Single house\",1984.0,225.0,\"Canton du Valais\"],[\"Bifamiliar house\",2022.0,143.0,\"Canton du Valais\"],[\"Bifamiliar house\",2022.0,143.0,\"Canton du Valais\"],[\"Single house\",2007.0,270.0,\"Canton de Vaud\"],[\"Villa\",1963.0,250.0,\"Canton de Vaud\"],[\"Single house\",1972.0,180.0,\"Canton du Valais\"],[\"Chalet\",1984.0,175.0,\"Canton du Valais\"],[\"Single house\",1995.0,674.0,\"Canton de Vaud\"],[\"Single house\",1991.0,160.0,\"Ticino\"],[\"Single house\",1991.0,160.0,\"Ticino\"],[\"Single house\",1991.0,160.0,\"Ticino\"],[\"Single house\",1987.0,208.0,\"Ticino\"],[\"Single house\",2022.0,170.0,\"Jura\"],[\"Villa\",1988.0,300.0,\"Ticino\"],[\"Villa\",1990.0,400.0,\"Ticino\"],[\"Row house\",1997.0,170.0,\"Ticino\"],[\"Single house\",2013.0,275.0,\"Canton du Valais\"],[\"Single house\",1976.0,290.0,\"Gen\\u00e8ve\"],[\"Villa\",1977.0,175.0,\"Canton du Valais\"],[\"Villa\",1990.0,400.0,\"Ticino\"],[\"Row house\",1997.0,170.0,\"Ticino\"],[\"Single house\",2013.0,275.0,\"Canton du Valais\"],[\"Single house\",1976.0,290.0,\"Gen\\u00e8ve\"],[\"Villa\",1977.0,175.0,\"Canton du Valais\"],[\"Row house\",1900.0,100.0,\"Canton du Valais\"],[\"Villa\",1927.0,690.0,\"Canton de Vaud\"],[\"Single house\",2022.0,190.0,\"Jura\"],[\"Chalet\",1965.0,250.0,\"Canton du Valais\"],[\"Chalet\",2014.0,155.0,\"Canton du Valais\"],[\"Chalet\",1965.0,270.0,\"Canton du Valais\"],[\"Single house\",1972.0,250.0,\"Canton de Vaud\"],[\"Single house\",1973.0,139.0,\"Neuch\\u00e2tel\"],[\"Row house\",2023.0,208.0,\"Ticino\"],[\"Single house\",2019.0,292.0,\"Ticino\"],[\"Villa\",1998.0,285.0,\"Ticino\"],[\"Single house\",1964.0,210.0,\"Jura\"],[\"Single house\",1752.0,170.0,\"Kanton Basel-Landschaft\"],[\"Row house\",2002.0,220.0,\"Kanton Z\\u00fcrich\"],[\"Villa\",2004.0,235.0,\"Ticino\"],[\"Single house\",1600.0,432.0,\"Canton de Vaud\"],[\"Single house\",1876.0,243.0,\"Kanton Aargau\"],[\"Single house\",1971.0,175.0,\"Canton de Berne\"],[\"Single house\",1932.0,100.0,\"Kanton Solothurn\"],[\"Single house\",1985.0,205.0,\"Canton de Berne\"],[\"Single house\",1970.0,150.0,\"Canton du Valais\"],[\"Villa\",2000.0,425.0,\"Ticino\"],[\"Single house\",2022.0,183.0,\"Canton du Valais\"],[\"Single house\",2022.0,183.0,\"Canton du Valais\"],[\"Single house\",2022.0,183.0,\"Canton du Valais\"],[\"Single house\",2022.0,183.0,\"Canton du Valais\"],[\"Single house\",2022.0,183.0,\"Canton du Valais\"],[\"Single house\",2022.0,183.0,\"Canton du Valais\"],[\"Single house\",2021.0,217.0,\"Canton du Valais\"],[\"Single house\",2022.0,236.0,\"Canton du Valais\"],[\"Single house\",2022.0,216.0,\"Canton du Valais\"],[\"Single house\",1750.0,600.0,\"Canton de Vaud\"],[\"Single house\",1900.0,192.0,\"Ticino\"],[\"Single house\",1900.0,192.0,\"Ticino\"],[\"Single house\",1972.0,352.0,\"Ticino\"],[\"Villa\",2009.0,485.0,\"Ticino\"],[\"Row house\",2023.0,132.0,\"Kanton Z\\u00fcrich\"],[\"Row house\",2023.0,130.0,\"Kanton Z\\u00fcrich\"],[\"Row house\",2023.0,129.0,\"Kanton Z\\u00fcrich\"],[\"Single house\",2009.0,210.0,\"Ticino\"],[\"Single house\",1800.0,400.0,\"Ticino\"],[\"Row house\",1981.0,183.0,\"Canton du Valais\"],[\"Chalet\",1978.0,145.0,\"Canton du Valais\"],[\"Row house\",1989.0,140.0,\"Canton du Valais\"],[\"Single house\",2023.0,180.0,\"Kanton Luzern\"],[\"Chalet\",2009.0,240.0,\"Canton du Valais\"],[\"Bifamiliar house\",1990.0,230.0,\"Gen\\u00e8ve\"],[\"Single house\",1937.0,188.0,\"Kanton Aargau\"],[\"Bifamiliar house\",1959.0,100.0,\"Kanton Luzern\"],[\"Single house\",2019.0,34.0,\"Kanton Solothurn\"],[\"Chalet\",1986.0,160.0,\"Canton du Valais\"],[\"Single house\",1968.0,150.0,\"Ticino\"],[\"Single house\",2009.0,171.0,\"Kanton St. Gallen\"],[\"Bifamiliar house\",2017.0,178.0,\"Kanton Z\\u00fcrich\"],[\"Single house\",2010.0,560.0,\"Neuch\\u00e2tel\"],[\"Chalet\",1950.0,80.0,\"Canton du Valais\"],[\"Multi-family house\",1900.0,180.0,\"Canton de Vaud\"],[\"Row house\",2000.0,147.0,\"Canton de Berne\"],[\"Single house\",1970.0,330.0,\"Ticino\"],[\"Bifamiliar house\",1950.0,370.0,\"Gen\\u00e8ve\"],[\"Chalet\",1991.0,140.0,\"Canton du Valais\"],[\"Single house\",2006.0,145.0,\"Canton du Valais\"],[\"Single house\",1971.0,115.0,\"Canton de Berne\"],[\"Single house\",1970.0,330.0,\"Ticino\"],[\"Bifamiliar house\",1950.0,370.0,\"Gen\\u00e8ve\"],[\"Chalet\",1991.0,140.0,\"Canton du Valais\"],[\"Single house\",2006.0,145.0,\"Canton du Valais\"],[\"Single house\",1971.0,115.0,\"Canton de Berne\"],[\"Single house\",1970.0,170.0,\"Canton du Valais\"],[\"Single house\",1903.0,201.0,\"Kanton Basel-Landschaft\"],[\"Villa\",1975.0,309.0,\"Ticino\"],[\"Single house\",2007.0,170.0,\"Ticino\"],[\"Rustico\",1988.0,100.0,\"Ticino\"],[\"Multi-family house\",1900.0,250.0,\"Kanton Thurgau\"],[\"Row house\",2022.0,156.0,\"Ticino\"],[\"Single house\",1992.0,143.0,\"Ticino\"],[\"Single house\",1992.0,143.0,\"Ticino\"],[\"Villa\",1976.0,265.0,\"Ticino\"],[\"Villa\",1976.0,265.0,\"Ticino\"],[\"Single house\",2001.0,200.0,\"Ticino\"],[\"Multi-family house\",1913.0,937.0,\"Ticino\"],[\"Villa\",1963.0,520.0,\"Ticino\"],[\"Villa\",1965.0,632.0,\"Ticino\"],[\"Villa\",1970.0,320.0,\"Ticino\"],[\"Single house\",1986.0,200.0,\"Kanton Basel-Landschaft\"],[\"Single house\",1974.0,180.0,\"Kanton Luzern\"],[\"Multi-family house\",2010.0,286.0,\"Ticino\"],[\"Villa\",1660.0,460.0,\"Ticino\"],[\"Bifamiliar house\",1982.0,288.0,\"Ticino\"],[\"Villa\",2022.0,420.0,\"Ticino\"],[\"Single house\",2011.0,195.0,\"Ticino\"],[\"Single house\",2006.0,281.0,\"Ticino\"],[\"Bifamiliar house\",1982.0,288.0,\"Ticino\"],[\"Villa\",2022.0,420.0,\"Ticino\"],[\"Single house\",2011.0,195.0,\"Ticino\"],[\"Single house\",2006.0,281.0,\"Ticino\"],[\"Single house\",1780.0,100.0,\"Ticino\"],[\"Single house\",1965.0,68.0,\"Ticino\"],[\"Single house\",1890.0,160.0,\"Canton du Valais\"],[\"Villa\",1994.0,370.0,\"Ticino\"],[\"Row house\",2022.0,200.0,\"Canton du Valais\"],[\"Villa\",2001.0,240.0,\"Canton de Vaud\"],[\"Single house\",1900.0,479.0,\"Canton de Vaud\"],[\"Row house\",2016.0,150.0,\"Ticino\"],[\"Single house\",1981.0,200.0,\"Ticino\"],[\"Villa\",1970.0,220.0,\"Ticino\"],[\"Single house\",1820.0,890.0,\"Canton de Vaud\"],[\"Single house\",2012.0,240.0,\"Kanton Basel-Landschaft\"],[\"Bifamiliar house\",2000.0,205.0,\"Kanton Aargau\"],[\"Single house\",1988.0,186.0,\"Kanton St. Gallen\"],[\"Bifamiliar house\",1933.0,99.0,\"Kanton Schaffhausen\"],[\"Single house\",1964.0,166.0,\"Canton de Berne\"],[\"Bifamiliar house\",2023.0,164.0,\"Kanton St. Gallen\"],[\"Bifamiliar house\",2023.0,164.0,\"Kanton St. Gallen\"],[\"Single house\",2018.0,150.0,\"Ticino\"],[\"Single house\",2020.0,170.0,\"Ticino\"],[\"Single house\",1989.0,150.0,\"Ticino\"],[\"Single house\",1992.0,447.0,\"Canton du Valais\"],[\"Bifamiliar house\",2023.0,164.0,\"Kanton St. Gallen\"],[\"Bifamiliar house\",2023.0,164.0,\"Kanton St. Gallen\"],[\"Single house\",2018.0,150.0,\"Ticino\"],[\"Single house\",2020.0,170.0,\"Ticino\"],[\"Single house\",1989.0,150.0,\"Ticino\"],[\"Single house\",1992.0,447.0,\"Canton du Valais\"],[\"Row house\",2022.0,158.0,\"Kanton Thurgau\"],[\"Single house\",2021.0,142.0,\"Kanton Thurgau\"],[\"Single house\",1977.0,130.0,\"Kanton Z\\u00fcrich\"],[\"Single house\",2000.0,100.0,\"Ticino\"],[\"Villa\",2006.0,234.0,\"Canton du Valais\"],[\"Single house\",2019.0,184.0,\"Ticino\"],[\"Row house\",2021.0,161.0,\"Ticino\"],[\"Single house\",2019.0,184.0,\"Ticino\"],[\"Single house\",1990.0,180.0,\"Canton du Valais\"],[\"Single house\",1950.0,168.0,\"Ticino\"],[\"Single house\",1932.0,190.0,\"Canton de Vaud\"],[\"Single house\",1970.0,140.0,\"Ticino\"],[\"Rustico\",1900.0,61.0,\"Ticino\"],[\"Single house\",1978.0,210.0,\"Kanton Basel-Landschaft\"],[\"Single house\",1970.0,135.0,\"Ticino\"],[\"Single house\",1932.0,190.0,\"Canton de Vaud\"],[\"Single house\",1970.0,140.0,\"Ticino\"],[\"Rustico\",1900.0,61.0,\"Ticino\"],[\"Single house\",1978.0,210.0,\"Kanton Basel-Landschaft\"],[\"Single house\",1970.0,135.0,\"Ticino\"],[\"Single house\",1989.0,250.0,\"Canton du Valais\"],[\"Single house\",1798.0,270.0,\"Ticino\"],[\"Row house\",2010.0,110.0,\"Ticino\"],[\"Villa\",1985.0,420.0,\"Ticino\"],[\"Villa\",1968.0,300.0,\"Ticino\"],[\"Bifamiliar house\",1913.0,170.0,\"Ticino\"],[\"Villa\",2005.0,255.0,\"Ticino\"],[\"Bifamiliar house\",2021.0,191.0,\"Kanton St. Gallen\"],[\"Row house\",2022.0,138.0,\"Kanton Aargau\"],[\"Row house\",2022.0,138.0,\"Kanton Aargau\"],[\"Chalet\",2022.0,350.0,\"Canton du Valais\"],[\"Row house\",2023.0,134.0,\"Kanton Basel-Stadt\"],[\"Row house\",1970.0,105.0,\"Ticino\"],[\"Single house\",1984.0,201.0,\"Kanton Z\\u00fcrich\"],[\"Single house\",1964.0,180.0,\"Ticino\"],[\"Chalet\",2023.0,160.0,\"Canton du Valais\"],[\"Villa\",1920.0,517.0,\"Canton de Vaud\"],[\"Row house\",2022.0,156.0,\"Canton du Valais\"],[\"Bifamiliar house\",1998.0,500.0,\"Ticino\"],[\"Row house\",2021.0,162.0,\"Canton du Valais\"],[\"Single house\",1950.0,160.0,\"Canton du Valais\"],[\"Row house\",2021.0,177.0,\"Canton du Valais\"],[\"Villa\",1989.0,262.0,\"Canton du Valais\"],[\"Row house\",1992.0,130.0,\"Kanton Z\\u00fcrich\"],[\"Single house\",1900.0,280.0,\"Ticino\"],[\"Row house\",2021.0,162.0,\"Canton du Valais\"],[\"Single house\",1950.0,160.0,\"Canton du Valais\"],[\"Row house\",2021.0,177.0,\"Canton du Valais\"],[\"Villa\",1989.0,262.0,\"Canton du Valais\"],[\"Row house\",1992.0,130.0,\"Kanton Z\\u00fcrich\"],[\"Single house\",1900.0,280.0,\"Ticino\"],[\"Villa\",1995.0,223.0,\"Ticino\"],[\"Multi-family house\",1993.0,300.0,\"Kanton Graub\\u00fcnden\"],[\"Chalet\",2004.0,205.0,\"Canton du Valais\"],[\"Single house\",1967.0,400.0,\"Canton du Valais\"],[\"Chalet\",1972.0,82.0,\"Canton du Valais\"],[\"Single house\",1988.0,372.0,\"Canton du Valais\"],[\"Row house\",1970.0,160.0,\"Kanton Basel-Landschaft\"],[\"Multi-family house\",2004.0,300.0,\"Ticino\"],[\"Single house\",1985.0,100.0,\"Ticino\"],[\"Single house\",2021.0,331.0,\"Canton du Valais\"],[\"Single house\",2007.0,202.0,\"Kanton St. Gallen\"],[\"Villa\",1998.0,408.0,\"Ticino\"],[\"Single house\",2023.0,153.0,\"Canton de Vaud\"],[\"Single house\",1971.0,143.0,\"Canton du Valais\"],[\"Villa\",2011.0,140.0,\"Canton du Valais\"],[\"Villa\",1987.0,614.0,\"Ticino\"],[\"Multi-family house\",1873.0,200.0,\"Canton de Vaud\"],[\"Villa\",1948.0,106.0,\"Canton de Vaud\"],[\"Single house\",1999.0,185.0,\"Kanton Thurgau\"],[\"Single house\",2021.0,134.0,\"Canton du Valais\"],[\"Villa\",1988.0,320.0,\"Ticino\"],[\"Single house\",1961.0,80.0,\"Ticino\"],[\"Single house\",2021.0,134.0,\"Canton du Valais\"],[\"Villa\",1988.0,320.0,\"Ticino\"],[\"Single house\",1961.0,80.0,\"Ticino\"],[\"Row house\",2022.0,149.0,\"Ticino\"],[\"Single house\",2004.0,150.0,\"Gen\\u00e8ve\"],[\"Single house\",1995.0,228.0,\"Canton du Valais\"],[\"Single house\",1920.0,85.0,\"Kanton Appenzell Ausserrhoden\"],[\"Villa\",2008.0,240.0,\"Ticino\"],[\"Villa\",1979.0,253.0,\"Ticino\"],[\"Single house\",1998.0,150.0,\"Ticino\"],[\"Single house\",1912.0,400.0,\"Canton de Vaud\"],[\"Row house\",2021.0,140.0,\"Canton du Valais\"],[\"Row house\",2021.0,140.0,\"Canton du Valais\"],[\"Villa\",2012.0,210.0,\"Ticino\"],[\"Villa\",1927.0,690.0,\"Canton de Vaud\"],[\"Chalet\",2023.0,160.0,\"Canton du Valais\"],[\"Villa\",2000.0,450.0,\"Ticino\"],[\"Villa\",1981.0,130.0,\"Canton de Vaud\"],[\"Chalet\",2006.0,145.0,\"Canton de Vaud\"],[\"Row house\",1802.0,70.0,\"Kanton Z\\u00fcrich\"],[\"Single house\",1981.0,126.0,\"Kanton Aargau\"],[\"Single house\",1962.0,142.0,\"Kanton Z\\u00fcrich\"],[\"Bifamiliar house\",2020.0,180.0,\"Kanton Solothurn\"],[\"Single house\",1900.0,100.0,\"Canton de Vaud\"],[\"Single house\",1982.0,250.0,\"Kanton Thurgau\"],[\"Single house\",1990.0,228.0,\"Kanton Thurgau\"],[\"Bifamiliar house\",1985.0,137.0,\"Kanton Aargau\"],[\"Single house\",1962.0,231.0,\"Kanton Aargau\"],[\"Bifamiliar house\",1924.0,270.0,\"Kanton Aargau\"],[\"Single house\",2000.0,145.0,\"Kanton Aargau\"],[\"Bifamiliar house\",1923.0,74.0,\"Kanton Aargau\"],[\"Single house\",1990.0,228.0,\"Kanton Thurgau\"],[\"Bifamiliar house\",1985.0,137.0,\"Kanton Aargau\"],[\"Single house\",1962.0,231.0,\"Kanton Aargau\"],[\"Bifamiliar house\",1924.0,270.0,\"Kanton Aargau\"],[\"Single house\",2000.0,145.0,\"Kanton Aargau\"],[\"Bifamiliar house\",1923.0,74.0,\"Kanton Aargau\"],[\"Multi-family house\",1924.0,152.0,\"Kanton Aargau\"],[\"Bifamiliar house\",1927.0,128.0,\"Kanton Aargau\"],[\"Single house\",2022.0,150.0,\"Kanton Aargau\"],[\"Single house\",2022.0,124.0,\"Kanton Aargau\"],[\"Villa\",1996.0,200.0,\"Kanton Aargau\"],[\"Bifamiliar house\",1989.0,260.0,\"Kanton Aargau\"],[\"Single house\",1949.0,306.0,\"Kanton Aargau\"],[\"Single house\",1911.0,198.0,\"Canton de Berne\"],[\"Multi-family house\",1911.0,198.0,\"Canton de Berne\"],[\"Bifamiliar house\",1995.0,155.0,\"Canton de Berne\"],[\"Rustico\",1976.0,68.0,\"Ticino\"],[\"Single house\",1910.0,85.0,\"Ticino\"],[\"Single house\",1994.0,320.0,\"Ticino\"],[\"Single house\",2001.0,164.0,\"Kanton Z\\u00fcrich\"],[\"Row house\",1981.0,154.0,\"Kanton Z\\u00fcrich\"],[\"Single house\",2013.0,185.0,\"Kanton Z\\u00fcrich\"],[\"Single house\",2003.0,137.0,\"Canton de Berne\"],[\"Single house\",1977.0,100.0,\"Kanton Basel-Landschaft\"],[\"Single house\",1992.0,125.0,\"Kanton Luzern\"],[\"Single house\",2022.0,170.0,\"Canton de Berne\"],[\"Single house\",2022.0,170.0,\"Canton de Berne\"],[\"Bifamiliar house\",1780.0,98.0,\"Canton de Berne\"],[\"Single house\",1998.0,196.0,\"Kanton Z\\u00fcrich\"],[\"Single house\",1979.0,140.0,\"Kanton Thurgau\"],[\"Multi-family house\",2017.0,767.0,\"Kanton Thurgau\"],[\"Row house\",1987.0,133.0,\"Kanton Z\\u00fcrich\"],[\"Single house\",1957.0,121.0,\"Kanton Z\\u00fcrich\"],[\"Single house\",1900.0,102.0,\"Canton du Valais\"],[\"Row house\",1970.0,168.0,\"Canton du Valais\"],[\"Single house\",1850.0,145.0,\"Canton de Vaud\"],[\"Single house\",1900.0,120.0,\"Ticino\"],[\"Single house\",1989.0,188.0,\"Ticino\"],[\"Single house\",2021.0,142.0,\"Ticino\"],[\"Villa\",1973.0,150.0,\"Ticino\"],[\"Bifamiliar house\",2007.0,256.0,\"Ticino\"],[\"Villa\",2010.0,151.0,\"Ticino\"],[\"Villa\",1968.0,326.0,\"Ticino\"],[\"Single house\",1964.0,105.0,\"Ticino\"],[\"Bifamiliar house\",1990.0,110.0,\"Ticino\"],[\"Single house\",2017.0,240.0,\"Ticino\"],[\"Single house\",2017.0,242.0,\"Ticino\"],[\"Single house\",2020.0,242.0,\"Ticino\"],[\"Single house\",2022.0,590.0,\"Ticino\"],[\"Single house\",1944.0,104.0,\"Canton de Vaud\"],[\"Single house\",2003.0,205.0,\"Canton de Vaud\"],[\"Villa\",1987.0,211.0,\"Canton de Vaud\"],[\"Villa\",1972.0,400.0,\"Canton de Vaud\"],[\"Single house\",1985.0,600.0,\"Canton de Vaud\"],[\"Single house\",2022.0,590.0,\"Ticino\"],[\"Single house\",1944.0,104.0,\"Canton de Vaud\"],[\"Single house\",2003.0,205.0,\"Canton de Vaud\"],[\"Villa\",1987.0,211.0,\"Canton de Vaud\"],[\"Villa\",1972.0,400.0,\"Canton de Vaud\"],[\"Single house\",1985.0,600.0,\"Canton de Vaud\"],[\"Villa\",1985.0,600.0,\"Canton de Vaud\"],[\"Single house\",1960.0,100.0,\"Ticino\"],[\"Single house\",2016.0,160.0,\"Ticino\"],[\"Single house\",1960.0,164.0,\"Ticino\"],[\"Single house\",1877.0,218.0,\"Canton de Fribourg\"],[\"Single house\",1877.0,173.0,\"Canton de Fribourg\"],[\"Multi-family house\",1877.0,173.0,\"Canton de Fribourg\"],[\"Single house\",1876.0,193.0,\"Canton de Fribourg\"],[\"Single house\",1876.0,298.0,\"Canton de Fribourg\"],[\"Villa\",2000.0,320.0,\"Ticino\"],[\"Villa\",2016.0,442.0,\"Ticino\"],[\"Single house\",1960.0,258.0,\"Canton de Vaud\"],[\"Single house\",1960.0,288.0,\"Canton de Vaud\"],[\"Single house\",1900.0,180.0,\"Jura\"],[\"Villa\",1850.0,180.0,\"Jura\"],[\"Single house\",2021.0,160.0,\"Jura\"],[\"Single house\",2020.0,169.0,\"Jura\"],[\"Single house\",1985.0,136.0,\"Canton de Berne\"],[\"Multi-family house\",1951.0,215.0,\"Canton de Berne\"],[\"Single house\",1970.0,170.0,\"Kanton Basel-Landschaft\"],[\"Single house\",2007.0,158.0,\"Kanton Basel-Landschaft\"],[\"Bifamiliar house\",1977.0,155.0,\"Kanton Basel-Landschaft\"],[\"Single house\",1928.0,200.0,\"Kanton Basel-Landschaft\"],[\"Single house\",1923.0,300.0,\"Kanton Basel-Landschaft\"],[\"Villa\",1850.0,180.0,\"Jura\"],[\"Single house\",2021.0,160.0,\"Jura\"],[\"Single house\",2020.0,169.0,\"Jura\"],[\"Single house\",1985.0,136.0,\"Canton de Berne\"],[\"Multi-family house\",1951.0,215.0,\"Canton de Berne\"],[\"Single house\",1970.0,170.0,\"Kanton Basel-Landschaft\"],[\"Single house\",2007.0,158.0,\"Kanton Basel-Landschaft\"],[\"Bifamiliar house\",1977.0,155.0,\"Kanton Basel-Landschaft\"],[\"Single house\",1928.0,200.0,\"Kanton Basel-Landschaft\"],[\"Single house\",1923.0,300.0,\"Kanton Basel-Landschaft\"],[\"Bifamiliar house\",1906.0,453.0,\"Kanton St. Gallen\"],[\"Single house\",2020.0,187.0,\"Kanton Uri\"],[\"Single house\",1957.0,289.0,\"Kanton Uri\"],[\"Multi-family house\",1957.0,289.0,\"Kanton Uri\"],[\"Single house\",2003.0,130.0,\"Kanton Z\\u00fcrich\"],[\"Single house\",1985.0,170.0,\"Kanton Thurgau\"],[\"Bifamiliar house\",1900.0,150.0,\"Ticino\"],[\"Row house\",1920.0,100.0,\"Kanton St. Gallen\"],[\"Single house\",1940.0,120.0,\"Kanton St. Gallen\"],[\"Single house\",1972.0,162.0,\"Kanton St. Gallen\"],[\"Farm house\",1600.0,195.0,\"Kanton St. Gallen\"],[\"Single house\",1966.0,141.0,\"Kanton St. Gallen\"],[\"Chalet\",1980.0,267.0,\"Kanton St. Gallen\"],[\"Single house\",1933.0,166.0,\"Canton de Berne\"],[\"Row house\",1900.0,90.0,\"Kanton Thurgau\"],[\"Chalet\",1980.0,267.0,\"Kanton St. Gallen\"],[\"Single house\",1933.0,166.0,\"Canton de Berne\"],[\"Row house\",1900.0,90.0,\"Kanton Thurgau\"],[\"Single house\",1991.0,220.0,\"Kanton Uri\"],[\"Single house\",1982.0,206.0,\"Kanton Graub\\u00fcnden\"],[\"Single house\",2001.0,177.0,\"Kanton Aargau\"],[\"Villa\",2003.0,140.0,\"Gen\\u00e8ve\"],[\"Single house\",2003.0,140.0,\"Gen\\u00e8ve\"],[\"Single house\",1850.0,350.0,\"Gen\\u00e8ve\"],[\"Single house\",1965.0,232.0,\"Gen\\u00e8ve\"],[\"Single house\",1965.0,232.0,\"Gen\\u00e8ve\"],[\"Single house\",1966.0,232.0,\"Gen\\u00e8ve\"],[\"Single house\",1965.0,232.0,\"Gen\\u00e8ve\"],[\"Single house\",1945.0,260.0,\"Gen\\u00e8ve\"],[\"Single house\",1930.0,250.0,\"Gen\\u00e8ve\"],[\"Single house\",1930.0,250.0,\"Gen\\u00e8ve\"],[\"Single house\",1831.0,550.0,\"Gen\\u00e8ve\"],[\"Single house\",1831.0,550.0,\"Gen\\u00e8ve\"],[\"Single house\",1960.0,380.0,\"Gen\\u00e8ve\"],[\"Single house\",1979.0,290.0,\"Gen\\u00e8ve\"],[\"Single house\",1979.0,270.0,\"Gen\\u00e8ve\"],[\"Villa\",2012.0,310.0,\"Gen\\u00e8ve\"],[\"Single house\",2005.0,714.0,\"Gen\\u00e8ve\"],[\"Chalet\",2013.0,220.0,\"Canton du Valais\"],[\"Chalet\",2013.0,220.0,\"Canton du Valais\"],[\"Chalet\",1992.0,137.0,\"Canton du Valais\"],[\"Single house\",1992.0,200.0,\"Canton du Valais\"],[\"Chalet\",2002.0,200.0,\"Canton du Valais\"],[\"Chalet\",2017.0,242.0,\"Canton du Valais\"],[\"Bifamiliar house\",2002.0,153.0,\"Canton de Vaud\"],[\"Multi-family house\",1830.0,683.0,\"Canton de Vaud\"],[\"Single house\",2022.0,156.0,\"Canton du Valais\"],[\"Single house\",2022.0,156.0,\"Canton du Valais\"],[\"Villa\",2022.0,145.0,\"Canton du Valais\"],[\"Bifamiliar house\",2022.0,144.0,\"Canton du Valais\"],[\"Bifamiliar house\",2022.0,144.0,\"Canton du Valais\"],[\"Bifamiliar house\",2022.0,144.0,\"Canton du Valais\"],[\"Row house\",2022.0,144.0,\"Canton du Valais\"],[\"Bifamiliar house\",2022.0,144.0,\"Canton du Valais\"],[\"Bifamiliar house\",2022.0,144.0,\"Canton du Valais\"]],\"hovertemplate\":\"Housing Price=%{marker.color}<br>lat=%{lat}<br>lon=%{lon}<br>type=%{customdata[0]}<br>year_built=%{customdata[1]}<br>area_m2=%{customdata[2]}<br>canton=%{customdata[3]}<extra></extra>\",\"lat\":[47.2822,46.0005,47.522,47.4588,47.423,47.4557,47.4557,47.4557,47.4557,47.6415,46.0126,47.5253,47.2902,47.4251,47.431,47.5192,47.1046,47.7228,47.0328,47.0351,47.5452,47.4622,47.2895,47.3531,47.2357,46.0005,46.0005,47.3531,47.2357,46.0005,46.0005,46.0094,46.0094,46.1987,46.7699,46.7699,46.1477,46.1477,46.1477,46.1477,46.1477,46.1477,47.229,47.4721,45.8432,47.4404,47.4404,47.4404,47.2665,47.2665,47.2665,46.2545,47.3916,46.1999,46.1999,46.2109,47.3538,47.5367,47.5508,46.1999,46.2109,47.3538,47.5367,47.5508,46.4778,46.009,46.3087,46.1944,46.1944,47.3897,47.3563,47.3563,47.3563,46.0365,46.0365,45.9567,45.9681,47.1945,46.4766,46.4766,46.2486,46.5822,46.2587,46.2228,47.3933,46.3282,46.3282,46.376,46.0325,46.054,46.376,46.0325,46.054,47.56,47.3905,47.0799,47.5307,46.7142,47.4143,47.2254,46.8317,46.8317,46.8317,46.813,46.864,46.864,46.9143,47.5598,47.3709,46.4362,45.8501,45.9917,46.2107,46.2107,46.2107,46.221,46.1894,46.2215,47.4234,47.5681,47.5681,47.5681,46.175,46.2215,47.4234,47.5681,47.5681,47.5681,46.175,46.175,47.439,47.3516,47.3833,47.3033,47.2198,47.2487,47.2487,47.5159,47.0108,46.8056,47.232,47.6229,46.8475,46.8475,47.458,47.6415,47.0199,46.407,46.149,46.8095,46.5377,46.2338,46.5616,46.3439,46.1729,46.1729,46.1692,46.0126,46.3439,46.1729,46.1729,46.1692,46.0126,46.0126,46.0126,46.0126,46.0126,46.0126,46.0126,46.0126,46.0126,46.0126,46.0126,45.9557,46.0651,46.0094,46.4481,46.2384,47.4322,47.0538,46.3649,47.6201,46.0126,46.0126,47.0538,46.3649,47.6201,46.0126,46.0126,46.2363,46.2363,47.4211,47.0327,47.0327,47.0327,47.0327,45.8862,47.236,47.172,46.5771,46.1733,46.4754,46.1729,46.1729,47.6791,47.6791,47.6791,47.4034,47.4034,47.4034,47.4034,47.4888,47.4576,47.4576,47.4251,47.5169,47.5169,46.8122,46.183,46.183,47.5169,46.8122,46.183,46.183,46.0126,46.825,45.981,45.981,45.8283,46.1575,46.1642,46.4311,46.4945,46.4884,47.6115,47.225,47.2612,47.5559,47.213,47.245,47.245,47.245,47.4939,47.4803,47.3063,46.1988,46.5332,46.8705,46.5447,46.8705,46.5447,47.2623,47.5343,47.1673,46.4447,47.4722,46.6604,45.9998,46.4855,46.4855,46.4903,46.4903,46.4903,46.4903,46.4903,46.4903,47.49,47.2409,47.2409,46.7387,46.063,47.2673,47.367,47.367,47.4812,47.4112,47.3248,47.3532,46.2877,46.0129,46.7944,46.7042,47.5698,46.0129,46.7944,46.7042,47.5698,47.4668,47.3243,47.1958,47.527,47.478,47.5074,47.2239,47.5321,47.4451,47.4451,47.2895,47.3876,47.3776,47.4119,47.4119,47.4243,47.4,47.4055,46.0005,46.0005,45.9682,46.0094,47.5451,46.3424,46.3424,46.2038,46.2038,46.2038,46.2038,46.2038,46.2038,46.2038,46.2038,46.2038,46.2038,46.2038,46.2038,47.5444,46.23,46.1477,46.1477,46.1477,46.1477,46.1477,47.229,47.4721,45.8432,45.8432,45.9604,45.9604,45.9604,47.5767,46.1743,46.1999,46.2109,46.3597,46.3597,47.5077,47.1489,47.1489,47.5367,47.5367,47.5367,47.5367,47.4322,47.5508,45.951,47.5077,47.1489,47.1489,47.5367,47.5367,47.5367,47.5367,47.4322,47.5508,45.951,45.951,45.951,45.951,45.951,45.951,46.0301,46.2352,46.2352,46.009,46.009,46.1944,46.1944,46.133,46.133,46.133,46.133,46.1507,46.0423,46.0423,46.1577,46.1577,46.0365,46.0365,46.0365,46.0365,46.0365,46.0365,46.0365,46.0365,46.0365,46.0365,46.0365,46.0365,46.0365,46.0365,46.0365,46.0365,45.9043,46.0562,45.9687,46.5036,45.9681,45.9681,45.9681,45.9681,45.9991,45.9991,46.3042,46.3042,46.3042,45.8338,45.8338,45.8338,45.8338,46.2659,46.2659,46.2722,46.04,46.04,46.04,46.2214,46.2214,46.2214,46.2214,46.2214,46.2214,46.2214,46.2214,46.2214,46.2214,46.2214,46.2214,46.2214,46.2214,46.2214,46.2214,46.2214,46.2214,46.2214,46.2214,46.2214,46.2214,46.2214,46.2214,46.3282,46.3282,46.3282,46.3282,46.3282,46.3282,46.3282,46.3282,46.3282,46.3282,46.3282,46.3282,46.3282,46.3282,46.3282,47.0491,46.1955,46.1955,46.1955,46.1955,47.4943,47.4943,46.2828,46.2828,46.2828,47.509,47.2906,47.2863,47.2863,45.9557,46.0594,47.0427,47.654,47.654,47.2505,46.1575,45.9917,46.2079,46.1575,45.9917,46.2079,46.2066,47.0621,47.0621,47.2315,47.2315,47.2315,46.175,46.2253,46.8236,46.2571,46.1787,46.1787,46.1787,46.1787,46.1787,46.1787,46.1787,46.1787,46.2868,46.1661,47.193,46.0053,46.1468,47.321,47.119,47.119,46.6925,46.4405,46.5889,46.5889,46.607,46.607,46.6925,46.4405,46.5889,46.5889,46.607,46.607,47.0548,46.2131,46.1729,46.1729,46.1729,46.1729,46.1729,46.1729,46.1729,46.1729,46.1729,46.1729,46.1729,46.1729,46.1729,46.1729,46.1847,46.1847,46.1733,46.1847,46.1692,47.4834,46.1847,46.1692,47.4834,46.0126,46.0126,46.0126,46.0126,46.0126,46.0126,46.0126,46.0126,46.0126,46.0126,46.0126,46.0126,46.0126,46.0126,46.0126,46.0126,46.0126,46.0126,46.0126,46.0126,46.0126,46.0126,46.0126,46.0101,45.981,45.9704,46.009,46.009,46.0129,46.0129,46.0129,46.0129,46.0129,46.0198,46.0198,46.0198,46.0325,46.0325,46.0423,46.0423,46.0423,46.4875,46.1072,46.1072,46.0126,46.0126,46.0126,46.0126,46.0126,46.2363,45.9209,46.0126,46.0126,46.0126,46.0126,46.2363,45.9209,45.9209,45.9209,45.9209,45.9564,45.9564,45.9564,45.8862,45.8862,45.8862,45.8862,45.8862,46.1733,46.1733,46.1733,46.1733,46.1733,46.1733,46.1733,46.1733,46.1733,46.1733,46.1733,46.5787,46.3164,46.4754,45.9794,45.9794,46.5787,46.3164,46.4754,45.9794,45.9794,45.9794,45.9794,45.9794,46.4231,46.4231,46.4231,46.4231,46.4231,46.4231,46.4231,45.9324,46.2364,46.2364,46.2364,45.9971,45.9971,45.9971,47.3542,47.5169,46.183,46.183,46.0286,45.9324,46.2364,46.2364,46.2364,45.9971,45.9971,45.9971,47.3542,47.5169,46.183,46.183,46.0286,46.0286,46.2034,46.2034,46.2034,46.2034,46.0126,46.0126,46.0126,46.0126,46.0126,46.0126,46.0126,46.1897,46.1897,47.2459,46.1642,46.106,45.9707,47.2459,46.1642,46.106,45.9707,45.9707,45.9707,46.027,46.9426,46.9426,46.9426,46.0198,46.0198,46.0198,46.4945,46.4945,46.0198,46.4945,46.4945,47.1598,47.4688,47.4688,46.1688,46.1688,46.1688,46.1688,46.1688,46.1688,45.9043,45.9043,45.9043,45.9043,45.9129,45.9129,45.9129,45.9129,46.3598,47.4846,47.4803,46.0053,46.0053,46.0053,46.1362,46.1362,46.7889,47.5255,47.1746,47.1746,46.1901,46.1901,46.1901,46.2689,46.2689,46.2689,46.2689,46.2689,46.2304,46.2304,46.2304,46.2304,46.2304,46.2304,46.2304,46.2304,46.2304,46.2304,46.2304,46.2304,46.2304,46.2304,46.2304,46.2304,46.2304,46.2304,46.2304,47.2062,46.0101,46.0651,45.9998,46.4899,46.2304,46.2304,46.2304,47.2062,46.0101,46.0651,45.9998,46.4899,46.4899,46.2565,46.1988,47.408,45.8456,47.5065,46.284,46.063,46.1908,47.4976,46.3084,46.3084,46.063,46.063,47.2673,46.2565,46.2565,46.2565,46.2565,46.2565,46.2565,46.063,46.1908,47.4976,46.3084,46.3084,46.063,46.063,47.2673,46.2565,46.2565,46.2565,46.2565,46.2565,46.2565,46.2565,46.2565,46.2565,46.2565,46.2565,47.5016,47.5626,47.5309,46.9364,47.3535,47.3937,47.5692,47.0131,47.3265,47.0009,46.9559,46.7869,47.2772,47.2772,47.3642,47.3125,47.3642,47.3125,46.1961,47.0313,47.388,47.3789,47.342,46.4528,46.0005,46.0005,46.5272,46.8877,47.4372,46.3002,46.3002,47.317,45.9571,46.1477,46.0153,47.3911,46.9969,47.4733,45.8432,45.8432,47.4404,46.489,47.4404,46.489,47.3916,47.5367,46.0151,46.009,46.009,45.867,47.4864,47.4588,47.2339,46.5534,47.3389,46.0365,45.9687,45.9681,46.1588,46.5344,46.0053,46.5344,46.0053,46.2486,46.4523,47.3488,46.3282,46.5563,46.8109,46.0375,47.4766,47.0799,46.5288,47.3258,47.4943,47.4804,46.5507,47.3732,47.3716,47.4532,46.8317,46.8317,46.8317,47.387,47.3411,47.4086,47.3998,47.5109,45.8631,46.4362,47.3411,47.4086,47.3998,47.5109,45.8631,46.4362,46.2637,47.0369,47.5681,47.2676,47.2912,47.439,47.3541,46.2868,47.7111,47.0515,47.3846,47.2558,47.5016,47.1803,47.39,46.1691,46.1691,47.232,47.499,46.8475,47.4557,47.0199,46.9253,46.9559,46.9559,46.8434,47.3577,46.9253,46.9559,46.9559,46.8434,47.3577,46.5616,46.5616,47.5897,46.3282,45.8631,46.0562,46.0126,46.0126,46.0126,46.0126,46.0651,47.1172,47.5196,45.982,47.0378,46.0308,47.6201,46.6942,45.9564,46.3072,46.4754,45.9794,45.8497,46.514,47.4794,47.0968,47.682,47.4794,47.0968,47.682,47.3977,46.3863,47.0865,47.3125,46.6974,46.6974,47.108,46.0514,46.3439,46.2034,46.0126,45.8283,47.5112,45.9707,46.0198,47.4973,47.4973,47.4083,46.5353,47.5548,47.5794,47.6029,45.9129,47.2983,45.9356,45.9129,47.2983,45.9356,47.0846,46.2143,45.8612,46.2122,47.3283,46.978,46.978,47.5343,47.4722,47.0351,47.4096,47.3419,47.5825,46.7241,46.1593,47.2673,47.367,46.219,46.1008,47.367,46.219,46.1008,46.2877,46.2877,45.9347,46.1307,46.1307,46.1307,47.0162,47.3942,46.2163,47.4096,47.4339,47.4339,47.4759,47.478,47.4661,47.3533,47.0732,46.7969,47.5433,47.3447,47.3873,47.3236,46.4528,47.4728,47.4728,46.5272,47.3236,46.4528,47.4728,47.4728,46.5272,47.4284,46.0185,46.555,46.2038,47.5444,46.1605,46.1605,46.23,45.9571,46.4883,46.1477,46.1496,46.1787,45.8432,45.8432,45.9571,46.4883,46.1477,46.1496,46.1787,45.8432,45.8432,47.3935,47.5767,47.368,46.0033,47.3916,46.1999,46.1743,46.2446,46.2446,46.2446,46.3597,47.5367,47.5367,46.0151,46.0151,46.0151,45.951,46.4778,46.4778,46.0151,45.951,46.4778,46.4778,46.4778,46.4778,46.4778,46.4778,46.381,46.2352,46.3017,46.133,45.9254,47.7158,47.5047,47.2043,47.385,47.215,46.5036,47.7158,47.5047,47.2043,47.385,47.215,46.5036,45.9687,46.1556,45.9567,45.9681,45.9681,45.8621,45.9954,46.3042,46.2657,46.2235,46.2235,46.2235,46.8358,46.492,46.2827,46.2827,46.4835,46.0053,46.0053,46.0053,46.2659,47.4524,45.854,45.9794,46.0094,46.1804,46.2228,46.2214,45.9794,46.0094,46.1804,46.2228,46.2214,46.2689,46.4523,47.3933,46.3282,46.3282,46.3282,46.36,47.0491,46.1955,46.1955,46.0375,47.3751,47.4093,47.402,46.054,46.4201,47.5307,46.7805,47.3716,47.0325,46.2704,46.1307,46.1575,46.1575,46.1575,46.1575,46.1575,46.1575,46.1575,46.1575,46.1575,46.479,45.9917,45.9917,45.9917,45.9917,47.4234,47.4234,47.4234,46.175,46.175,46.2486,46.2335,46.2335,46.9592,46.1661,46.2988,47.4721,47.1496,47.3327,46.3418,46.1691,47.2096,47.2245,46.9559,46.1302,46.8434,46.9333,46.386,46.2338,46.1849,46.1849,47.1559,46.386,46.2338,46.1849,46.1849,47.1559,45.9863,47.4853,46.1847,46.1847,46.2043,47.5148,46.0562,46.0126,46.0126,46.0126,46.0126,46.0126,46.0126,46.0126,46.0126,45.9567,47.4463,47.0568,46.144,45.982,46.4349,45.9564,45.8862,45.8755,46.4349,45.9564,45.8862,45.8755,46.096,46.1733,46.3311,45.9794,46.2388,46.4231,46.4231,45.8497,45.867,45.9324,46.514,47.5248,47.4159,47.245,47.6791,46.8587,47.4323,47.4323,45.8428,45.8428,45.8428,46.2791,47.4323,47.4323,45.8428,45.8428,45.8428,46.2791,47.6083,47.6083,47.2615,46.5349,46.2827,46.0514,46.0514,46.0514,46.2034,46.1422,46.825,45.981,46.3463,47.4562,46.106,46.825,45.981,46.3463,47.4562,46.106,46.2122,45.9833,45.9833,45.9833,45.9833,45.9814,45.8755,47.3942,47.5559,47.5559,46.1688,47.5794,45.9129,47.2582,46.1364,46.1743,46.4899,46.2825,46.0663,46.2122,46.2122,46.2122,46.2122,47.1938,46.1152,46.2122,46.2122,46.2122,46.2122,47.1938,46.1152,46.1554,46.5785,46.2571,46.2571,46.1362,46.1362,47.5352,46.1901,46.0852,46.2304,47.4505,45.9998,46.4899,46.1988,46.1988,45.8456,46.8236,46.8236,47.5409,46.284,46.1908,45.9961,46.284,46.1908,45.9961,46.0126,46.1593,46.2122,47.2948,45.847,46.0557,46.1364,46.7078,46.3222,46.3222,46.1931,46.4642,46.1838,45.9347,46.5674,46.2955,47.2888,47.4668,47.527,47.4873,46.339,47.492,47.4717,47.3887,47.3887,47.3887,47.4055,47.3236,47.4717,47.3887,47.3887,47.3887,47.4055,47.3236,47.3236,47.3236,47.3236,47.3236,47.3236,47.3236,47.3236,47.2357,47.2357,47.2357,46.4528,46.4528,46.4528,47.5851,47.4527,47.4527,47.0966,47.4728,47.2583,46.6135,46.6135,46.7375,47.2822,47.5347,47.5347,47.2895,47.2784,46.2845,46.2845,46.7182,46.0005,46.0005,46.0005,46.0005,46.0005,46.0005,46.0005,45.9682,45.9682,45.9682,45.9682,45.9682,45.9682,46.3147,46.3147,46.3147,46.3147,46.3147,45.9682,46.3147,46.3147,46.3147,46.3147,46.3147,46.3147,46.5272,46.5272,46.5272,46.5291,46.5291,46.5291,46.5291,46.5291,46.0094,46.0094,46.442,46.442,47.4284,47.4284,47.4284,47.4284,46.9167,46.9167,47.5451,47.5451,47.5451,47.5451,47.5451,47.4284,47.4284,47.4284,46.9167,46.9167,47.5451,47.5451,47.5451,47.5451,47.5451,47.1773,46.8877,46.8877,46.8877,47.5773,47.6108,46.0598,47.3706,47.3706,47.3706,47.3706,47.3706,47.1599,47.0736,47.5613,47.1599,47.0736,47.5613,46.7793,46.5859,47.3665,46.2808,46.2808,46.2808,46.2808,46.2808,46.2808,46.2808,46.2808,46.2808,46.2808,46.2808,46.2808,46.2808,46.2808,46.2808,46.2808,46.2808,46.1787,46.1787,46.3424,46.3424,46.3424,46.3424,46.555,46.555,46.2038,46.2038,46.2038,46.2038,46.2038,46.2038,46.2038,46.2038,46.2038],\"legendgroup\":\"\",\"lon\":[8.489650000000001,8.9028,7.5765,8.437,9.0951,8.7783,8.7783,8.7783,8.7783,9.173533333333332,8.951066666666668,8.9285,8.2258,8.3205,8.3979,7.692,8.2625,8.673,8.6281,6.9969,7.9528,9.0517,8.4311,8.5089,7.7643,8.9028,8.9028,8.5089,7.7643,8.9028,8.9028,8.9798,8.9798,9.086,9.6683,9.6683,8.772,8.772,8.772,8.772,8.772,8.772,8.554400000000001,8.2914,9.0077,8.6304,8.6304,8.6304,8.2086,8.2086,8.2086,6.1455,8.3494,9.02528,9.02528,9.0017,8.3837,7.5677,7.6363,9.02528,9.0017,8.3837,7.5677,7.6363,6.922,8.9274,7.9792,8.8107,8.8107,7.5447,9.0691,9.0691,9.0691,8.9676,8.9676,8.9322,8.8804,8.4562,9.8058,9.8058,7.3796,6.5958,6.1965,6.1808,7.130850000000001,7.49826,7.49826,6.1681,8.9862,8.9802,6.1681,8.9862,8.9802,8.253,8.6187,8.3417,8.2901,6.64495,8.0077,8.2344,6.839625,6.839625,6.839625,9.22,9.2694,9.2694,8.6391,8.8889,8.6421,6.2204,8.9573,8.9261,6.1469,6.1469,6.1469,6.1432,6.1574,6.1232,8.4127,8.48825,8.48825,8.48825,8.8649,6.1232,8.4127,8.48825,8.48825,8.48825,8.8649,8.8649,7.5866,8.1066,9.2813,8.8457,8.6005,8.5964,8.5964,9.4839,8.3039,9.1835,8.84,8.6777,9.9649,9.9649,8.5849,9.173533333333332,8.262525,6.1167,6.1207,9.2635,6.6553,6.1221,6.6445,7.1757,8.795375,8.795375,8.742,8.951066666666668,7.1757,8.795375,8.795375,8.742,8.951066666666668,8.951066666666668,8.951066666666668,8.951066666666668,8.951066666666668,8.951066666666668,8.951066666666668,8.951066666666668,8.951066666666668,8.951066666666668,8.951066666666668,8.9077,9.0144,8.9798,6.277200000000001,9.0681,8.209066666666667,8.3345,9.7199,8.6424,8.951066666666668,8.951066666666668,8.3345,9.7199,8.6424,8.951066666666668,8.951066666666668,6.9846,6.9846,8.2742,9.4166,9.4166,9.4166,9.4166,8.988966666666668,8.1865,8.601566666666667,6.559,8.8244,6.3364,8.795375,8.795375,8.602533333333334,8.602533333333334,8.602533333333334,8.1704,8.1704,8.1704,8.1704,8.3055,8.6489,8.6489,8.3205,7.5508,7.5508,6.5831,8.7953,8.7953,7.5508,6.5831,8.7953,8.7953,8.951066666666668,6.9299,8.9473,8.9473,9.0078,6.0889,6.118,9.9249,6.7779,6.6557,8.543,8.8107,8.1793,7.801349999999999,8.7063,8.499,8.499,8.499,8.1867,9.5104,8.5526,6.99565,9.8492,8.207,6.73035,8.207,6.73035,9.5013,8.7261,8.89535,9.79045,7.8076,6.8774,8.9355,6.5626,6.5626,9.817066666666667,9.817066666666667,9.817066666666667,9.817066666666667,9.817066666666667,9.817066666666667,8.439599999999999,8.7254,8.7254,7.5974,8.9306,8.6792,8.4593,8.4593,8.1867,8.4429,8.3832,8.7213,6.1463,8.9706,7.12515,7.0561,9.1122,8.9706,7.12515,7.0561,9.1122,8.3412,8.803049999999999,8.715033333333333,8.757666666666667,8.776,8.6831,8.6596,8.2492,7.7986,7.7986,8.4311,8.5207,8.5901,8.5512,8.5512,8.5403,8.5445,8.0841,8.9028,8.9028,8.9116,8.9798,7.5375,7.4064,7.4064,7.307,7.307,7.307,7.307,7.307,7.307,7.307,7.307,7.307,7.307,7.307,7.307,9.4324,7.2379,8.772,8.772,8.772,8.772,8.772,8.554400000000001,8.2914,9.0077,9.0077,8.916,8.916,8.916,7.5947,7.302725,9.02528,9.0017,8.99615,8.99615,7.5209,7.2473,7.2473,7.5677,7.5677,7.5677,7.5677,8.209066666666667,7.6363,8.9655,7.5209,7.2473,7.2473,7.5677,7.5677,7.5677,7.5677,8.209066666666667,7.6363,8.9655,8.9655,8.9655,8.9655,8.9655,8.9655,8.9055,7.4032,7.4032,8.9274,8.9274,8.8107,8.8107,8.714500000000001,8.714500000000001,8.714500000000001,8.714500000000001,8.9495,8.9945,8.9945,9.0119,9.0119,8.9676,8.9676,8.9676,8.9676,8.9676,8.9676,8.9676,8.9676,8.9676,8.9676,8.9676,8.9676,8.9676,8.9676,8.9676,8.9676,8.9845,8.9707,8.8996,8.822666666666667,8.8804,8.8804,8.8804,8.8804,8.9815,8.9815,8.5955,8.5955,8.5955,9.0196,9.0196,9.0196,9.0196,9.0372,9.0372,6.9428,8.9567,8.9567,8.9567,7.303,7.303,7.303,7.303,7.303,7.303,7.303,7.303,7.303,7.303,7.303,7.303,7.303,7.303,7.303,7.303,7.303,7.303,7.303,7.303,7.303,7.303,7.303,7.303,7.49826,7.49826,7.49826,7.49826,7.49826,7.49826,7.49826,7.49826,7.49826,7.49826,7.49826,7.49826,7.49826,7.49826,7.49826,7.0367,8.9135,8.9135,8.9135,8.9135,8.3468,8.3468,7.7611,7.7611,7.7611,8.5957,8.7137,8.2392,8.2392,8.9077,6.94355,6.9018,9.0647,9.0647,9.4685,7.1119,8.9261,6.1221,7.1119,8.9261,6.1221,6.1624,7.194333333333333,7.194333333333333,9.0203,9.0203,9.0203,8.8649,8.9954,7.1483,7.344509090909091,7.5976375,7.5976375,7.5976375,7.5976375,7.5976375,7.5976375,7.5976375,7.5976375,7.1252,7.308366666666667,8.4169,8.8786,7.25505,7.8573,6.85585,6.85585,7.1606,6.859,7.0354,7.0354,6.919,6.919,7.1606,6.859,7.0354,7.0354,6.919,6.919,6.738433333333333,7.3717,8.795375,8.795375,8.795375,8.795375,8.795375,8.795375,8.795375,8.795375,8.795375,8.795375,8.795375,8.795375,8.795375,8.795375,8.7788,8.7788,8.8244,8.7788,8.742,8.5934,8.7788,8.742,8.5934,8.951066666666668,8.951066666666668,8.951066666666668,8.951066666666668,8.951066666666668,8.951066666666668,8.951066666666668,8.951066666666668,8.951066666666668,8.951066666666668,8.951066666666668,8.951066666666668,8.951066666666668,8.951066666666668,8.951066666666668,8.951066666666668,8.951066666666668,8.951066666666668,8.951066666666668,8.951066666666668,8.951066666666668,8.951066666666668,8.951066666666668,8.96,8.9473,8.9344,8.9274,8.9274,8.9706,8.9706,8.9706,8.9706,8.9706,8.980550000000001,8.980550000000001,8.980550000000001,8.9862,8.9862,8.9945,8.9945,8.9945,6.6881,7.07775,7.07775,8.951066666666668,8.951066666666668,8.951066666666668,8.951066666666668,8.951066666666668,6.9846,8.9911,8.951066666666668,8.951066666666668,8.951066666666668,8.951066666666668,6.9846,8.9911,8.9911,8.9911,8.9911,8.9488,8.9488,8.9488,8.988966666666668,8.988966666666668,8.988966666666668,8.988966666666668,8.988966666666668,8.8244,8.8244,8.8244,8.8244,8.8244,8.8244,8.8244,8.8244,8.8244,8.8244,8.8244,6.3553,7.5209,6.3364,8.9143,8.9143,6.3553,7.5209,6.3364,8.9143,8.9143,8.9143,8.9143,8.9143,6.93064,6.93064,6.93064,6.93064,6.93064,6.93064,6.93064,8.9082,6.8644,6.8644,6.8644,8.917,8.917,8.917,8.0413,7.5508,8.7953,8.7953,7.1481,8.9082,6.8644,6.8644,6.8644,8.917,8.917,8.917,8.0413,7.5508,8.7953,8.7953,7.1481,7.1481,7.16035,7.16035,7.16035,7.16035,8.951066666666668,8.951066666666668,8.951066666666668,8.951066666666668,8.951066666666668,8.951066666666668,8.951066666666668,6.110633333333333,6.110633333333333,8.165,6.118,9.0219,8.8593,8.165,6.118,9.0219,8.8593,8.8593,8.8593,8.9532,9.6953,9.6953,9.6953,8.980550000000001,8.980550000000001,8.980550000000001,6.7779,6.7779,8.980550000000001,6.7779,6.7779,7.6015,9.585,9.585,7.2201,7.2201,7.2201,7.2201,7.2201,7.2201,8.9845,8.9845,8.9845,8.9845,8.9645,8.9645,8.9645,8.9645,6.9252,7.4463,9.5104,8.98,8.98,8.98,7.1844,7.1844,9.2224,9.18145,8.9271,8.9271,8.9702,8.9702,8.9702,7.5291,7.5291,7.5291,7.5291,7.5291,7.3623,7.3623,7.3623,7.3623,7.3623,7.3623,7.3623,7.3623,7.3623,7.3623,7.3623,7.3623,7.3623,7.3623,7.3623,7.3623,7.3623,7.3623,7.3623,7.5295,8.96,9.0144,8.9355,6.8982,7.3623,7.3623,7.3623,7.5295,8.96,9.0144,8.9355,6.8982,6.8982,7.417899999999999,6.99565,9.3072,8.9324,9.4497,7.6307,8.9306,8.7458,7.5589,6.8596,6.8596,8.9306,8.9306,8.6792,7.417899999999999,7.417899999999999,7.417899999999999,7.417899999999999,7.417899999999999,7.417899999999999,8.9306,8.7458,7.5589,6.8596,6.8596,8.9306,8.9306,8.6792,7.417899999999999,7.417899999999999,7.417899999999999,7.417899999999999,7.417899999999999,7.417899999999999,7.417899999999999,7.417899999999999,7.417899999999999,7.417899999999999,7.417899999999999,8.5451,7.5667,7.5939,7.3906,8.32985,8.0879,8.238,9.088733333333332,8.1779,8.5956,6.586475,7.0916,8.071399999999999,8.071399999999999,7.9541,8.3977,7.9541,8.3977,6.2046,8.4242,7.6036,8.5204,8.5352,8.932166666666667,8.9028,8.9028,8.614899999999999,8.641066666666667,9.279,7.3731,7.3731,8.428600000000001,8.9929,8.772,8.8163,7.2051,9.4731,8.297899999999998,9.0077,9.0077,8.6304,8.497399999999999,8.6304,8.497399999999999,8.3494,7.5677,8.9127,8.9274,8.9274,9.0397,8.2112,8.437,8.178,6.5508,8.8715,8.9676,8.8996,8.8804,6.846,6.937,8.88555,6.937,8.88555,7.3796,6.817,7.4522,7.49826,6.5775500000000005,6.8939,8.9441,7.6243,8.3417,6.5586,7.7964,8.3468,8.3235,6.6685,8.019466666666666,7.5445,8.9609,6.839625,6.839625,6.839625,8.75,8.9514,9.194966666666666,7.0793,7.732,8.9546,6.2204,8.9514,9.194966666666666,7.0793,7.732,8.9546,6.2204,6.1614,9.020733333333334,8.48825,8.1415,8.789,7.5866,7.9996,7.1252,8.4965,7.6611,8.2159,8.7634,8.0625,7.6256,8.2576,8.662533333333334,8.662533333333334,8.84,8.2801,9.9649,8.7783,8.262525,9.7955,6.586475,6.586475,6.4705,7.7711,9.7955,6.586475,6.586475,6.4705,7.7711,6.6445,6.6445,8.1784,7.49826,8.9546,8.9707,8.951066666666668,8.951066666666668,8.951066666666668,8.951066666666668,9.0144,8.2006,7.8096,8.8914,8.1845,8.9194,8.6424,8.14555,8.9488,6.177849999999999,6.3364,8.9143,9.0215,6.4973,8.991,8.201,8.5118,8.991,8.201,8.5118,7.6166,6.229333333333333,9.0053,8.3977,9.5183,9.5183,8.638333333333334,8.9448,7.1757,7.16035,8.951066666666668,9.0078,8.6425,8.8593,8.980550000000001,7.59105,7.59105,8.3319,6.5897,8.7911,7.6512,8.2739,8.9645,7.8836,9.0003,8.9645,7.8836,9.0003,7.581666666666666,6.035,9.0446,7.35142,8.2087,9.645133333333332,9.645133333333332,8.7261,7.8076,6.9969,9.3636,7.927,8.7456,7.1438,6.1506,8.6792,8.4593,6.2037,7.2297,8.4593,6.2037,7.2297,6.1463,6.1463,8.9252,8.8563,8.8563,8.8563,8.4859,8.6815,7.2806,8.6508,8.4743,8.4743,8.2221,8.776,9.3798,8.28215,7.8216,6.654466666666667,7.8762,8.3582,8.5499,7.9057,8.932166666666667,7.584,7.584,8.614899999999999,7.9057,8.932166666666667,7.584,7.584,8.614899999999999,7.1262,8.874,6.4166,7.307,9.4324,8.7403,8.7403,7.2379,8.9929,6.1599,8.772,6.0086,7.5976375,9.0077,9.0077,8.9929,6.1599,8.772,6.0086,7.5976375,9.0077,9.0077,9.612,7.5947,8.8916,8.839833333333333,8.3494,9.02528,7.302725,7.0551,7.0551,7.0551,8.99615,7.5677,7.5677,8.9127,8.9127,8.9127,8.9655,6.922,6.922,8.9127,8.9655,6.922,6.922,6.922,6.922,6.922,6.922,6.1845,7.4032,8.7577,8.714500000000001,8.9376,8.7846,7.8661,8.7308,7.4658,7.746,8.822666666666667,8.7846,7.8661,8.7308,7.4658,7.746,8.822666666666667,8.8996,9.1077,8.9322,8.8804,8.8804,8.9934,8.839,8.5955,7.5055,7.21165,7.21165,7.21165,6.6516,6.8239,7.4802,7.4802,6.782566666666667,8.88555,8.88555,8.88555,9.0372,7.0953,8.986,8.9143,8.9798,7.0559,6.1808,7.303,8.9143,8.9798,7.0559,6.1808,7.303,7.5291,6.817,7.130850000000001,7.49826,7.49826,7.49826,6.2127,7.0367,8.9135,8.9135,8.9441,7.3333,7.8097,8.398166666666667,8.9802,6.317399999999999,8.2901,7.81435,7.5445,7.1876,7.4516,8.8563,7.1119,7.1119,7.1119,7.1119,7.1119,7.1119,7.1119,7.1119,7.1119,6.3727,8.9261,8.9261,8.9261,8.9261,8.4127,8.4127,8.4127,8.8649,8.8649,7.3796,7.4865,7.4865,8.067,7.308366666666667,6.2325,8.0465,8.2857,7.7513,7.456,8.662533333333334,9.0494,8.4626,6.586475,7.2461,6.4705,7.7854,8.9205,6.1221,7.37895,7.37895,6.99705,8.9205,6.1221,7.37895,7.37895,6.99705,7.174341666666667,7.7255,8.7788,8.7788,8.674866666666667,8.9976,8.9707,8.951066666666668,8.951066666666668,8.951066666666668,8.951066666666668,8.951066666666668,8.951066666666668,8.951066666666668,8.951066666666668,8.9322,7.6961,8.247,8.8713,8.8914,9.0386,8.9488,8.988966666666668,8.9705,9.0386,8.9488,8.988966666666668,8.9705,8.9082,8.8244,7.5551,8.9143,6.9258500000000005,6.93064,6.93064,9.0215,9.0397,8.9082,6.4973,7.6486,8.17805,8.922,8.602533333333334,7.4579,9.2016,9.2016,8.9785,8.9785,8.9785,7.5021,9.2016,9.2016,8.9785,8.9785,8.9785,7.5021,8.7627,8.7627,8.422,8.89335,7.4802,8.9448,8.9448,8.9448,7.16035,8.6463,6.9299,8.9473,8.894,7.582,9.0219,6.9299,8.9473,8.894,7.582,9.0219,7.35142,8.8652,8.8652,8.8652,8.8652,8.8493,8.9705,9.5898,7.801349999999999,7.801349999999999,7.2201,7.6512,8.9645,8.865,8.809149999999999,7.302725,6.8982,7.410818181818183,8.952,7.35142,7.35142,7.35142,7.35142,8.6789,8.7762,7.35142,7.35142,7.35142,7.35142,8.6789,8.7762,8.973,10.3704,7.344509090909091,7.344509090909091,7.1844,7.1844,7.5061,8.9702,8.9,7.3623,9.15115,8.9355,6.8982,6.99565,6.99565,8.9324,6.5126333333333335,6.5126333333333335,9.198866666666667,7.6307,8.7458,8.8157,7.6307,8.7458,8.8157,8.9437,6.1506,7.35142,9.2779,9.0364,8.96,8.809149999999999,6.3714,7.613133333333334,7.613133333333334,8.728,6.8427,7.345499999999999,8.9252,6.5632,7.055166666666668,8.9231,8.3412,8.757666666666667,7.5261,6.9458,8.9075,8.9207,8.0483,8.0483,8.0483,8.0841,7.9057,8.9207,8.0483,8.0483,8.0483,8.0841,7.9057,7.9057,7.9057,7.9057,7.9057,7.9057,7.9057,7.9057,7.7643,7.7643,7.7643,8.932166666666667,8.932166666666667,8.932166666666667,8.7071,8.4634,8.4634,7.5495,7.584,8.2386,7.733650000000001,7.733650000000001,7.700066666666667,8.489650000000001,9.02385,9.02385,8.4311,8.4582,7.6673,7.6673,6.5077,8.9028,8.9028,8.9028,8.9028,8.9028,8.9028,8.9028,8.9116,8.9116,8.9116,8.9116,8.9116,8.9116,6.9716,6.9716,6.9716,6.9716,6.9716,8.9116,6.9716,6.9716,6.9716,6.9716,6.9716,6.9716,8.614899999999999,8.614899999999999,8.614899999999999,7.03686,7.03686,7.03686,7.03686,7.03686,8.9798,8.9798,6.3983,6.3983,7.1262,7.1262,7.1262,7.1262,7.5211,7.5211,7.5375,7.5375,7.5375,7.5375,7.5375,7.1262,7.1262,7.1262,7.5211,7.5211,7.5375,7.5375,7.5375,7.5375,7.5375,9.2647,8.641066666666667,8.641066666666667,8.641066666666667,8.7841,9.163966666666669,8.884,9.5485,9.5485,9.5485,9.5485,9.5485,9.1679,7.353849999999999,9.292,9.1679,7.353849999999999,9.292,8.6544,9.4178,8.2631,6.2226,6.2226,6.2226,6.2226,6.2226,6.2226,6.2226,6.2226,6.2226,6.2226,6.2226,6.2226,6.2226,6.2226,6.2226,6.2226,6.2226,7.5976375,7.5976375,7.4064,7.4064,7.4064,7.4064,6.4166,6.4166,7.307,7.307,7.307,7.307,7.307,7.307,7.307,7.307,7.307],\"marker\":{\"color\":[1235000,650000,3700000,799000,990000,660000,910000,1180000,1390000,890000,495000,1290000,520000,650000,1055000,1050000,600000,895000,510000,1400000,1480000,1490000,840000,2600000,1390000,330000,790000,2600000,1390000,330000,790000,3251000,6630000,565000,1390000,1480000,980000,1190000,1370000,1450000,1495000,2800000,3500000,439000,745000,855000,1195000,1350000,840000,960000,1460000,1480000,1580000,420000,1600000,635000,950000,1220000,550000,1600000,635000,950000,1220000,550000,840000,995000,595000,2250000,3520000,742000,380000,555000,945000,1260000,1400000,1350000,1485000,1690000,1500000,1980000,560000,1450000,1590000,1520000,687000,1520000,2200000,920000,1395000,995000,920000,1395000,995000,755000,1920000,750000,550000,785000,690000,550000,430000,645000,785000,900000,2751200,2798100,1700000,1080000,1290000,1195000,620000,3510000,4700000,4900000,11500000,1570000,5000000,4900000,910000,598000,820000,1195000,995000,4900000,910000,598000,820000,1195000,995000,1240000,930000,700000,795000,790000,1150000,670000,3990000,1020000,1490000,995000,540000,905000,1950000,950000,470000,750000,1295000,920000,1370000,1850000,1200000,2195000,1790000,1280000,1150000,1285000,950000,565000,1280000,1150000,1285000,950000,565000,625000,725000,1060000,1122000,1170000,1400000,2650000,2780000,3750000,3950000,1850000,1250000,6840000,1290000,780000,797000,790000,1300000,930000,595000,1025000,790000,1300000,930000,595000,1025000,523500,620500,380000,555000,605000,825000,1115000,1060000,945000,1560000,1050000,810000,2265000,1190000,1350000,415000,510000,645000,495000,670000,972000,1282000,1060000,1690000,2650000,650000,895000,1200000,620000,720000,1850000,1200000,620000,720000,1850000,3400000,585000,500000,1400000,470000,1255000,1540000,1900000,5200000,2660000,1190000,1130000,585000,585000,2790000,750000,1280000,1320000,1210000,1150000,5450000,419000,1215000,1190000,620000,1190000,620000,1050000,1320000,1190000,3200000,990000,410000,550000,1750000,1750000,990000,1390000,1800000,1850000,3200000,3200000,1250000,3290000,4730000,360000,1155000,1760000,3470000,4480000,993000,2275000,980000,690000,2000000,1690000,670000,445000,1656000,1690000,670000,445000,1656000,1100000,975000,3200000,750000,1090000,1690000,2510000,650000,835000,890000,1260000,2180000,3490000,1180000,2200000,1190000,1710000,350000,745000,830000,890000,1670000,1190000,240000,915000,550000,550000,580000,650000,650000,650000,580000,650000,650000,650000,680000,680000,320000,699000,1350000,1440000,1495000,1850000,5660000,1300000,495000,490000,491800,720000,740000,760000,650000,540000,780000,987000,595000,620000,1100000,565000,790000,825000,900000,1180000,1790000,645000,775000,300000,1100000,565000,790000,825000,900000,1180000,1790000,645000,775000,300000,300000,340000,1400000,3720000,3750000,1190000,279000,585000,680000,1185000,2200000,3400000,480000,950000,1350000,1450000,598000,595000,1390000,470000,540000,520000,720000,878000,1260000,1685000,1860000,1860000,1980000,878000,1260000,1685000,1860000,1860000,1980000,1980000,2550000,360000,495000,1400000,323000,400000,420000,460000,785000,1350000,1570000,415000,550000,570000,380000,420000,525000,890000,385000,580000,485000,1050000,1060000,1391280,170000,186800,299000,365000,384000,386000,386400,454000,463000,463000,463000,463000,483000,500000,500000,545000,550000,565000,584100,620000,650000,786500,1060000,1270000,590000,750000,1090000,1150000,1090000,1150000,1250000,1350000,1365000,1590000,1600000,1740000,1850000,2700000,5750000,770000,645000,645000,655000,880000,490000,546000,370000,590000,650000,860000,1090000,620000,1200000,1850000,445000,1095000,470000,780000,380000,149000,3090000,2690000,149000,3090000,2690000,1350000,580000,580000,595000,770000,780000,1380000,570000,915000,713300,1258000,1284000,1284000,1395000,1419000,1419000,1928000,2053000,435000,268000,1890000,340000,135000,735000,720000,990000,640000,1370000,760000,760000,650000,850000,640000,1370000,760000,760000,650000,850000,260000,410000,399000,500000,530000,670000,680000,700000,740000,785000,790000,850000,880000,1440000,1950000,2450000,1300000,1690000,2120000,1300000,530000,850000,1300000,530000,850000,563000,569000,582000,890000,920000,920000,980000,980000,1200000,1200000,1290000,1435000,1530000,1560000,1590000,1700000,1710000,1800000,2300000,3300000,2300000,3300000,3600000,1500000,415000,770000,1150000,1270000,510000,900000,950000,1495000,1550000,590000,590000,2050000,995000,1245000,685000,1230000,1280000,1300000,366000,370000,320000,790000,885000,1450000,3000000,265000,510000,790000,885000,1450000,3000000,265000,510000,990000,1600000,1600000,1030000,1130000,1415000,210000,715000,1090000,1160000,1160000,630000,640000,760000,890000,1215000,1590000,2300000,2440000,2550000,2565000,2630000,461900,380000,3480000,1680000,1830000,461900,380000,3480000,1680000,1830000,2780000,4560000,4590000,680000,860000,1600000,1650000,2250000,2590000,3900000,1350000,525000,580000,620000,1690000,2320000,4400000,680000,750000,850000,1280000,495000,1350000,525000,580000,620000,1690000,2320000,4400000,680000,750000,850000,1280000,495000,599000,149000,265000,626000,759000,1395000,1480000,2000000,2050000,2620000,2630000,3505000,1595000,1690000,365000,1595000,805000,590000,365000,1595000,805000,590000,650000,710000,2900000,610000,815000,830000,698000,1390000,1590000,1680000,1690000,1590000,1680000,1690000,360000,330000,330000,316350,333569,349031,425000,681673,822000,406400,580400,580400,672000,597600,731100,746000,1370000,520000,545000,430000,2650000,3300000,3600000,525000,555000,675000,690000,1100000,1250000,150000,615000,725000,340000,350000,370000,525000,1260000,318000,356000,372000,404000,420000,434000,451000,492000,495000,540000,653000,659000,720000,829000,898000,990000,1108800,1125000,1670000,640000,1175000,995000,1070000,1710000,1108800,1125000,1670000,640000,1175000,995000,1070000,1710000,1750000,440000,265000,630000,590000,515000,465000,398000,590000,735000,180000,300000,400000,745000,1175000,182000,218000,276000,321000,348000,348000,398000,590000,735000,180000,300000,400000,745000,1175000,182000,218000,276000,321000,348000,348000,353000,361000,363000,481000,486000,1490000,1960000,2650000,1095000,1400000,1200000,1290000,1380000,1295000,1998000,9999999,1270000,1180000,1280000,1090000,1690000,1090000,1690000,2650000,3050000,1790000,10000000,5800000,1200000,885000,900000,550000,1100000,1550000,1490000,1700000,1300000,1030000,2800000,450000,3200000,2750000,1190000,1130000,2250000,1550000,830000,1550000,830000,1095000,2100000,990000,1400000,3300000,1900000,1150000,1550000,2200000,1850000,1239000,1250000,780000,790000,1390000,790000,2400000,790000,2400000,1350000,2980000,1130000,3500000,1990000,1295000,2550000,1680000,1540000,1740000,5800000,1350000,1000000,3990000,1125000,750000,970000,1200000,1200000,1200000,1650000,1150000,595000,599000,1475000,1690000,6500000,1150000,595000,599000,1475000,1690000,6500000,1890000,420000,1290000,895000,1660000,1385000,1200000,5950000,1140000,910000,849000,1995000,810000,2300000,2850000,960000,1900000,3450000,1190000,5500000,1465000,1250000,870000,9999999,9999999,610000,920000,870000,9999999,9999999,610000,920000,2100000,3950000,1090000,1790000,1350000,1270000,1700000,1740000,2950000,7300000,1790000,1825000,1250000,1590000,1350000,1120000,1600000,1146000,7000000,2245000,6200000,12500000,1450000,6500000,1425000,1680000,1850000,1425000,1680000,1850000,870000,3050000,1180000,1690000,1800000,1800000,2900000,3500000,760000,765000,1375000,1460000,1390000,850000,6000000,1820000,2780000,2395000,1850000,820000,6000000,1070000,2990000,2200000,1250000,2990000,2200000,1250000,1029000,2590000,980000,986000,2350000,600000,650000,1390000,740000,1350000,1650000,950000,1490000,1250000,3490000,1750000,8320000,6300000,13590000,8320000,6300000,13590000,2950000,4800000,4500000,1750000,860000,1440000,1200000,2185000,770000,1550000,1850000,1950000,1300000,1780000,1250000,1850000,980000,2780000,799000,2580000,9590000,1240000,1595000,1490000,795000,1680000,1240000,1595000,1490000,795000,1680000,795000,1180000,2850000,695000,1870000,820000,820000,935000,1250000,3190000,2980000,1790000,730000,1050000,1150000,1250000,3190000,2980000,1790000,730000,1050000,1150000,1180000,3360000,950000,790000,1695000,3350000,199000,490000,630000,650000,235000,1490000,2850000,700000,1050000,1050000,1050000,1720000,1790000,1050000,1050000,1720000,1790000,1860000,1860000,4695000,6990000,2560000,1500000,890000,2200000,1100000,975000,750000,6800000,1350000,1370000,536000,975000,750000,6800000,1350000,1370000,536000,4500000,150000,2250000,1140000,1390000,3200000,1570000,1850000,390000,500000,725000,725000,2190000,2950000,1200000,890000,19000000,1050000,1050000,1050000,1235000,790000,1500000,4950000,1480000,1350000,6400000,890000,4950000,1480000,1350000,6400000,890000,220000,12900000,785000,1800000,1850000,4500000,3250000,750000,1190000,1590000,3950000,940000,690000,1990000,1250000,3650000,1850000,1075000,585000,1350000,1200000,4950000,949000,949000,949000,949000,949000,949000,1350000,1366000,1545000,3980000,980000,980000,2850000,6650000,1460000,1520000,1590000,1490000,1950000,1095000,430000,675000,1108000,2630000,2980000,880000,750000,155000,936000,1900000,1830000,2400000,9999999,520000,545000,790000,890000,5500000,1150000,1150000,980000,890000,5500000,1150000,1150000,980000,550000,1350000,2100000,3200000,340000,1495000,890000,1200000,1200000,1580000,1580000,2995000,3000000,4500000,5700000,2130000,1390000,2100000,1620000,3500000,1095000,7000000,1100000,1550000,1095000,7000000,1100000,1550000,585000,1200000,650000,4800000,975000,4600000,6200000,860000,1790000,5000000,4500000,3580000,1320000,1295000,620000,890000,1295000,1295000,820000,830000,895000,2550000,1295000,1295000,820000,830000,895000,2550000,955000,985000,1500000,615000,1250000,1200000,1200000,1300000,1730000,1190000,1050000,1290000,265000,1225000,850000,1050000,1290000,265000,1225000,850000,1780000,675000,910000,3290000,3800000,590000,1550000,1258400,1150000,1370000,3500000,1760000,690000,2420000,4100000,599000,4800000,750000,3950000,750000,770000,810000,1780000,1450000,1730000,750000,770000,810000,1780000,1450000,1730000,1590000,1600000,1650000,6200000,335000,860000,990000,1490000,285000,2800000,2650000,2900000,1790000,870000,1200000,2300000,625000,650000,850000,620000,1900000,250000,620000,1900000,250000,995000,620000,990000,280000,1350000,3800000,1280000,2450000,879000,898000,1290000,12900000,640000,6700000,1590000,1800000,540000,975000,1580000,1290000,690000,1520000,1500000,970000,1950000,2250000,1350000,570000,1500000,970000,1950000,2250000,1350000,570000,790000,850000,895000,1235000,1250000,1349000,1799000,975000,975000,990000,275000,395000,950000,1200000,1985000,1990000,890000,1450000,840000,1330000,1330000,730000,1410000,990000,4580000,1520000,3000000,380000,385000,770000,220000,990000,990000,1290000,1460000,1780000,2300000,630000,920000,1890000,1890000,1890000,2600000,680000,1199000,1200000,2150000,4200000,2600000,680000,1199000,1200000,2150000,4200000,4200000,255000,495000,680000,795000,795000,795000,1100000,1180000,4350000,6050000,4100000,4100000,340000,495000,693000,798000,1350000,1975000,450000,1529000,1540000,1600000,2140000,495000,693000,798000,1350000,1975000,450000,1529000,1540000,1600000,2140000,1400000,1620000,1950000,1950000,1170000,1200000,480000,450000,820000,1275000,1350000,1590000,990000,955000,480000,990000,955000,480000,1199000,975000,1295000,1990000,1990000,2000000,3400000,3400000,3400000,3400000,4950000,4990000,4990000,5200000,5200000,5550000,6390000,6390000,8100000,15500000,1940000,1940000,995000,1000000,1500000,3450000,1340000,4550000,699000,699000,655000,695000,695000,695000,695000,695000,695000],\"coloraxis\":\"coloraxis\",\"size\":[1235000,650000,3700000,799000,990000,660000,910000,1180000,1390000,890000,495000,1290000,520000,650000,1055000,1050000,600000,895000,510000,1400000,1480000,1490000,840000,2600000,1390000,330000,790000,2600000,1390000,330000,790000,3251000,6630000,565000,1390000,1480000,980000,1190000,1370000,1450000,1495000,2800000,3500000,439000,745000,855000,1195000,1350000,840000,960000,1460000,1480000,1580000,420000,1600000,635000,950000,1220000,550000,1600000,635000,950000,1220000,550000,840000,995000,595000,2250000,3520000,742000,380000,555000,945000,1260000,1400000,1350000,1485000,1690000,1500000,1980000,560000,1450000,1590000,1520000,687000,1520000,2200000,920000,1395000,995000,920000,1395000,995000,755000,1920000,750000,550000,785000,690000,550000,430000,645000,785000,900000,2751200,2798100,1700000,1080000,1290000,1195000,620000,3510000,4700000,4900000,11500000,1570000,5000000,4900000,910000,598000,820000,1195000,995000,4900000,910000,598000,820000,1195000,995000,1240000,930000,700000,795000,790000,1150000,670000,3990000,1020000,1490000,995000,540000,905000,1950000,950000,470000,750000,1295000,920000,1370000,1850000,1200000,2195000,1790000,1280000,1150000,1285000,950000,565000,1280000,1150000,1285000,950000,565000,625000,725000,1060000,1122000,1170000,1400000,2650000,2780000,3750000,3950000,1850000,1250000,6840000,1290000,780000,797000,790000,1300000,930000,595000,1025000,790000,1300000,930000,595000,1025000,523500,620500,380000,555000,605000,825000,1115000,1060000,945000,1560000,1050000,810000,2265000,1190000,1350000,415000,510000,645000,495000,670000,972000,1282000,1060000,1690000,2650000,650000,895000,1200000,620000,720000,1850000,1200000,620000,720000,1850000,3400000,585000,500000,1400000,470000,1255000,1540000,1900000,5200000,2660000,1190000,1130000,585000,585000,2790000,750000,1280000,1320000,1210000,1150000,5450000,419000,1215000,1190000,620000,1190000,620000,1050000,1320000,1190000,3200000,990000,410000,550000,1750000,1750000,990000,1390000,1800000,1850000,3200000,3200000,1250000,3290000,4730000,360000,1155000,1760000,3470000,4480000,993000,2275000,980000,690000,2000000,1690000,670000,445000,1656000,1690000,670000,445000,1656000,1100000,975000,3200000,750000,1090000,1690000,2510000,650000,835000,890000,1260000,2180000,3490000,1180000,2200000,1190000,1710000,350000,745000,830000,890000,1670000,1190000,240000,915000,550000,550000,580000,650000,650000,650000,580000,650000,650000,650000,680000,680000,320000,699000,1350000,1440000,1495000,1850000,5660000,1300000,495000,490000,491800,720000,740000,760000,650000,540000,780000,987000,595000,620000,1100000,565000,790000,825000,900000,1180000,1790000,645000,775000,300000,1100000,565000,790000,825000,900000,1180000,1790000,645000,775000,300000,300000,340000,1400000,3720000,3750000,1190000,279000,585000,680000,1185000,2200000,3400000,480000,950000,1350000,1450000,598000,595000,1390000,470000,540000,520000,720000,878000,1260000,1685000,1860000,1860000,1980000,878000,1260000,1685000,1860000,1860000,1980000,1980000,2550000,360000,495000,1400000,323000,400000,420000,460000,785000,1350000,1570000,415000,550000,570000,380000,420000,525000,890000,385000,580000,485000,1050000,1060000,1391280,170000,186800,299000,365000,384000,386000,386400,454000,463000,463000,463000,463000,483000,500000,500000,545000,550000,565000,584100,620000,650000,786500,1060000,1270000,590000,750000,1090000,1150000,1090000,1150000,1250000,1350000,1365000,1590000,1600000,1740000,1850000,2700000,5750000,770000,645000,645000,655000,880000,490000,546000,370000,590000,650000,860000,1090000,620000,1200000,1850000,445000,1095000,470000,780000,380000,149000,3090000,2690000,149000,3090000,2690000,1350000,580000,580000,595000,770000,780000,1380000,570000,915000,713300,1258000,1284000,1284000,1395000,1419000,1419000,1928000,2053000,435000,268000,1890000,340000,135000,735000,720000,990000,640000,1370000,760000,760000,650000,850000,640000,1370000,760000,760000,650000,850000,260000,410000,399000,500000,530000,670000,680000,700000,740000,785000,790000,850000,880000,1440000,1950000,2450000,1300000,1690000,2120000,1300000,530000,850000,1300000,530000,850000,563000,569000,582000,890000,920000,920000,980000,980000,1200000,1200000,1290000,1435000,1530000,1560000,1590000,1700000,1710000,1800000,2300000,3300000,2300000,3300000,3600000,1500000,415000,770000,1150000,1270000,510000,900000,950000,1495000,1550000,590000,590000,2050000,995000,1245000,685000,1230000,1280000,1300000,366000,370000,320000,790000,885000,1450000,3000000,265000,510000,790000,885000,1450000,3000000,265000,510000,990000,1600000,1600000,1030000,1130000,1415000,210000,715000,1090000,1160000,1160000,630000,640000,760000,890000,1215000,1590000,2300000,2440000,2550000,2565000,2630000,461900,380000,3480000,1680000,1830000,461900,380000,3480000,1680000,1830000,2780000,4560000,4590000,680000,860000,1600000,1650000,2250000,2590000,3900000,1350000,525000,580000,620000,1690000,2320000,4400000,680000,750000,850000,1280000,495000,1350000,525000,580000,620000,1690000,2320000,4400000,680000,750000,850000,1280000,495000,599000,149000,265000,626000,759000,1395000,1480000,2000000,2050000,2620000,2630000,3505000,1595000,1690000,365000,1595000,805000,590000,365000,1595000,805000,590000,650000,710000,2900000,610000,815000,830000,698000,1390000,1590000,1680000,1690000,1590000,1680000,1690000,360000,330000,330000,316350,333569,349031,425000,681673,822000,406400,580400,580400,672000,597600,731100,746000,1370000,520000,545000,430000,2650000,3300000,3600000,525000,555000,675000,690000,1100000,1250000,150000,615000,725000,340000,350000,370000,525000,1260000,318000,356000,372000,404000,420000,434000,451000,492000,495000,540000,653000,659000,720000,829000,898000,990000,1108800,1125000,1670000,640000,1175000,995000,1070000,1710000,1108800,1125000,1670000,640000,1175000,995000,1070000,1710000,1750000,440000,265000,630000,590000,515000,465000,398000,590000,735000,180000,300000,400000,745000,1175000,182000,218000,276000,321000,348000,348000,398000,590000,735000,180000,300000,400000,745000,1175000,182000,218000,276000,321000,348000,348000,353000,361000,363000,481000,486000,1490000,1960000,2650000,1095000,1400000,1200000,1290000,1380000,1295000,1998000,9999999,1270000,1180000,1280000,1090000,1690000,1090000,1690000,2650000,3050000,1790000,10000000,5800000,1200000,885000,900000,550000,1100000,1550000,1490000,1700000,1300000,1030000,2800000,450000,3200000,2750000,1190000,1130000,2250000,1550000,830000,1550000,830000,1095000,2100000,990000,1400000,3300000,1900000,1150000,1550000,2200000,1850000,1239000,1250000,780000,790000,1390000,790000,2400000,790000,2400000,1350000,2980000,1130000,3500000,1990000,1295000,2550000,1680000,1540000,1740000,5800000,1350000,1000000,3990000,1125000,750000,970000,1200000,1200000,1200000,1650000,1150000,595000,599000,1475000,1690000,6500000,1150000,595000,599000,1475000,1690000,6500000,1890000,420000,1290000,895000,1660000,1385000,1200000,5950000,1140000,910000,849000,1995000,810000,2300000,2850000,960000,1900000,3450000,1190000,5500000,1465000,1250000,870000,9999999,9999999,610000,920000,870000,9999999,9999999,610000,920000,2100000,3950000,1090000,1790000,1350000,1270000,1700000,1740000,2950000,7300000,1790000,1825000,1250000,1590000,1350000,1120000,1600000,1146000,7000000,2245000,6200000,12500000,1450000,6500000,1425000,1680000,1850000,1425000,1680000,1850000,870000,3050000,1180000,1690000,1800000,1800000,2900000,3500000,760000,765000,1375000,1460000,1390000,850000,6000000,1820000,2780000,2395000,1850000,820000,6000000,1070000,2990000,2200000,1250000,2990000,2200000,1250000,1029000,2590000,980000,986000,2350000,600000,650000,1390000,740000,1350000,1650000,950000,1490000,1250000,3490000,1750000,8320000,6300000,13590000,8320000,6300000,13590000,2950000,4800000,4500000,1750000,860000,1440000,1200000,2185000,770000,1550000,1850000,1950000,1300000,1780000,1250000,1850000,980000,2780000,799000,2580000,9590000,1240000,1595000,1490000,795000,1680000,1240000,1595000,1490000,795000,1680000,795000,1180000,2850000,695000,1870000,820000,820000,935000,1250000,3190000,2980000,1790000,730000,1050000,1150000,1250000,3190000,2980000,1790000,730000,1050000,1150000,1180000,3360000,950000,790000,1695000,3350000,199000,490000,630000,650000,235000,1490000,2850000,700000,1050000,1050000,1050000,1720000,1790000,1050000,1050000,1720000,1790000,1860000,1860000,4695000,6990000,2560000,1500000,890000,2200000,1100000,975000,750000,6800000,1350000,1370000,536000,975000,750000,6800000,1350000,1370000,536000,4500000,150000,2250000,1140000,1390000,3200000,1570000,1850000,390000,500000,725000,725000,2190000,2950000,1200000,890000,19000000,1050000,1050000,1050000,1235000,790000,1500000,4950000,1480000,1350000,6400000,890000,4950000,1480000,1350000,6400000,890000,220000,12900000,785000,1800000,1850000,4500000,3250000,750000,1190000,1590000,3950000,940000,690000,1990000,1250000,3650000,1850000,1075000,585000,1350000,1200000,4950000,949000,949000,949000,949000,949000,949000,1350000,1366000,1545000,3980000,980000,980000,2850000,6650000,1460000,1520000,1590000,1490000,1950000,1095000,430000,675000,1108000,2630000,2980000,880000,750000,155000,936000,1900000,1830000,2400000,9999999,520000,545000,790000,890000,5500000,1150000,1150000,980000,890000,5500000,1150000,1150000,980000,550000,1350000,2100000,3200000,340000,1495000,890000,1200000,1200000,1580000,1580000,2995000,3000000,4500000,5700000,2130000,1390000,2100000,1620000,3500000,1095000,7000000,1100000,1550000,1095000,7000000,1100000,1550000,585000,1200000,650000,4800000,975000,4600000,6200000,860000,1790000,5000000,4500000,3580000,1320000,1295000,620000,890000,1295000,1295000,820000,830000,895000,2550000,1295000,1295000,820000,830000,895000,2550000,955000,985000,1500000,615000,1250000,1200000,1200000,1300000,1730000,1190000,1050000,1290000,265000,1225000,850000,1050000,1290000,265000,1225000,850000,1780000,675000,910000,3290000,3800000,590000,1550000,1258400,1150000,1370000,3500000,1760000,690000,2420000,4100000,599000,4800000,750000,3950000,750000,770000,810000,1780000,1450000,1730000,750000,770000,810000,1780000,1450000,1730000,1590000,1600000,1650000,6200000,335000,860000,990000,1490000,285000,2800000,2650000,2900000,1790000,870000,1200000,2300000,625000,650000,850000,620000,1900000,250000,620000,1900000,250000,995000,620000,990000,280000,1350000,3800000,1280000,2450000,879000,898000,1290000,12900000,640000,6700000,1590000,1800000,540000,975000,1580000,1290000,690000,1520000,1500000,970000,1950000,2250000,1350000,570000,1500000,970000,1950000,2250000,1350000,570000,790000,850000,895000,1235000,1250000,1349000,1799000,975000,975000,990000,275000,395000,950000,1200000,1985000,1990000,890000,1450000,840000,1330000,1330000,730000,1410000,990000,4580000,1520000,3000000,380000,385000,770000,220000,990000,990000,1290000,1460000,1780000,2300000,630000,920000,1890000,1890000,1890000,2600000,680000,1199000,1200000,2150000,4200000,2600000,680000,1199000,1200000,2150000,4200000,4200000,255000,495000,680000,795000,795000,795000,1100000,1180000,4350000,6050000,4100000,4100000,340000,495000,693000,798000,1350000,1975000,450000,1529000,1540000,1600000,2140000,495000,693000,798000,1350000,1975000,450000,1529000,1540000,1600000,2140000,1400000,1620000,1950000,1950000,1170000,1200000,480000,450000,820000,1275000,1350000,1590000,990000,955000,480000,990000,955000,480000,1199000,975000,1295000,1990000,1990000,2000000,3400000,3400000,3400000,3400000,4950000,4990000,4990000,5200000,5200000,5550000,6390000,6390000,8100000,15500000,1940000,1940000,995000,1000000,1500000,3450000,1340000,4550000,699000,699000,655000,695000,695000,695000,695000,695000,695000],\"sizemode\":\"area\",\"sizeref\":47500.0},\"mode\":\"markers\",\"name\":\"\",\"showlegend\":false,\"subplot\":\"mapbox\",\"type\":\"scattermapbox\"}],                        {\"template\":{\"data\":{\"bar\":[{\"error_x\":{\"color\":\"#2a3f5f\"},\"error_y\":{\"color\":\"#2a3f5f\"},\"marker\":{\"line\":{\"color\":\"#E5ECF6\",\"width\":0.5},\"pattern\":{\"fillmode\":\"overlay\",\"size\":10,\"solidity\":0.2}},\"type\":\"bar\"}],\"barpolar\":[{\"marker\":{\"line\":{\"color\":\"#E5ECF6\",\"width\":0.5},\"pattern\":{\"fillmode\":\"overlay\",\"size\":10,\"solidity\":0.2}},\"type\":\"barpolar\"}],\"carpet\":[{\"aaxis\":{\"endlinecolor\":\"#2a3f5f\",\"gridcolor\":\"white\",\"linecolor\":\"white\",\"minorgridcolor\":\"white\",\"startlinecolor\":\"#2a3f5f\"},\"baxis\":{\"endlinecolor\":\"#2a3f5f\",\"gridcolor\":\"white\",\"linecolor\":\"white\",\"minorgridcolor\":\"white\",\"startlinecolor\":\"#2a3f5f\"},\"type\":\"carpet\"}],\"choropleth\":[{\"colorbar\":{\"outlinewidth\":0,\"ticks\":\"\"},\"type\":\"choropleth\"}],\"contour\":[{\"colorbar\":{\"outlinewidth\":0,\"ticks\":\"\"},\"colorscale\":[[0.0,\"#0d0887\"],[0.1111111111111111,\"#46039f\"],[0.2222222222222222,\"#7201a8\"],[0.3333333333333333,\"#9c179e\"],[0.4444444444444444,\"#bd3786\"],[0.5555555555555556,\"#d8576b\"],[0.6666666666666666,\"#ed7953\"],[0.7777777777777778,\"#fb9f3a\"],[0.8888888888888888,\"#fdca26\"],[1.0,\"#f0f921\"]],\"type\":\"contour\"}],\"contourcarpet\":[{\"colorbar\":{\"outlinewidth\":0,\"ticks\":\"\"},\"type\":\"contourcarpet\"}],\"heatmap\":[{\"colorbar\":{\"outlinewidth\":0,\"ticks\":\"\"},\"colorscale\":[[0.0,\"#0d0887\"],[0.1111111111111111,\"#46039f\"],[0.2222222222222222,\"#7201a8\"],[0.3333333333333333,\"#9c179e\"],[0.4444444444444444,\"#bd3786\"],[0.5555555555555556,\"#d8576b\"],[0.6666666666666666,\"#ed7953\"],[0.7777777777777778,\"#fb9f3a\"],[0.8888888888888888,\"#fdca26\"],[1.0,\"#f0f921\"]],\"type\":\"heatmap\"}],\"heatmapgl\":[{\"colorbar\":{\"outlinewidth\":0,\"ticks\":\"\"},\"colorscale\":[[0.0,\"#0d0887\"],[0.1111111111111111,\"#46039f\"],[0.2222222222222222,\"#7201a8\"],[0.3333333333333333,\"#9c179e\"],[0.4444444444444444,\"#bd3786\"],[0.5555555555555556,\"#d8576b\"],[0.6666666666666666,\"#ed7953\"],[0.7777777777777778,\"#fb9f3a\"],[0.8888888888888888,\"#fdca26\"],[1.0,\"#f0f921\"]],\"type\":\"heatmapgl\"}],\"histogram\":[{\"marker\":{\"pattern\":{\"fillmode\":\"overlay\",\"size\":10,\"solidity\":0.2}},\"type\":\"histogram\"}],\"histogram2d\":[{\"colorbar\":{\"outlinewidth\":0,\"ticks\":\"\"},\"colorscale\":[[0.0,\"#0d0887\"],[0.1111111111111111,\"#46039f\"],[0.2222222222222222,\"#7201a8\"],[0.3333333333333333,\"#9c179e\"],[0.4444444444444444,\"#bd3786\"],[0.5555555555555556,\"#d8576b\"],[0.6666666666666666,\"#ed7953\"],[0.7777777777777778,\"#fb9f3a\"],[0.8888888888888888,\"#fdca26\"],[1.0,\"#f0f921\"]],\"type\":\"histogram2d\"}],\"histogram2dcontour\":[{\"colorbar\":{\"outlinewidth\":0,\"ticks\":\"\"},\"colorscale\":[[0.0,\"#0d0887\"],[0.1111111111111111,\"#46039f\"],[0.2222222222222222,\"#7201a8\"],[0.3333333333333333,\"#9c179e\"],[0.4444444444444444,\"#bd3786\"],[0.5555555555555556,\"#d8576b\"],[0.6666666666666666,\"#ed7953\"],[0.7777777777777778,\"#fb9f3a\"],[0.8888888888888888,\"#fdca26\"],[1.0,\"#f0f921\"]],\"type\":\"histogram2dcontour\"}],\"mesh3d\":[{\"colorbar\":{\"outlinewidth\":0,\"ticks\":\"\"},\"type\":\"mesh3d\"}],\"parcoords\":[{\"line\":{\"colorbar\":{\"outlinewidth\":0,\"ticks\":\"\"}},\"type\":\"parcoords\"}],\"pie\":[{\"automargin\":true,\"type\":\"pie\"}],\"scatter\":[{\"marker\":{\"colorbar\":{\"outlinewidth\":0,\"ticks\":\"\"}},\"type\":\"scatter\"}],\"scatter3d\":[{\"line\":{\"colorbar\":{\"outlinewidth\":0,\"ticks\":\"\"}},\"marker\":{\"colorbar\":{\"outlinewidth\":0,\"ticks\":\"\"}},\"type\":\"scatter3d\"}],\"scattercarpet\":[{\"marker\":{\"colorbar\":{\"outlinewidth\":0,\"ticks\":\"\"}},\"type\":\"scattercarpet\"}],\"scattergeo\":[{\"marker\":{\"colorbar\":{\"outlinewidth\":0,\"ticks\":\"\"}},\"type\":\"scattergeo\"}],\"scattergl\":[{\"marker\":{\"colorbar\":{\"outlinewidth\":0,\"ticks\":\"\"}},\"type\":\"scattergl\"}],\"scattermapbox\":[{\"marker\":{\"colorbar\":{\"outlinewidth\":0,\"ticks\":\"\"}},\"type\":\"scattermapbox\"}],\"scatterpolar\":[{\"marker\":{\"colorbar\":{\"outlinewidth\":0,\"ticks\":\"\"}},\"type\":\"scatterpolar\"}],\"scatterpolargl\":[{\"marker\":{\"colorbar\":{\"outlinewidth\":0,\"ticks\":\"\"}},\"type\":\"scatterpolargl\"}],\"scatterternary\":[{\"marker\":{\"colorbar\":{\"outlinewidth\":0,\"ticks\":\"\"}},\"type\":\"scatterternary\"}],\"surface\":[{\"colorbar\":{\"outlinewidth\":0,\"ticks\":\"\"},\"colorscale\":[[0.0,\"#0d0887\"],[0.1111111111111111,\"#46039f\"],[0.2222222222222222,\"#7201a8\"],[0.3333333333333333,\"#9c179e\"],[0.4444444444444444,\"#bd3786\"],[0.5555555555555556,\"#d8576b\"],[0.6666666666666666,\"#ed7953\"],[0.7777777777777778,\"#fb9f3a\"],[0.8888888888888888,\"#fdca26\"],[1.0,\"#f0f921\"]],\"type\":\"surface\"}],\"table\":[{\"cells\":{\"fill\":{\"color\":\"#EBF0F8\"},\"line\":{\"color\":\"white\"}},\"header\":{\"fill\":{\"color\":\"#C8D4E3\"},\"line\":{\"color\":\"white\"}},\"type\":\"table\"}]},\"layout\":{\"annotationdefaults\":{\"arrowcolor\":\"#2a3f5f\",\"arrowhead\":0,\"arrowwidth\":1},\"autotypenumbers\":\"strict\",\"coloraxis\":{\"colorbar\":{\"outlinewidth\":0,\"ticks\":\"\"}},\"colorscale\":{\"diverging\":[[0,\"#8e0152\"],[0.1,\"#c51b7d\"],[0.2,\"#de77ae\"],[0.3,\"#f1b6da\"],[0.4,\"#fde0ef\"],[0.5,\"#f7f7f7\"],[0.6,\"#e6f5d0\"],[0.7,\"#b8e186\"],[0.8,\"#7fbc41\"],[0.9,\"#4d9221\"],[1,\"#276419\"]],\"sequential\":[[0.0,\"#0d0887\"],[0.1111111111111111,\"#46039f\"],[0.2222222222222222,\"#7201a8\"],[0.3333333333333333,\"#9c179e\"],[0.4444444444444444,\"#bd3786\"],[0.5555555555555556,\"#d8576b\"],[0.6666666666666666,\"#ed7953\"],[0.7777777777777778,\"#fb9f3a\"],[0.8888888888888888,\"#fdca26\"],[1.0,\"#f0f921\"]],\"sequentialminus\":[[0.0,\"#0d0887\"],[0.1111111111111111,\"#46039f\"],[0.2222222222222222,\"#7201a8\"],[0.3333333333333333,\"#9c179e\"],[0.4444444444444444,\"#bd3786\"],[0.5555555555555556,\"#d8576b\"],[0.6666666666666666,\"#ed7953\"],[0.7777777777777778,\"#fb9f3a\"],[0.8888888888888888,\"#fdca26\"],[1.0,\"#f0f921\"]]},\"colorway\":[\"#636efa\",\"#EF553B\",\"#00cc96\",\"#ab63fa\",\"#FFA15A\",\"#19d3f3\",\"#FF6692\",\"#B6E880\",\"#FF97FF\",\"#FECB52\"],\"font\":{\"color\":\"#2a3f5f\"},\"geo\":{\"bgcolor\":\"white\",\"lakecolor\":\"white\",\"landcolor\":\"#E5ECF6\",\"showlakes\":true,\"showland\":true,\"subunitcolor\":\"white\"},\"hoverlabel\":{\"align\":\"left\"},\"hovermode\":\"closest\",\"mapbox\":{\"style\":\"light\"},\"paper_bgcolor\":\"white\",\"plot_bgcolor\":\"#E5ECF6\",\"polar\":{\"angularaxis\":{\"gridcolor\":\"white\",\"linecolor\":\"white\",\"ticks\":\"\"},\"bgcolor\":\"#E5ECF6\",\"radialaxis\":{\"gridcolor\":\"white\",\"linecolor\":\"white\",\"ticks\":\"\"}},\"scene\":{\"xaxis\":{\"backgroundcolor\":\"#E5ECF6\",\"gridcolor\":\"white\",\"gridwidth\":2,\"linecolor\":\"white\",\"showbackground\":true,\"ticks\":\"\",\"zerolinecolor\":\"white\"},\"yaxis\":{\"backgroundcolor\":\"#E5ECF6\",\"gridcolor\":\"white\",\"gridwidth\":2,\"linecolor\":\"white\",\"showbackground\":true,\"ticks\":\"\",\"zerolinecolor\":\"white\"},\"zaxis\":{\"backgroundcolor\":\"#E5ECF6\",\"gridcolor\":\"white\",\"gridwidth\":2,\"linecolor\":\"white\",\"showbackground\":true,\"ticks\":\"\",\"zerolinecolor\":\"white\"}},\"shapedefaults\":{\"line\":{\"color\":\"#2a3f5f\"}},\"ternary\":{\"aaxis\":{\"gridcolor\":\"white\",\"linecolor\":\"white\",\"ticks\":\"\"},\"baxis\":{\"gridcolor\":\"white\",\"linecolor\":\"white\",\"ticks\":\"\"},\"bgcolor\":\"#E5ECF6\",\"caxis\":{\"gridcolor\":\"white\",\"linecolor\":\"white\",\"ticks\":\"\"}},\"title\":{\"x\":0.05},\"xaxis\":{\"automargin\":true,\"gridcolor\":\"white\",\"linecolor\":\"white\",\"ticks\":\"\",\"title\":{\"standoff\":15},\"zerolinecolor\":\"white\",\"zerolinewidth\":2},\"yaxis\":{\"automargin\":true,\"gridcolor\":\"white\",\"linecolor\":\"white\",\"ticks\":\"\",\"title\":{\"standoff\":15},\"zerolinecolor\":\"white\",\"zerolinewidth\":2}}},\"mapbox\":{\"domain\":{\"x\":[0.0,1.0],\"y\":[0.0,1.0]},\"center\":{\"lat\":46.57637100977199,\"lon\":8.133255523640312},\"zoom\":7.5,\"style\":\"open-street-map\"},\"coloraxis\":{\"colorbar\":{\"title\":{\"text\":\"Housing Price\"}},\"colorscale\":[[0.0,\"#0d0887\"],[0.1111111111111111,\"#46039f\"],[0.2222222222222222,\"#7201a8\"],[0.3333333333333333,\"#9c179e\"],[0.4444444444444444,\"#bd3786\"],[0.5555555555555556,\"#d8576b\"],[0.6666666666666666,\"#ed7953\"],[0.7777777777777778,\"#fb9f3a\"],[0.8888888888888888,\"#fdca26\"],[1.0,\"#f0f921\"]]},\"legend\":{\"tracegroupgap\":0,\"itemsizing\":\"constant\"},\"margin\":{\"t\":0,\"r\":0,\"l\":0,\"b\":0},\"height\":700},                        {\"responsive\": true}                    ).then(function(){\n",
              "                            \n",
              "var gd = document.getElementById('63a728e8-7882-4c5e-a7ed-9f3b336c1cd2');\n",
              "var x = new MutationObserver(function (mutations, observer) {{\n",
              "        var display = window.getComputedStyle(gd).display;\n",
              "        if (!display || display === 'none') {{\n",
              "            console.log([gd, 'removed!']);\n",
              "            Plotly.purge(gd);\n",
              "            observer.disconnect();\n",
              "        }}\n",
              "}});\n",
              "\n",
              "// Listen for the removal of the full notebook cells\n",
              "var notebookContainer = gd.closest('#notebook-container');\n",
              "if (notebookContainer) {{\n",
              "    x.observe(notebookContainer, {childList: true});\n",
              "}}\n",
              "\n",
              "// Listen for the clearing of the current output cell\n",
              "var outputEl = gd.closest('.output');\n",
              "if (outputEl) {{\n",
              "    x.observe(outputEl, {childList: true});\n",
              "}}\n",
              "\n",
              "                        })                };                            </script>        </div>\n",
              "</body>\n",
              "</html>"
            ]
          },
          "metadata": {}
        }
      ]
    },
    {
      "cell_type": "markdown",
      "metadata": {
        "id": "olHsTIHCEyqd"
      },
      "source": [
        "# Utilities for Data and Metrics"
      ]
    },
    {
      "cell_type": "code",
      "execution_count": 12,
      "metadata": {
        "id": "iC3gWsBjDY5i"
      },
      "outputs": [],
      "source": [
        "def prepare_data():\n",
        "    #id = 1eNTyJc4jXJMkLPXW0eY6LL7_P9YN1GWO\n",
        "    warnings.filterwarnings(\"ignore\")\n",
        "    np.random.seed(42)\n",
        "\n",
        "    # Read the home price csv file from the URL\n",
        "    orig_url = \"https://drive.google.com/file/d/1eNTyJc4jXJMkLPXW0eY6LL7_P9YN1GWO/view\"\n",
        "    file_id = orig_url.split('/')[-2]\n",
        "    data_path='https://drive.google.com/uc?export=download&id=' + file_id\n",
        "    \n",
        "    try:\n",
        "        data = pd.read_csv(data_path)\n",
        "    except Exception as e:\n",
        "        logger.exception(\n",
        "            \"Unable to download training & test CSV, check your internet connection. Error: %s\", e)\n",
        "    \n",
        "    #numbers are written in this format \"1,235,00\" converting them to integers\n",
        "    data[\"price\"] = data[\"price\"].str.replace(',', '')\n",
        "    data[\"price\"] = pd.to_numeric(data[\"price\"])\n",
        "    data = data.drop([\"Unnamed: 0\", 'zip'], 1)\n",
        "    data = data.dropna()\n",
        "\n",
        "    y = data[\"price\"]\n",
        "    X = data.drop(\"price\", 1)\n",
        "    \n",
        "    X_train, X_test, y_train, y_test = train_test_split(X, y, test_size=0.2, random_state=42)\n",
        "\n",
        "    return X_train, X_test, y_train, y_test\n",
        "\n",
        "\n",
        "def eval_metrics(actual, pred):\n",
        "    rmse = np.sqrt(mean_squared_error(actual, pred))\n",
        "    mae = mean_absolute_error(actual, pred)\n",
        "    r2 = r2_score(actual, pred)\n",
        "    return rmse, mae, r2"
      ]
    },
    {
      "cell_type": "markdown",
      "metadata": {
        "id": "DBPEeZVrE09i"
      },
      "source": [
        "# Load Dataset"
      ]
    },
    {
      "cell_type": "code",
      "execution_count": 13,
      "metadata": {
        "colab": {
          "base_uri": "https://localhost:8080/",
          "height": 206
        },
        "id": "CF34P-BEE2mi",
        "outputId": "778737c1-eb0e-40b6-cd4c-650bf0c17bbf"
      },
      "outputs": [
        {
          "output_type": "execute_result",
          "data": {
            "text/plain": [
              "              type  room_num floor  area_m2  floors_num  year_built  \\\n",
              "276      Apartment       4.5     2    145.0         3.0      2020.0   \n",
              "1171     Row house       4.5     4    140.0         4.0      1984.0   \n",
              "1894  Single house       7.5    GF    143.0         1.0      1971.0   \n",
              "117      Apartment       5.5     1    174.0         1.0      2014.0   \n",
              "2028         Villa       8.5    GF    400.0         3.0      1972.0   \n",
              "\n",
              "      last_refurbishment                   city      lat       lon  \\\n",
              "276               2020.0              Mendrisio  45.8862  8.988967   \n",
              "1171              2017.0                   Agno  46.0005  8.902800   \n",
              "1894              1971.0             St-Maurice  46.1988  6.995650   \n",
              "117               2014.0  Cheseaux-sur-Lausanne  46.5822  6.595800   \n",
              "2028              2005.0                  Aigle  46.3147  6.971600   \n",
              "\n",
              "                canton  \n",
              "276             Ticino  \n",
              "1171            Ticino  \n",
              "1894  Canton du Valais  \n",
              "117     Canton de Vaud  \n",
              "2028    Canton de Vaud  "
            ],
            "text/html": [
              "\n",
              "  <div id=\"df-7a0e5080-1959-4aae-ad21-a1aaa33189e8\">\n",
              "    <div class=\"colab-df-container\">\n",
              "      <div>\n",
              "<style scoped>\n",
              "    .dataframe tbody tr th:only-of-type {\n",
              "        vertical-align: middle;\n",
              "    }\n",
              "\n",
              "    .dataframe tbody tr th {\n",
              "        vertical-align: top;\n",
              "    }\n",
              "\n",
              "    .dataframe thead th {\n",
              "        text-align: right;\n",
              "    }\n",
              "</style>\n",
              "<table border=\"1\" class=\"dataframe\">\n",
              "  <thead>\n",
              "    <tr style=\"text-align: right;\">\n",
              "      <th></th>\n",
              "      <th>type</th>\n",
              "      <th>room_num</th>\n",
              "      <th>floor</th>\n",
              "      <th>area_m2</th>\n",
              "      <th>floors_num</th>\n",
              "      <th>year_built</th>\n",
              "      <th>last_refurbishment</th>\n",
              "      <th>city</th>\n",
              "      <th>lat</th>\n",
              "      <th>lon</th>\n",
              "      <th>canton</th>\n",
              "    </tr>\n",
              "  </thead>\n",
              "  <tbody>\n",
              "    <tr>\n",
              "      <th>276</th>\n",
              "      <td>Apartment</td>\n",
              "      <td>4.5</td>\n",
              "      <td>2</td>\n",
              "      <td>145.0</td>\n",
              "      <td>3.0</td>\n",
              "      <td>2020.0</td>\n",
              "      <td>2020.0</td>\n",
              "      <td>Mendrisio</td>\n",
              "      <td>45.8862</td>\n",
              "      <td>8.988967</td>\n",
              "      <td>Ticino</td>\n",
              "    </tr>\n",
              "    <tr>\n",
              "      <th>1171</th>\n",
              "      <td>Row house</td>\n",
              "      <td>4.5</td>\n",
              "      <td>4</td>\n",
              "      <td>140.0</td>\n",
              "      <td>4.0</td>\n",
              "      <td>1984.0</td>\n",
              "      <td>2017.0</td>\n",
              "      <td>Agno</td>\n",
              "      <td>46.0005</td>\n",
              "      <td>8.902800</td>\n",
              "      <td>Ticino</td>\n",
              "    </tr>\n",
              "    <tr>\n",
              "      <th>1894</th>\n",
              "      <td>Single house</td>\n",
              "      <td>7.5</td>\n",
              "      <td>GF</td>\n",
              "      <td>143.0</td>\n",
              "      <td>1.0</td>\n",
              "      <td>1971.0</td>\n",
              "      <td>1971.0</td>\n",
              "      <td>St-Maurice</td>\n",
              "      <td>46.1988</td>\n",
              "      <td>6.995650</td>\n",
              "      <td>Canton du Valais</td>\n",
              "    </tr>\n",
              "    <tr>\n",
              "      <th>117</th>\n",
              "      <td>Apartment</td>\n",
              "      <td>5.5</td>\n",
              "      <td>1</td>\n",
              "      <td>174.0</td>\n",
              "      <td>1.0</td>\n",
              "      <td>2014.0</td>\n",
              "      <td>2014.0</td>\n",
              "      <td>Cheseaux-sur-Lausanne</td>\n",
              "      <td>46.5822</td>\n",
              "      <td>6.595800</td>\n",
              "      <td>Canton de Vaud</td>\n",
              "    </tr>\n",
              "    <tr>\n",
              "      <th>2028</th>\n",
              "      <td>Villa</td>\n",
              "      <td>8.5</td>\n",
              "      <td>GF</td>\n",
              "      <td>400.0</td>\n",
              "      <td>3.0</td>\n",
              "      <td>1972.0</td>\n",
              "      <td>2005.0</td>\n",
              "      <td>Aigle</td>\n",
              "      <td>46.3147</td>\n",
              "      <td>6.971600</td>\n",
              "      <td>Canton de Vaud</td>\n",
              "    </tr>\n",
              "  </tbody>\n",
              "</table>\n",
              "</div>\n",
              "      <button class=\"colab-df-convert\" onclick=\"convertToInteractive('df-7a0e5080-1959-4aae-ad21-a1aaa33189e8')\"\n",
              "              title=\"Convert this dataframe to an interactive table.\"\n",
              "              style=\"display:none;\">\n",
              "        \n",
              "  <svg xmlns=\"http://www.w3.org/2000/svg\" height=\"24px\"viewBox=\"0 0 24 24\"\n",
              "       width=\"24px\">\n",
              "    <path d=\"M0 0h24v24H0V0z\" fill=\"none\"/>\n",
              "    <path d=\"M18.56 5.44l.94 2.06.94-2.06 2.06-.94-2.06-.94-.94-2.06-.94 2.06-2.06.94zm-11 1L8.5 8.5l.94-2.06 2.06-.94-2.06-.94L8.5 2.5l-.94 2.06-2.06.94zm10 10l.94 2.06.94-2.06 2.06-.94-2.06-.94-.94-2.06-.94 2.06-2.06.94z\"/><path d=\"M17.41 7.96l-1.37-1.37c-.4-.4-.92-.59-1.43-.59-.52 0-1.04.2-1.43.59L10.3 9.45l-7.72 7.72c-.78.78-.78 2.05 0 2.83L4 21.41c.39.39.9.59 1.41.59.51 0 1.02-.2 1.41-.59l7.78-7.78 2.81-2.81c.8-.78.8-2.07 0-2.86zM5.41 20L4 18.59l7.72-7.72 1.47 1.35L5.41 20z\"/>\n",
              "  </svg>\n",
              "      </button>\n",
              "      \n",
              "  <style>\n",
              "    .colab-df-container {\n",
              "      display:flex;\n",
              "      flex-wrap:wrap;\n",
              "      gap: 12px;\n",
              "    }\n",
              "\n",
              "    .colab-df-convert {\n",
              "      background-color: #E8F0FE;\n",
              "      border: none;\n",
              "      border-radius: 50%;\n",
              "      cursor: pointer;\n",
              "      display: none;\n",
              "      fill: #1967D2;\n",
              "      height: 32px;\n",
              "      padding: 0 0 0 0;\n",
              "      width: 32px;\n",
              "    }\n",
              "\n",
              "    .colab-df-convert:hover {\n",
              "      background-color: #E2EBFA;\n",
              "      box-shadow: 0px 1px 2px rgba(60, 64, 67, 0.3), 0px 1px 3px 1px rgba(60, 64, 67, 0.15);\n",
              "      fill: #174EA6;\n",
              "    }\n",
              "\n",
              "    [theme=dark] .colab-df-convert {\n",
              "      background-color: #3B4455;\n",
              "      fill: #D2E3FC;\n",
              "    }\n",
              "\n",
              "    [theme=dark] .colab-df-convert:hover {\n",
              "      background-color: #434B5C;\n",
              "      box-shadow: 0px 1px 3px 1px rgba(0, 0, 0, 0.15);\n",
              "      filter: drop-shadow(0px 1px 2px rgba(0, 0, 0, 0.3));\n",
              "      fill: #FFFFFF;\n",
              "    }\n",
              "  </style>\n",
              "\n",
              "      <script>\n",
              "        const buttonEl =\n",
              "          document.querySelector('#df-7a0e5080-1959-4aae-ad21-a1aaa33189e8 button.colab-df-convert');\n",
              "        buttonEl.style.display =\n",
              "          google.colab.kernel.accessAllowed ? 'block' : 'none';\n",
              "\n",
              "        async function convertToInteractive(key) {\n",
              "          const element = document.querySelector('#df-7a0e5080-1959-4aae-ad21-a1aaa33189e8');\n",
              "          const dataTable =\n",
              "            await google.colab.kernel.invokeFunction('convertToInteractive',\n",
              "                                                     [key], {});\n",
              "          if (!dataTable) return;\n",
              "\n",
              "          const docLinkHtml = 'Like what you see? Visit the ' +\n",
              "            '<a target=\"_blank\" href=https://colab.research.google.com/notebooks/data_table.ipynb>data table notebook</a>'\n",
              "            + ' to learn more about interactive tables.';\n",
              "          element.innerHTML = '';\n",
              "          dataTable['output_type'] = 'display_data';\n",
              "          await google.colab.output.renderOutput(dataTable, element);\n",
              "          const docLink = document.createElement('div');\n",
              "          docLink.innerHTML = docLinkHtml;\n",
              "          element.appendChild(docLink);\n",
              "        }\n",
              "      </script>\n",
              "    </div>\n",
              "  </div>\n",
              "  "
            ]
          },
          "metadata": {},
          "execution_count": 13
        }
      ],
      "source": [
        "X_train, X_test, y_train, y_test = prepare_data()\n",
        "\n",
        "data = {\n",
        "    'X_train': X_train,\n",
        "    'X_test': X_test,\n",
        "    'y_train': y_train,\n",
        "    'y_test': y_test\n",
        "}\n",
        "\n",
        "data['X_train'].head()"
      ]
    },
    {
      "cell_type": "code",
      "execution_count": 14,
      "metadata": {
        "colab": {
          "base_uri": "https://localhost:8080/"
        },
        "id": "TJFKFOoCE6Jk",
        "outputId": "f2a4eca2-0b45-4101-95e6-7dd53bd4e9a7"
      },
      "outputs": [
        {
          "output_type": "execute_result",
          "data": {
            "text/plain": [
              "276     1060000\n",
              "1171     900000\n",
              "1894     870000\n",
              "117     1450000\n",
              "2028    2150000\n",
              "Name: price, dtype: int64"
            ]
          },
          "metadata": {},
          "execution_count": 14
        }
      ],
      "source": [
        "data['y_train'].head()"
      ]
    },
    {
      "cell_type": "markdown",
      "metadata": {
        "id": "TOBGX8MFFOe9"
      },
      "source": [
        "# Utilities for Modeling and Tracking Experiments"
      ]
    },
    {
      "cell_type": "code",
      "execution_count": 15,
      "metadata": {
        "id": "Urm3Z4_GFUcL"
      },
      "outputs": [],
      "source": [
        "def train_random_forest(data, n_trees=10, max_depth=None):\n",
        "\n",
        "    # Train and track experiment   \n",
        "    with mlflow.start_run():\n",
        "\n",
        "        categorical_features = ['type', 'floor', 'city', 'canton']\n",
        "        continious_features = ['room_num', 'area_m2', 'floors_num', 'year_built', 'last_refurbishment', 'lat', 'lon']\n",
        "\n",
        "        numeric_transformer = Pipeline(steps=[(\"scaler\", StandardScaler())])\n",
        "\n",
        "        categorical_transformer = Pipeline(steps=[(\"onehot\", OneHotEncoder(handle_unknown=\"ignore\"))])\n",
        "\n",
        "        preprocessor = ColumnTransformer( transformers = [(\"num\", numeric_transformer, continious_features),\n",
        "                    (\"cat\", categorical_transformer, categorical_features)])\n",
        "        \n",
        "        # Execute RF\n",
        "        rf = RandomForestRegressor(n_estimators=n_trees, max_depth=max_depth, random_state=42)\n",
        "        pipeline_rf = Pipeline([(\"col_transformer\", preprocessor), \n",
        "                            (\"estimator\", rf)])\n",
        "        pipeline_rf.fit(data['X_train'], data['y_train'])\n",
        "\n",
        "        # Evaluate Metrics\n",
        "        predicted_qualities = pipeline_rf.predict(data['X_test'])\n",
        "        (rmse, mae, r2) = eval_metrics(data['y_test'], predicted_qualities)\n",
        "\n",
        "        # Print out metrics\n",
        "        print(\"Random Forest model (n_estimators={}, max_depth={}):\".format(n_trees, max_depth))\n",
        "        print(\"  RMSE: %s\" % rmse)\n",
        "        print(\"  MAE: %s\" % mae)\n",
        "        print(\"  R2: %s\" % r2)\n",
        "\n",
        "        # Log parameter, metrics, and model to MLflow\n",
        "        mlflow.log_param('Model', 'Random Forest')  # key, value\n",
        "        mlflow.log_param(\"n_estimators\", n_trees)\n",
        "        mlflow.log_param(\"max_depth\", max_depth)\n",
        "        \n",
        "        mlflow.log_metric(\"rmse\", rmse)\n",
        "        mlflow.log_metric(\"r2\", r2)\n",
        "        mlflow.log_metric(\"mae\", mae)\n",
        "\n",
        "        mlflow.sklearn.log_model(pipeline_rf, \"model\")"
      ]
    },
    {
      "cell_type": "markdown",
      "metadata": {
        "id": "31Fso5Z7wW_z"
      },
      "source": [
        "## Experiments"
      ]
    },
    {
      "cell_type": "code",
      "execution_count": 16,
      "metadata": {
        "colab": {
          "base_uri": "https://localhost:8080/"
        },
        "id": "DRZ1AaOyG5_x",
        "outputId": "2c0a7f9d-c28b-4cd4-888b-6b3678c38ccb"
      },
      "outputs": [
        {
          "output_type": "stream",
          "name": "stdout",
          "text": [
            "Random Forest model (n_estimators=10, max_depth=None):\n",
            "  RMSE: 1035489.2909161543\n",
            "  MAE: 468376.5597176982\n",
            "  R2: 0.686580903708025\n"
          ]
        }
      ],
      "source": [
        "train_random_forest(data)"
      ]
    },
    {
      "cell_type": "code",
      "execution_count": 17,
      "metadata": {
        "colab": {
          "base_uri": "https://localhost:8080/"
        },
        "id": "iEjNJID5G903",
        "outputId": "7f0ce17c-c951-41e4-923b-de483723c1c3"
      },
      "outputs": [
        {
          "output_type": "stream",
          "name": "stdout",
          "text": [
            "Random Forest model (n_estimators=500, max_depth=None):\n",
            "  RMSE: 955108.4001582841\n",
            "  MAE: 425444.0136091205\n",
            "  R2: 0.7333512452234665\n"
          ]
        }
      ],
      "source": [
        "train_random_forest(data, n_trees=500, max_depth=None)"
      ]
    },
    {
      "cell_type": "code",
      "execution_count": 18,
      "metadata": {
        "colab": {
          "base_uri": "https://localhost:8080/"
        },
        "id": "wFlyiJk-HAf6",
        "outputId": "5add16af-2443-46b9-c52e-796b1c76d96e"
      },
      "outputs": [
        {
          "output_type": "stream",
          "name": "stdout",
          "text": [
            "Random Forest model (n_estimators=1000, max_depth=None):\n",
            "  RMSE: 954532.4531740493\n",
            "  MAE: 425727.21288103\n",
            "  R2: 0.7336727359396507\n"
          ]
        }
      ],
      "source": [
        "train_random_forest(data, n_trees=1000, max_depth=None)"
      ]
    },
    {
      "cell_type": "code",
      "execution_count": 19,
      "metadata": {
        "colab": {
          "base_uri": "https://localhost:8080/"
        },
        "id": "KKQqJHHgHH1i",
        "outputId": "1e03260e-45dd-42f1-83a9-7377eb7167c8"
      },
      "outputs": [
        {
          "output_type": "stream",
          "name": "stdout",
          "text": [
            "Random Forest model (n_estimators=500, max_depth=5):\n",
            "  RMSE: 1045381.2252462613\n",
            "  MAE: 551462.5711514321\n",
            "  R2: 0.6805641738635864\n"
          ]
        }
      ],
      "source": [
        "train_random_forest(data, n_trees=500, max_depth=5)"
      ]
    },
    {
      "cell_type": "markdown",
      "metadata": {
        "id": "M4216Oi3ziHl"
      },
      "source": [
        "These models will create files in a folder named as mlruns. Which will be used by MLFLow for the UI."
      ]
    },
    {
      "cell_type": "markdown",
      "metadata": {
        "id": "KpsGT1OJwW_2"
      },
      "source": [
        "## MLFLow UI"
      ]
    },
    {
      "cell_type": "markdown",
      "metadata": {
        "id": "mvMnCbjXwW_2"
      },
      "source": [
        "Run `mlflow ui` in terminal\n",
        "<br>and view it at http://localhost:5000 in case running locally from jupyter. \n",
        "<br> In case of running in colab we will have to use ngrok tunnel."
      ]
    },
    {
      "cell_type": "code",
      "execution_count": 20,
      "metadata": {
        "id": "H7e5OkJCwrfp"
      },
      "outputs": [],
      "source": [
        "!pip install pyngrok --quiet"
      ]
    },
    {
      "cell_type": "code",
      "execution_count": 47,
      "metadata": {
        "id": "CL0ZMdvCxUhs",
        "colab": {
          "base_uri": "https://localhost:8080/"
        },
        "outputId": "a74142f9-3186-4a4d-d3b9-22c309e8502e"
      },
      "outputs": [
        {
          "output_type": "stream",
          "name": "stdout",
          "text": [
            "Enter the ngrok authtoken: ··········\n",
            "MLflow Tracking UI: https://1d1f-35-231-217-54.ngrok.io\n"
          ]
        }
      ],
      "source": [
        "from pyngrok import ngrok\n",
        "from getpass import getpass\n",
        "\n",
        "# Terminate open tunnels if exist\n",
        "ngrok.kill()\n",
        "\n",
        "# Setting the authtoken (optional)\n",
        "# Get your authtoken from https://dashboard.ngrok.com/auth\n",
        "NGROK_AUTH_TOKEN = getpass('Enter the ngrok authtoken: ')\n",
        "ngrok.set_auth_token(NGROK_AUTH_TOKEN)\n",
        "\n",
        "# Open an HTTPs tunnel on port 5000 for http://localhost:5000\n",
        "ngrok_tunnel = ngrok.connect(addr=\"5000\", proto=\"http\", bind_tls=True)\n",
        "print(\"MLflow Tracking UI:\", ngrok_tunnel.public_url)"
      ]
    },
    {
      "cell_type": "code",
      "execution_count": null,
      "metadata": {
        "id": "Ow8u6C3FxbzF",
        "colab": {
          "base_uri": "https://localhost:8080/"
        },
        "outputId": "f0c50ad0-156c-4e14-872c-7d05d4a6bc7b"
      },
      "outputs": [
        {
          "output_type": "stream",
          "name": "stdout",
          "text": [
            "[2022-06-22 09:10:12 +0000] [2101] [INFO] Starting gunicorn 20.1.0\n",
            "[2022-06-22 09:10:12 +0000] [2101] [INFO] Listening at: http://127.0.0.1:5000 (2101)\n",
            "[2022-06-22 09:10:12 +0000] [2101] [INFO] Using worker: sync\n",
            "[2022-06-22 09:10:12 +0000] [2104] [INFO] Booting worker with pid: 2104\n"
          ]
        }
      ],
      "source": [
        "!mlflow ui --port 5000"
      ]
    },
    {
      "cell_type": "markdown",
      "source": [
        "# Assignments\n",
        "\n",
        "1. Add `ElasticNet` model tracking, compare the results with `RandomForest`. \n",
        "2. Change or add parameters such as:  \n",
        " `depth` of the tree in RandomForest or   \n",
        " `l1_ratio` and `alpha` in ElasticNet.\n",
        "3. Add more runs.\n",
        "4. Check in MLFlow UI if the metrica are affected.\n",
        "5. Convert you ML model code from work into MLFlow compatible code and run it using MLFlow API to track your experiment.\n",
        "6. Explore MLFlow [GitHub examples](https://github.com/amesar/mlflow-examples).     "
      ],
      "metadata": {
        "id": "1etXoblw6DPX"
      }
    },
    {
      "cell_type": "code",
      "execution_count": 23,
      "metadata": {
        "id": "TEpP5NGM6tk0",
        "colab": {
          "base_uri": "https://localhost:8080/"
        },
        "outputId": "b8af913b-b2fb-4beb-84b1-6fbd66ded416"
      },
      "outputs": [
        {
          "output_type": "stream",
          "name": "stdout",
          "text": [
            "Random Forest model (n_estimators=500, max_depth=10):\n",
            "  RMSE: 975367.7872181158\n",
            "  MAE: 479478.1629153519\n",
            "  R2: 0.7219191724272176\n"
          ]
        }
      ],
      "source": [
        "train_random_forest(data, n_trees=500, max_depth=10)"
      ]
    },
    {
      "cell_type": "code",
      "source": [
        "train_random_forest(data, n_trees=500, max_depth=50)"
      ],
      "metadata": {
        "colab": {
          "base_uri": "https://localhost:8080/"
        },
        "id": "f9OuUvWjf9Qr",
        "outputId": "5c86843a-0a7e-498b-8d03-f40f3366235c"
      },
      "execution_count": 24,
      "outputs": [
        {
          "output_type": "stream",
          "name": "stdout",
          "text": [
            "Random Forest model (n_estimators=500, max_depth=50):\n",
            "  RMSE: 954982.84016705\n",
            "  MAE: 425432.0617223789\n",
            "  R2: 0.7334213487103876\n"
          ]
        }
      ]
    },
    {
      "cell_type": "code",
      "source": [
        "def train_elastic_net(data, l1_ratio=0.5, alpha=1.0):\n",
        "\n",
        "    # Train and track experiment   \n",
        "    with mlflow.start_run():\n",
        "\n",
        "        categorical_features = ['type', 'floor', 'city', 'canton']\n",
        "        continious_features = ['room_num', 'area_m2', 'floors_num', 'year_built', 'last_refurbishment', 'lat', 'lon']\n",
        "\n",
        "        numeric_transformer = Pipeline(steps=[(\"scaler\", StandardScaler())])\n",
        "\n",
        "        categorical_transformer = Pipeline(steps=[(\"onehot\", OneHotEncoder(handle_unknown=\"ignore\"))])\n",
        "\n",
        "        preprocessor = ColumnTransformer( transformers = [(\"num\", numeric_transformer, continious_features),\n",
        "                    (\"cat\", categorical_transformer, categorical_features)])\n",
        "        \n",
        "        # Execute RF\n",
        "        net = ElasticNet(l1_ratio=l1_ratio, alpha=alpha, random_state=42)\n",
        "        pipeline_net = Pipeline([(\"col_transformer\", preprocessor), (\"estimator\", net)])\n",
        "        pipeline_net.fit(data['X_train'], data['y_train'])\n",
        "\n",
        "        # Evaluate Metrics\n",
        "        predicted_qualities = pipeline_net.predict(data['X_test'])\n",
        "        (rmse, mae, r2) = eval_metrics(data['y_test'], predicted_qualities)\n",
        "\n",
        "        # Print out metrics\n",
        "        print(\"Elastic Net model (l1_ratio={}, alpha={}):\".format(l1_ratio, alpha))\n",
        "        print(\"  RMSE: %s\" % rmse)\n",
        "        print(\"  MAE: %s\" % mae)\n",
        "        print(\"  R2: %s\" % r2)\n",
        "\n",
        "        # Log parameter, metrics, and model to MLflow\n",
        "        mlflow.log_param('Model', 'Elastic Net')  # key, value\n",
        "        mlflow.log_param(\"l1_ratio\", l1_ratio)\n",
        "        mlflow.log_param(\"alpha\", alpha)\n",
        "        \n",
        "        mlflow.log_metric(\"rmse\", rmse)\n",
        "        mlflow.log_metric(\"r2\", r2)\n",
        "        mlflow.log_metric(\"mae\", mae)\n",
        "\n",
        "        mlflow.sklearn.log_model(pipeline_net, \"model\")"
      ],
      "metadata": {
        "id": "9XdXet26hbaA"
      },
      "execution_count": 29,
      "outputs": []
    },
    {
      "cell_type": "code",
      "source": [
        "train_elastic_net(data)"
      ],
      "metadata": {
        "colab": {
          "base_uri": "https://localhost:8080/"
        },
        "id": "3I0YI1eji1dt",
        "outputId": "b1e968ad-b808-4d36-9e1e-6cdaa0c1e0d8"
      },
      "execution_count": 30,
      "outputs": [
        {
          "output_type": "stream",
          "name": "stdout",
          "text": [
            "Elastic Net model (l1_ratio=0.5, alpha=1.0):\n",
            "  RMSE: 1333727.4471199298\n",
            "  MAE: 704423.9706508438\n",
            "  R2: 0.4800418283354526\n"
          ]
        }
      ]
    },
    {
      "cell_type": "code",
      "source": [
        "for l1_ratio in np.arange(0.5, 1.0, 0.1):\n",
        "  for alpha in np.arange(0, 1.0, 0.2):\n",
        "    train_elastic_net(data, l1_ratio=l1_ratio, alpha=alpha)"
      ],
      "metadata": {
        "colab": {
          "base_uri": "https://localhost:8080/"
        },
        "id": "OAYZTkP3jOoB",
        "outputId": "f98c5d15-a600-4263-e425-ec2ed09811e2"
      },
      "execution_count": 45,
      "outputs": [
        {
          "output_type": "stream",
          "name": "stdout",
          "text": [
            "Elastic Net model (l1_ratio=0.5, alpha=0.0):\n",
            "  RMSE: 935003.6997920441\n",
            "  MAE: 526648.4694232417\n",
            "  R2: 0.7444588238919735\n",
            "Elastic Net model (l1_ratio=0.5, alpha=0.2):\n",
            "  RMSE: 1184313.9608613164\n",
            "  MAE: 608519.8997720616\n",
            "  R2: 0.590015037204457\n",
            "Elastic Net model (l1_ratio=0.5, alpha=0.4):\n",
            "  RMSE: 1240226.7994041385\n",
            "  MAE: 642655.3471791445\n",
            "  R2: 0.5503894910620786\n",
            "Elastic Net model (l1_ratio=0.5, alpha=0.6000000000000001):\n",
            "  RMSE: 1278787.5543462688\n",
            "  MAE: 668568.5234436077\n",
            "  R2: 0.5219965487116818\n",
            "Elastic Net model (l1_ratio=0.5, alpha=0.8):\n",
            "  RMSE: 1308810.2248557364\n",
            "  MAE: 688183.8890245127\n",
            "  R2: 0.4992884736938662\n",
            "Elastic Net model (l1_ratio=0.6, alpha=0.0):\n",
            "  RMSE: 935003.6997920441\n",
            "  MAE: 526648.4694232417\n",
            "  R2: 0.7444588238919735\n",
            "Elastic Net model (l1_ratio=0.6, alpha=0.2):\n",
            "  RMSE: 1168977.4701228535\n",
            "  MAE: 600233.7992676425\n",
            "  R2: 0.6005646359280227\n",
            "Elastic Net model (l1_ratio=0.6, alpha=0.4):\n",
            "  RMSE: 1220844.1271544234\n",
            "  MAE: 629378.7203080109\n",
            "  R2: 0.5643329978569547\n",
            "Elastic Net model (l1_ratio=0.6, alpha=0.6000000000000001):\n",
            "  RMSE: 1257033.1169353742\n",
            "  MAE: 654053.6129021375\n",
            "  R2: 0.5381215821842256\n",
            "Elastic Net model (l1_ratio=0.6, alpha=0.8):\n",
            "  RMSE: 1285326.0740719417\n",
            "  MAE: 672853.5907898921\n",
            "  R2: 0.5170959297533633\n",
            "Elastic Net model (l1_ratio=0.7, alpha=0.0):\n",
            "  RMSE: 935003.6997920441\n",
            "  MAE: 526648.4694232417\n",
            "  R2: 0.7444588238919735\n",
            "Elastic Net model (l1_ratio=0.7, alpha=0.2):\n",
            "  RMSE: 1150990.5033995195\n",
            "  MAE: 591013.1177126488\n",
            "  R2: 0.6127622293012733\n",
            "Elastic Net model (l1_ratio=0.7, alpha=0.4):\n",
            "  RMSE: 1197794.9084465376\n",
            "  MAE: 615848.987810051\n",
            "  R2: 0.5806282654728013\n",
            "Elastic Net model (l1_ratio=0.7, alpha=0.6000000000000001):\n",
            "  RMSE: 1230912.3741294313\n",
            "  MAE: 636267.850115182\n",
            "  R2: 0.5571175145480494\n",
            "Elastic Net model (l1_ratio=0.7, alpha=0.8):\n",
            "  RMSE: 1257033.5997787665\n",
            "  MAE: 654054.0613488564\n",
            "  R2: 0.5381212273566847\n",
            "Elastic Net model (l1_ratio=0.7999999999999999, alpha=0.0):\n",
            "  RMSE: 935003.6997920441\n",
            "  MAE: 526648.4694232417\n",
            "  R2: 0.7444588238919735\n",
            "Elastic Net model (l1_ratio=0.7999999999999999, alpha=0.2):\n",
            "  RMSE: 1128633.9245313972\n",
            "  MAE: 579507.5491180965\n",
            "  R2: 0.6276593685991633\n",
            "Elastic Net model (l1_ratio=0.7999999999999999, alpha=0.4):\n",
            "  RMSE: 1168978.4915543112\n",
            "  MAE: 600234.5680680054\n",
            "  R2: 0.6005639378888648\n",
            "Elastic Net model (l1_ratio=0.7999999999999999, alpha=0.6000000000000001):\n",
            "  RMSE: 1197795.6915131987\n",
            "  MAE: 615849.6079472845\n",
            "  R2: 0.5806277171383094\n",
            "Elastic Net model (l1_ratio=0.7999999999999999, alpha=0.8):\n",
            "  RMSE: 1220845.3805364543\n",
            "  MAE: 629379.6478851709\n",
            "  R2: 0.5643321032997215\n",
            "Elastic Net model (l1_ratio=0.8999999999999999, alpha=0.0):\n",
            "  RMSE: 935003.6997920441\n",
            "  MAE: 526648.4694232417\n",
            "  R2: 0.7444588238919735\n",
            "Elastic Net model (l1_ratio=0.8999999999999999, alpha=0.2):\n",
            "  RMSE: 1095912.7510923592\n",
            "  MAE: 563919.4364482348\n",
            "  R2: 0.6489360858858817\n",
            "Elastic Net model (l1_ratio=0.8999999999999999, alpha=0.4):\n",
            "  RMSE: 1128635.698842422\n",
            "  MAE: 579508.8900305581\n",
            "  R2: 0.6276581978943099\n",
            "Elastic Net model (l1_ratio=0.8999999999999999, alpha=0.6000000000000001):\n",
            "  RMSE: 1150993.1088803415\n",
            "  MAE: 591015.2189416917\n",
            "  R2: 0.6127604761300278\n",
            "Elastic Net model (l1_ratio=0.8999999999999999, alpha=0.8):\n",
            "  RMSE: 1168980.5339892113\n",
            "  MAE: 600236.105305599\n",
            "  R2: 0.6005625421012224\n"
          ]
        }
      ]
    },
    {
      "cell_type": "code",
      "source": [
        "for l1_ratio in np.arange(0.5, 1.05, 0.1):\n",
        "    train_elastic_net(data, l1_ratio=l1_ratio, alpha=1.0)"
      ],
      "metadata": {
        "colab": {
          "base_uri": "https://localhost:8080/"
        },
        "id": "GI5iBplIq8-v",
        "outputId": "24549fee-39a9-4d49-af04-54ac70e00457"
      },
      "execution_count": 46,
      "outputs": [
        {
          "output_type": "stream",
          "name": "stdout",
          "text": [
            "Elastic Net model (l1_ratio=0.5, alpha=1.0):\n",
            "  RMSE: 1333727.4471199298\n",
            "  MAE: 704423.9706508438\n",
            "  R2: 0.4800418283354526\n",
            "Elastic Net model (l1_ratio=0.6, alpha=1.0):\n",
            "  RMSE: 1308810.5420637203\n",
            "  MAE: 688184.1842573648\n",
            "  R2: 0.4992882309853207\n",
            "Elastic Net model (l1_ratio=0.7, alpha=1.0):\n",
            "  RMSE: 1278788.3193851165\n",
            "  MAE: 668569.216844611\n",
            "  R2: 0.5219959767772464\n",
            "Elastic Net model (l1_ratio=0.7999999999999999, alpha=1.0):\n",
            "  RMSE: 1240228.4073029882\n",
            "  MAE: 642656.7619506696\n",
            "  R2: 0.5503883252612924\n",
            "Elastic Net model (l1_ratio=0.8999999999999999, alpha=1.0):\n",
            "  RMSE: 1184317.4452993446\n",
            "  MAE: 608522.5177832306\n",
            "  R2: 0.5900126247203623\n",
            "Elastic Net model (l1_ratio=0.9999999999999999, alpha=1.0):\n",
            "  RMSE: 912475.452430428\n",
            "  MAE: 500309.7008441778\n",
            "  R2: 0.7566246381876989\n"
          ]
        }
      ]
    }
  ],
  "metadata": {
    "colab": {
      "collapsed_sections": [],
      "name": "LC1_MLFlow_Tracking_Regression_SwissHousing.ipynb",
      "provenance": [],
      "include_colab_link": true
    },
    "kernelspec": {
      "display_name": "Python 3",
      "language": "python",
      "name": "python3"
    },
    "language_info": {
      "codemirror_mode": {
        "name": "ipython",
        "version": 3
      },
      "file_extension": ".py",
      "mimetype": "text/x-python",
      "name": "python",
      "nbconvert_exporter": "python",
      "pygments_lexer": "ipython3",
      "version": "3.8.5"
    }
  },
  "nbformat": 4,
  "nbformat_minor": 0
}