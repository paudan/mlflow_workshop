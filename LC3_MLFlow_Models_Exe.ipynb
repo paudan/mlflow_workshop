{
  "cells": [
    {
      "cell_type": "markdown",
      "metadata": {
        "id": "view-in-github",
        "colab_type": "text"
      },
      "source": [
        "<a href=\"https://colab.research.google.com/github/paudan/mlflow_workshop/blob/main/LC3_MLFlow_Models_Exe.ipynb\" target=\"_parent\"><img src=\"https://colab.research.google.com/assets/colab-badge.svg\" alt=\"Open In Colab\"/></a>"
      ]
    },
    {
      "cell_type": "markdown",
      "source": [
        "<center><a target=\"_blank\" href=\"https://www.sds2022.ch/\"><img src=\"https://drive.google.com/uc?id=1S7k7kTXs9qIylw3C7LA9rHkLycjlY8te\" width=\"500\" style=\"background:none; border:none; box-shadow:none;\" /></a> </center>\n",
        "\n",
        "<center><a target=\"_blank\" href=\"http://www.sit.academy\"><img src=\"https://drive.google.com/uc?id=1x9_jQgLhozCSWDSaOdVxKmxOEAe_OLgV\" width=\"250\" style=\"background:none; border:none; box-shadow:none;\" /></a> </center>\n",
        "\n",
        "_____\n",
        "\n",
        "<center> <h1> Live Coding  </h1> </center>\n",
        "\n",
        "<p style=\"margin-bottom:1cm;\"></p>\n",
        "\n",
        "_____\n",
        "\n",
        "<center>SIT Academy, 2022</center>\n",
        "\n"
      ],
      "metadata": {
        "id": "RT8_5TlrjgVx"
      }
    },
    {
      "cell_type": "markdown",
      "metadata": {
        "id": "rUEGicVSCb9-"
      },
      "source": [
        "# Provide Test Data to Predict\n"
      ]
    },
    {
      "cell_type": "code",
      "source": [
        "import os\n",
        "import warnings\n",
        "import sys\n",
        "\n",
        "import pandas as pd\n",
        "import numpy as np"
      ],
      "metadata": {
        "id": "bXNbR6u23iIU"
      },
      "execution_count": 1,
      "outputs": []
    },
    {
      "cell_type": "code",
      "source": [
        "from sklearn.model_selection import train_test_split\n",
        "import json \n",
        "import ipywidgets as widgets\n",
        "from IPython.display import display"
      ],
      "metadata": {
        "id": "52jJgQpn4T0h"
      },
      "execution_count": 2,
      "outputs": []
    },
    {
      "cell_type": "code",
      "source": [
        "!curl https://3c1d-34-150-155-131.ngrok.io/invocations -H 'Content-Type: application/json' -d '{ \\\n",
        "  \"columns\": [\"type\", \"room_num\", \"floor\", \"area_m2\", \"floors_num\", \"year_built\", \"last_refurbishment\", \"city\", \"lat\", \"lon\", \"canton\"], \\\n",
        "  \"data\":   [[\"House\", 14.5, \"2\", 100.0, 2.0, 2000.0, 2020.0, \"Adliswil\", 47.3124, 8.5270, \"Zurich\"]] \\\n",
        "  }'"
      ],
      "metadata": {
        "id": "_mhCZc6KSODE",
        "colab": {
          "base_uri": "https://localhost:8080/"
        },
        "outputId": "ba2f15c3-14c4-4948-b760-0c79461178d9"
      },
      "execution_count": 3,
      "outputs": [
        {
          "output_type": "stream",
          "name": "stdout",
          "text": [
            "[1157730.0]"
          ]
        }
      ]
    },
    {
      "cell_type": "markdown",
      "source": [
        "## Predict a price for a dream house"
      ],
      "metadata": {
        "id": "AZ5x3dfZrHoD"
      }
    },
    {
      "cell_type": "code",
      "source": [
        "#@title Set  Variables { run: \"auto\" }\n",
        "\n",
        "#@markdown Enter the parameters of your dream house:\n",
        "type_ = \"Farm house\" #@param ['Apartment', 'Row house', 'Single house', 'Villa', 'Attic flat','Bifamiliar house', 'Duplex', 'Chalet', 'Farm house','Multi-family house', 'Terrace flat', 'Roof flat', 'Rustico','Studio', 'Loft', 'Terrace house', 'Attic', 'Furnished dwelling']\n",
        "room_num =   3.5#@param {type:\"number\"}\n",
        "floor = \"3\" #@param ['GF','1', '2', '3', '4', '5', '6','7','8','-1','-2']\n",
        "area_m2 =   100#@param {type:\"number\"}\n",
        "floors_num =   4#@param {type:\"number\"}\n",
        "year_built =   2000#@param {type:\"number\"}\n",
        "last_refurbishment =   2020#@param {type:\"number\"}\n",
        "city =  \"Adliswil\" #@param {type:\"string\"}\n",
        "lat =   47.3769#@param {type:\"number\"}\n",
        "lon =   8.5417#@param {type:\"number\"}\n",
        "canton = \"Zurich\" #@param ['Zurich','Ticino', 'Canton du Valais', 'Canton de Vaud', 'Kanton Luzern','Kanton Zürich', 'Kanton Basel-Landschaft', 'Kanton Aargau', 'Kanton Basel-Stadt', 'Kanton St. Gallen', 'Kanton Graubünden', 'Canton de Fribourg', 'Genève', 'Kanton Schwyz', 'Canton de Berne', 'Kanton Thurgau', 'Jura', 'Kanton Schaffhausen', 'Neuchâtel','Kanton Solothurn', 'Kanton Glarus', 'Kanton Zug', 'Kanton Uri','Kanton Obwalden', 'Kanton Appenzell Ausserrhoden']\n",
        "\n",
        "#@markdown ---\n",
        "\n",
        "##@markdown The Price of the housing will be:\n",
        "\n",
        "d = {\n",
        "  \"columns\": [\"type\", \"room_num\", \"floor\", \"area_m2\", \"floors_num\", \"year_built\", \"last_refurbishment\", \"city\", \"lat\", \"lon\", \"canton\"], \n",
        "  \"data\":   [[type_, room_num, floor, area_m2, floors_num, year_built, last_refurbishment, city, lat, lon, canton]] \n",
        "}\n",
        "\n",
        "# activate widgets\n",
        "button = widgets.Button(description=\"Click to predict\")\n",
        "output = widgets.Output()\n",
        "\n",
        "def on_button_clicked(b):\n",
        "  # Display the message within the output widget.\n",
        "  with output:\n",
        "    !curl   https://ad1a-35-185-96-26.ngrok.io/invocations -H 'Content-Type: application/json' -d '{json.dumps(d)}'\n",
        "\n",
        "\n",
        "button.on_click(on_button_clicked)\n",
        "display(button, output)"
      ],
      "metadata": {
        "colab": {
          "base_uri": "https://localhost:8080/",
          "height": 49,
          "referenced_widgets": [
            "e26f536bfb3c42798a2d79dd423e45bf",
            "71a6a50766354dc69e09d9b3adf5a032",
            "e4716d695c114e6599ccaf67c0facf18",
            "555d8ca9434b476787d5725c9c488133",
            "6ace340be29444c5b38a5dda5a5a7ef5"
          ]
        },
        "id": "ARHfVZZCml4b",
        "outputId": "bddef834-2176-4af4-c222-04980590761b"
      },
      "execution_count": 4,
      "outputs": [
        {
          "output_type": "display_data",
          "data": {
            "text/plain": [
              "Button(description='Click to predict', style=ButtonStyle())"
            ],
            "application/vnd.jupyter.widget-view+json": {
              "version_major": 2,
              "version_minor": 0,
              "model_id": "e26f536bfb3c42798a2d79dd423e45bf"
            }
          },
          "metadata": {}
        },
        {
          "output_type": "display_data",
          "data": {
            "text/plain": [
              "Output()"
            ],
            "application/vnd.jupyter.widget-view+json": {
              "version_major": 2,
              "version_minor": 0,
              "model_id": "555d8ca9434b476787d5725c9c488133"
            }
          },
          "metadata": {}
        }
      ]
    },
    {
      "cell_type": "code",
      "source": [
        ""
      ],
      "metadata": {
        "id": "38cEUFVX8age"
      },
      "execution_count": null,
      "outputs": []
    },
    {
      "cell_type": "markdown",
      "source": [
        "# Assignments\n",
        "\n",
        "1. Change the dictionary to predict the price of your dream house.\n",
        "3. Convert you ML model code from work into MLFlow compatible model and run it using MLFlow API to share your models.\n",
        "4. Explore MLFlow [GitHub examples](https://github.com/amesar/mlflow-examples)  "
      ],
      "metadata": {
        "id": "1etXoblw6DPX"
      }
    },
    {
      "cell_type": "code",
      "execution_count": null,
      "metadata": {
        "id": "TEpP5NGM6tk0"
      },
      "outputs": [],
      "source": [
        ""
      ]
    }
  ],
  "metadata": {
    "colab": {
      "collapsed_sections": [],
      "name": "LC3_MLFlow_Models_Exe.ipynb",
      "provenance": [],
      "include_colab_link": true
    },
    "kernelspec": {
      "display_name": "Python 3",
      "language": "python",
      "name": "python3"
    },
    "language_info": {
      "codemirror_mode": {
        "name": "ipython",
        "version": 3
      },
      "file_extension": ".py",
      "mimetype": "text/x-python",
      "name": "python",
      "nbconvert_exporter": "python",
      "pygments_lexer": "ipython3",
      "version": "3.8.5"
    },
    "widgets": {
      "application/vnd.jupyter.widget-state+json": {
        "e26f536bfb3c42798a2d79dd423e45bf": {
          "model_module": "@jupyter-widgets/controls",
          "model_name": "ButtonModel",
          "model_module_version": "1.5.0",
          "state": {
            "_dom_classes": [],
            "_model_module": "@jupyter-widgets/controls",
            "_model_module_version": "1.5.0",
            "_model_name": "ButtonModel",
            "_view_count": null,
            "_view_module": "@jupyter-widgets/controls",
            "_view_module_version": "1.5.0",
            "_view_name": "ButtonView",
            "button_style": "",
            "description": "Click to predict",
            "disabled": false,
            "icon": "",
            "layout": "IPY_MODEL_71a6a50766354dc69e09d9b3adf5a032",
            "style": "IPY_MODEL_e4716d695c114e6599ccaf67c0facf18",
            "tooltip": ""
          }
        },
        "71a6a50766354dc69e09d9b3adf5a032": {
          "model_module": "@jupyter-widgets/base",
          "model_name": "LayoutModel",
          "model_module_version": "1.2.0",
          "state": {
            "_model_module": "@jupyter-widgets/base",
            "_model_module_version": "1.2.0",
            "_model_name": "LayoutModel",
            "_view_count": null,
            "_view_module": "@jupyter-widgets/base",
            "_view_module_version": "1.2.0",
            "_view_name": "LayoutView",
            "align_content": null,
            "align_items": null,
            "align_self": null,
            "border": null,
            "bottom": null,
            "display": null,
            "flex": null,
            "flex_flow": null,
            "grid_area": null,
            "grid_auto_columns": null,
            "grid_auto_flow": null,
            "grid_auto_rows": null,
            "grid_column": null,
            "grid_gap": null,
            "grid_row": null,
            "grid_template_areas": null,
            "grid_template_columns": null,
            "grid_template_rows": null,
            "height": null,
            "justify_content": null,
            "justify_items": null,
            "left": null,
            "margin": null,
            "max_height": null,
            "max_width": null,
            "min_height": null,
            "min_width": null,
            "object_fit": null,
            "object_position": null,
            "order": null,
            "overflow": null,
            "overflow_x": null,
            "overflow_y": null,
            "padding": null,
            "right": null,
            "top": null,
            "visibility": null,
            "width": null
          }
        },
        "e4716d695c114e6599ccaf67c0facf18": {
          "model_module": "@jupyter-widgets/controls",
          "model_name": "ButtonStyleModel",
          "model_module_version": "1.5.0",
          "state": {
            "_model_module": "@jupyter-widgets/controls",
            "_model_module_version": "1.5.0",
            "_model_name": "ButtonStyleModel",
            "_view_count": null,
            "_view_module": "@jupyter-widgets/base",
            "_view_module_version": "1.2.0",
            "_view_name": "StyleView",
            "button_color": null,
            "font_weight": ""
          }
        },
        "555d8ca9434b476787d5725c9c488133": {
          "model_module": "@jupyter-widgets/output",
          "model_name": "OutputModel",
          "model_module_version": "1.0.0",
          "state": {
            "_dom_classes": [],
            "_model_module": "@jupyter-widgets/output",
            "_model_module_version": "1.0.0",
            "_model_name": "OutputModel",
            "_view_count": null,
            "_view_module": "@jupyter-widgets/output",
            "_view_module_version": "1.0.0",
            "_view_name": "OutputView",
            "layout": "IPY_MODEL_6ace340be29444c5b38a5dda5a5a7ef5",
            "msg_id": "",
            "outputs": []
          }
        },
        "6ace340be29444c5b38a5dda5a5a7ef5": {
          "model_module": "@jupyter-widgets/base",
          "model_name": "LayoutModel",
          "model_module_version": "1.2.0",
          "state": {
            "_model_module": "@jupyter-widgets/base",
            "_model_module_version": "1.2.0",
            "_model_name": "LayoutModel",
            "_view_count": null,
            "_view_module": "@jupyter-widgets/base",
            "_view_module_version": "1.2.0",
            "_view_name": "LayoutView",
            "align_content": null,
            "align_items": null,
            "align_self": null,
            "border": null,
            "bottom": null,
            "display": null,
            "flex": null,
            "flex_flow": null,
            "grid_area": null,
            "grid_auto_columns": null,
            "grid_auto_flow": null,
            "grid_auto_rows": null,
            "grid_column": null,
            "grid_gap": null,
            "grid_row": null,
            "grid_template_areas": null,
            "grid_template_columns": null,
            "grid_template_rows": null,
            "height": null,
            "justify_content": null,
            "justify_items": null,
            "left": null,
            "margin": null,
            "max_height": null,
            "max_width": null,
            "min_height": null,
            "min_width": null,
            "object_fit": null,
            "object_position": null,
            "order": null,
            "overflow": null,
            "overflow_x": null,
            "overflow_y": null,
            "padding": null,
            "right": null,
            "top": null,
            "visibility": null,
            "width": null
          }
        }
      }
    }
  },
  "nbformat": 4,
  "nbformat_minor": 0
}