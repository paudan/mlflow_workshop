{
  "nbformat": 4,
  "nbformat_minor": 0,
  "metadata": {
    "colab": {
      "name": "LC4_MLFlow_Model_Registry_Housing_Exe.ipynb",
      "provenance": [],
      "collapsed_sections": [],
      "include_colab_link": true
    },
    "kernelspec": {
      "name": "python3",
      "display_name": "Python 3"
    },
    "language_info": {
      "name": "python"
    }
  },
  "cells": [
    {
      "cell_type": "markdown",
      "metadata": {
        "id": "view-in-github",
        "colab_type": "text"
      },
      "source": [
        "<a href=\"https://colab.research.google.com/github/paudan/sds2022_mlflow_workshop/blob/main/LC4_MLFlow_Model_Registry_Housing_Exe.ipynb\" target=\"_parent\"><img src=\"https://colab.research.google.com/assets/colab-badge.svg\" alt=\"Open In Colab\"/></a>"
      ]
    },
    {
      "cell_type": "markdown",
      "source": [
        "<center><a target=\"_blank\" href=\"https://www.sds2022.ch/\"><img src=\"https://drive.google.com/uc?id=1S7k7kTXs9qIylw3C7LA9rHkLycjlY8te\" width=\"500\" style=\"background:none; border:none; box-shadow:none;\" /></a> </center>\n",
        "\n",
        "<center><a target=\"_blank\" href=\"http://www.sit.academy\"><img src=\"https://drive.google.com/uc?id=1x9_jQgLhozCSWDSaOdVxKmxOEAe_OLgV\" width=\"250\" style=\"background:none; border:none; box-shadow:none;\" /></a> </center>\n",
        "\n",
        "_____\n",
        "\n",
        "<center> <h1> Live Coding  </h1> </center>\n",
        "\n",
        "<p style=\"margin-bottom:1cm;\"></p>\n",
        "\n",
        "_____\n",
        "\n",
        "<center>SIT Academy, 2022</center>\n",
        "\n"
      ],
      "metadata": {
        "id": "sLm08r11jXhq"
      }
    },
    {
      "cell_type": "markdown",
      "source": [
        "# MLFlow Workshop - Sequence 4 - Model Registry API - Submitting your own runs\n",
        "\n",
        "MLflow Registry offers a centralized model store, set of APIs, and UI, to collaboratively manage the full lifecycle of an MLflow Model. \n",
        "\n",
        "It provides model lineage (which MLflow experiment and run produced the model), model versioning, stage transitions (for example from staging to production or archiving), and annotations."
      ],
      "metadata": {
        "id": "X0G6MEn4SfoL"
      }
    },
    {
      "cell_type": "markdown",
      "source": [
        "## Install dependencies"
      ],
      "metadata": {
        "id": "Oh4f6QesyM-W"
      }
    },
    {
      "cell_type": "code",
      "source": [
        "!pip -q install mlflow boto3 pyngrok"
      ],
      "metadata": {
        "id": "j8J4Xx5QS5WN"
      },
      "execution_count": 1,
      "outputs": []
    },
    {
      "cell_type": "markdown",
      "source": [
        "We need to define an environment variable `MLFLOW_TRACKING_URI` which points to your remote tracking server:"
      ],
      "metadata": {
        "id": "dTJjcBzuKe0-"
      }
    },
    {
      "cell_type": "code",
      "source": [
        "# Local version\n",
        "# %env MLFLOW_TRACKING_URI=https://6eb0-104-155-206-193.ngrok.io\n",
        "# Shared server\n",
        "%env MLFLOW_TRACKING_URI=https://7fc2-34-74-234-173.ngrok.io\n",
        "#e.g. \n",
        "#%env MLFLOW_TRACKING_URI=https://56cb-35-201-159-29.ngrok.io/"
      ],
      "metadata": {
        "colab": {
          "base_uri": "https://localhost:8080/"
        },
        "id": "RQjzxzo9V1l6",
        "outputId": "c3d8132a-9b86-454e-e01b-40de586f5946"
      },
      "execution_count": 7,
      "outputs": [
        {
          "output_type": "stream",
          "name": "stdout",
          "text": [
            "env: MLFLOW_TRACKING_URI=https://7fc2-34-74-234-173.ngrok.io\n"
          ]
        }
      ]
    },
    {
      "cell_type": "markdown",
      "source": [
        "**❗ Make sure to replace `<YOUR_NGROK.IO_URL_HERE>` above with a valid NGROK link!**"
      ],
      "metadata": {
        "id": "KfPhCpvIOUrT"
      }
    },
    {
      "cell_type": "markdown",
      "source": [
        "## If you are using a (non-proxied) S3 bucket..."
      ],
      "metadata": {
        "id": "hsIi0HfihOvd"
      }
    },
    {
      "cell_type": "markdown",
      "source": [
        "...make sure to set up the credentials first!\n",
        "(Required on BOTH server-side and client-side.)\n",
        "\n",
        "Also make sure you have `boto3` installed."
      ],
      "metadata": {
        "id": "1p-duf8hiXWA"
      }
    },
    {
      "cell_type": "code",
      "source": [
        "%env AWS_ACCESS_KEY_ID=jwhttmo4qhgfncxxdftqlwpxfaia\n",
        "%env AWS_SECRET_ACCESS_KEY=jyhyd7bxmbax3w3mzfi55tscfk5t34rotzj3nbg2e4nwpofxwuh2y\n",
        "\n",
        "%env MLFLOW_S3_ENDPOINT_URL=https://gateway.eu1.storjshare.io/"
      ],
      "metadata": {
        "colab": {
          "base_uri": "https://localhost:8080/"
        },
        "id": "0m39kNEEtjP3",
        "outputId": "24b39f1c-5693-47fb-fa32-fe2f5e29045f"
      },
      "execution_count": 3,
      "outputs": [
        {
          "output_type": "stream",
          "name": "stdout",
          "text": [
            "env: AWS_ACCESS_KEY_ID=jwhttmo4qhgfncxxdftqlwpxfaia\n",
            "env: AWS_SECRET_ACCESS_KEY=jyhyd7bxmbax3w3mzfi55tscfk5t34rotzj3nbg2e4nwpofxwuh2y\n",
            "env: MLFLOW_S3_ENDPOINT_URL=https://gateway.eu1.storjshare.io/\n"
          ]
        }
      ]
    },
    {
      "cell_type": "markdown",
      "source": [
        "Now let's do a test run:"
      ],
      "metadata": {
        "id": "c7DFfJG7K5UH"
      }
    },
    {
      "cell_type": "code",
      "source": [
        "!mlflow run --env-manager=local https://github.com/SIT-Academy/sds2022_mlflow_workshop.git#src/mlproject_simple_run/ -P alpha=0.2"
      ],
      "metadata": {
        "id": "wEms3vIwLPBn",
        "colab": {
          "base_uri": "https://localhost:8080/"
        },
        "outputId": "e9c1126c-fd8f-49c0-d175-0c50b8b43370"
      },
      "execution_count": 4,
      "outputs": [
        {
          "output_type": "stream",
          "name": "stdout",
          "text": [
            "2022/06/22 14:30:57 INFO mlflow.projects.utils: === Fetching project from https://github.com/SIT-Academy/sds2022_mlflow_workshop.git#src/mlproject_simple_run/ into /tmp/tmpq8s02y21 ===\n",
            "2022/06/22 14:31:01 INFO mlflow.projects.utils: === Created directory /tmp/tmp_w2raeso for downloading remote URIs passed to arguments of type 'path' ===\n",
            "2022/06/22 14:31:01 INFO mlflow.projects.backend.local: === Running command 'python mlflow_regression_housing.py -r all 0.2 0.5' in run with ID '0ffcd3b0064e4849a114369b7ab692e8' === \n",
            "['mlflow_regression_housing.py', '-r', 'all', '0.2', '0.5']\n",
            "Elasticnet model (alpha=0.200000, l1_ratio=0.500000):\n",
            "  RMSE: 1184313.9608613164\n",
            "  MAE: 608519.8997720616\n",
            "  R2: 0.590015037204457\n",
            "2022/06/22 14:31:17 INFO mlflow.projects: === Run (ID '0ffcd3b0064e4849a114369b7ab692e8') succeeded ===\n"
          ]
        }
      ]
    },
    {
      "cell_type": "markdown",
      "source": [
        "### Exercise: \n",
        "\n",
        "\n",
        "*   Try adjusting parameters and extending what is already there! How do your new models compare to the rest?\n",
        "*   Add new entities to runs (e.g. `mlflow.set_tag('some_tag')`), or try logging new artifacts (like plots, e.g. `mlflow.log_figure(fig, 'my_plot.png')`).\n",
        "*   Submit your own runs & models!\n",
        "\n"
      ],
      "metadata": {
        "id": "vWnFB_guXCCd"
      }
    },
    {
      "cell_type": "code",
      "source": [
        "%%writefile mlflow_regression_housing.py\n",
        "\n",
        "import os\n",
        "import warnings\n",
        "import sys\n",
        "\n",
        "import pandas as pd\n",
        "import numpy as np\n",
        "\n",
        "from sklearn.metrics import mean_squared_error, mean_absolute_error, r2_score\n",
        "from sklearn.model_selection import train_test_split\n",
        "from sklearn.linear_model import ElasticNet\n",
        "from sklearn.ensemble import RandomForestRegressor\n",
        "from sklearn.pipeline import Pipeline\n",
        "from sklearn.compose import ColumnTransformer\n",
        "from sklearn.preprocessing import StandardScaler, OneHotEncoder\n",
        "\n",
        "import mlflow\n",
        "import mlflow.sklearn\n",
        "\n",
        "import logging\n",
        "logging.basicConfig(level=logging.WARN)\n",
        "logger = logging.getLogger(__name__)\n",
        "\n",
        "########\n",
        "# Command-line args - passed in by MLFlow\n",
        "print(sys.argv)\n",
        "model_type = sys.argv[1]\n",
        "alpha = float(sys.argv[2])\n",
        "l1_ratio = float(sys.argv[3])\n",
        "########\n",
        "\n",
        "\"\"\"# Utilities for Data and Metrics\"\"\"\n",
        "\n",
        "def prepare_data():\n",
        "    #id = 1eNTyJc4jXJMkLPXW0eY6LL7_P9YN1GWO\n",
        "    warnings.filterwarnings(\"ignore\")\n",
        "    np.random.seed(42)\n",
        "\n",
        "    # Read the home price csv file from the URL\n",
        "    orig_url = \"https://drive.google.com/file/d/1eNTyJc4jXJMkLPXW0eY6LL7_P9YN1GWO/view\"\n",
        "    file_id = orig_url.split('/')[-2]\n",
        "    data_path='https://drive.google.com/uc?export=download&id=' + file_id\n",
        "    \n",
        "    try:\n",
        "        data = pd.read_csv(data_path)\n",
        "    except Exception as e:\n",
        "        logger.exception(\n",
        "            \"Unable to download training & test CSV, check your internet connection. Error: %s\", e)\n",
        "    \n",
        "    #numbers are written in this format \"1,235,00\" converting them to integers\n",
        "    data[\"price\"] = data[\"price\"].str.replace(',', '')\n",
        "    data[\"price\"] = pd.to_numeric(data[\"price\"])\n",
        "    data = data.drop([\"Unnamed: 0\", 'zip'], 1)\n",
        "    data = data.dropna()\n",
        "\n",
        "    y = data[\"price\"]\n",
        "    X = data.drop(\"price\", 1)\n",
        "    \n",
        "    X_train, X_test, y_train, y_test = train_test_split(X, y, test_size=0.2, random_state=42)\n",
        "\n",
        "    return X_train, X_test, y_train, y_test\n",
        "\n",
        "\n",
        "def eval_metrics(actual, pred):\n",
        "    rmse = np.sqrt(mean_squared_error(actual, pred))\n",
        "    mae = mean_absolute_error(actual, pred)\n",
        "    r2 = r2_score(actual, pred)\n",
        "    return rmse, mae, r2\n",
        "\n",
        "\"\"\"# Load Dataset\"\"\"\n",
        "\n",
        "X_train, X_test, y_train, y_test = prepare_data()\n",
        "\n",
        "data = {\n",
        "    'X_train': X_train,\n",
        "    'X_test': X_test,\n",
        "    'y_train': y_train,\n",
        "    'y_test': y_test\n",
        "}\n",
        "\n",
        "data['X_train'].head()\n",
        "\n",
        "data['y_train'].head()\n",
        "\n",
        "\"\"\"# Utilities for Modeling and Tracking Experiments\"\"\"\n",
        "\n",
        "def train_elasticnet(data, alpha=0.5, l1_ratio=0.5):\n",
        "\n",
        "    # Train and track experiment\n",
        "    with mlflow.start_run():\n",
        "\n",
        "        categorical_features = ['type', 'floor', 'city', 'canton']\n",
        "        continious_features = ['room_num', 'area_m2', 'floors_num', 'year_built', 'last_refurbishment', 'lat', 'lon']\n",
        "\n",
        "        numeric_transformer = Pipeline(steps=[(\"scaler\", StandardScaler())])\n",
        "\n",
        "        categorical_transformer = Pipeline(steps=[(\"onehot\", OneHotEncoder(handle_unknown=\"ignore\"))])\n",
        "\n",
        "        preprocessor = ColumnTransformer( transformers = [(\"num\", numeric_transformer, continious_features),\n",
        "                    (\"cat\", categorical_transformer, categorical_features)])\n",
        "\n",
        "        # Execute ElasticNet\n",
        "        lr = ElasticNet(alpha=alpha, l1_ratio=l1_ratio, random_state=42)\n",
        "        pipeline_lr = Pipeline([(\"col_transformer\", preprocessor), (\"estimator\", lr)])\n",
        "        pipeline_lr.fit(data['X_train'], data['y_train'])\n",
        "\n",
        "        # Evaluate Metrics\n",
        "        predicted_qualities = pipeline_lr.predict(data['X_test'])\n",
        "        (rmse, mae, r2) = eval_metrics(data['y_test'], predicted_qualities)\n",
        "\n",
        "        # Print out metrics\n",
        "        print(\"Elasticnet model (alpha=%f, l1_ratio=%f):\" % (alpha, l1_ratio))\n",
        "        print(\"  RMSE: %s\" % rmse)\n",
        "        print(\"  MAE: %s\" % mae)\n",
        "        print(\"  R2: %s\" % r2)\n",
        "\n",
        "        # Log parameter, metrics, and model to MLflow\n",
        "        mlflow.set_tag('model_type', 'linear')\n",
        "        mlflow.log_param('Model', 'ElasticNet')  \n",
        "        mlflow.log_param(\"alpha\", alpha)\n",
        "        mlflow.log_param(\"l1_ratio\", l1_ratio)\n",
        "        \n",
        "        mlflow.log_metric(\"rmse\", rmse)\n",
        "        mlflow.log_metric(\"r2\", r2)\n",
        "        mlflow.log_metric(\"mae\", mae)\n",
        "\n",
        "        mlflow.sklearn.log_model(pipeline_lr, \"model\")\n",
        "\n",
        "def train_random_forest(data, n_trees=100, max_depth=None):\n",
        "\n",
        "    # Train and track experiment   \n",
        "    with mlflow.start_run():\n",
        "\n",
        "        categorical_features = ['type', 'floor', 'city', 'canton']\n",
        "        continious_features = ['room_num', 'area_m2', 'floors_num', 'year_built', 'last_refurbishment', 'lat', 'lon']\n",
        "\n",
        "        numeric_transformer = Pipeline(steps=[(\"scaler\", StandardScaler())])\n",
        "\n",
        "        categorical_transformer = Pipeline(steps=[(\"onehot\", OneHotEncoder(handle_unknown=\"ignore\"))])\n",
        "\n",
        "        preprocessor = ColumnTransformer( transformers = [(\"num\", numeric_transformer, continious_features),\n",
        "                    (\"cat\", categorical_transformer, categorical_features)])\n",
        "        \n",
        "        # Execute RF\n",
        "        rf = RandomForestRegressor(n_estimators=n_trees, max_depth=max_depth, random_state=42)\n",
        "        pipeline_rf = Pipeline([(\"col_transformer\", preprocessor), (\"estimator\", rf)])\n",
        "        pipeline_rf.fit(data['X_train'], data['y_train'])\n",
        "\n",
        "        # Evaluate Metrics\n",
        "        predicted_qualities = pipeline_rf.predict(data['X_test'])\n",
        "        (rmse, mae, r2) = eval_metrics(data['y_test'], predicted_qualities)\n",
        "\n",
        "        # Print out metrics\n",
        "        print(\"Random Forest model (n_estimators={}, max_depth={}):\".format(n_trees, max_depth))\n",
        "        print(\"  RMSE: %s\" % rmse)\n",
        "        print(\"  MAE: %s\" % mae)\n",
        "        print(\"  R2: %s\" % r2)\n",
        "\n",
        "        # Log parameter, metrics, and model to MLflow\n",
        "        mlflow.set_tag('model_type', 'ensemble')\n",
        "        mlflow.log_param('Model', 'Random Forest')  \n",
        "        mlflow.log_param(\"n_estimators\", n_trees)\n",
        "        mlflow.log_param(\"max_depth\", max_depth)\n",
        "        \n",
        "        mlflow.log_metric(\"rmse\", rmse)\n",
        "        mlflow.log_metric(\"r2\", r2)\n",
        "        mlflow.log_metric(\"mae\", mae)\n",
        "\n",
        "        mlflow.sklearn.log_model(pipeline_rf, \"model\")\n",
        "\n",
        "if model_type == \"elastic_net\" or \"en\":\n",
        "  train_elasticnet(data, alpha, l1_ratio)\n",
        "elif model_type == \"random_forest\" or \"rf\":\n",
        "  train_random_forest(data, n_trees=500, max_depth=10)\n",
        "elif model_type == \"all\":\n",
        "  train_random_forest(data, n_trees=100, max_depth=None)\n",
        "  train_elasticnet(data, alpha, l1_ratio)"
      ],
      "metadata": {
        "id": "7z8pSCE0Xom4",
        "colab": {
          "base_uri": "https://localhost:8080/"
        },
        "outputId": "1eb44e1b-e29c-4a5c-ba69-641f8b43f316"
      },
      "execution_count": 8,
      "outputs": [
        {
          "output_type": "stream",
          "name": "stdout",
          "text": [
            "Overwriting mlflow_regression_housing.py\n"
          ]
        }
      ]
    },
    {
      "cell_type": "code",
      "source": [
        "!python mlflow_regression_housing.py random_forest 0.5 1 "
      ],
      "metadata": {
        "id": "HCui6EEjXobZ",
        "colab": {
          "base_uri": "https://localhost:8080/"
        },
        "outputId": "73a8ea2d-d465-45ac-e9fc-e013b5eb698e"
      },
      "execution_count": 9,
      "outputs": [
        {
          "output_type": "stream",
          "name": "stdout",
          "text": [
            "['mlflow_regression_housing.py', 'random_forest', '0.5', '1']\n",
            "Elasticnet model (alpha=0.500000, l1_ratio=1.000000):\n",
            "  RMSE: 920032.4310590102\n",
            "  MAE: 509132.6768334975\n",
            "  R2: 0.7525767521581358\n"
          ]
        }
      ]
    }
  ]
}