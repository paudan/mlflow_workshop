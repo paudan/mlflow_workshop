{
  "nbformat": 4,
  "nbformat_minor": 0,
  "metadata": {
    "colab": {
      "name": "LC4_MLFlow_Model_Registry_Regression_Housing.ipynb",
      "provenance": [],
      "collapsed_sections": [],
      "include_colab_link": true
    },
    "kernelspec": {
      "name": "python3",
      "display_name": "Python 3"
    },
    "language_info": {
      "name": "python"
    }
  },
  "cells": [
    {
      "cell_type": "markdown",
      "metadata": {
        "id": "view-in-github",
        "colab_type": "text"
      },
      "source": [
        "<a href=\"https://colab.research.google.com/github/paudan/sds2022_mlflow_workshop/blob/main/LC4_MLFlow_Model_Registry_Regression_Housing.ipynb\" target=\"_parent\"><img src=\"https://colab.research.google.com/assets/colab-badge.svg\" alt=\"Open In Colab\"/></a>"
      ]
    },
    {
      "cell_type": "markdown",
      "source": [
        "<center><a target=\"_blank\" href=\"https://www.sds2022.ch/\"><img src=\"https://drive.google.com/uc?id=1S7k7kTXs9qIylw3C7LA9rHkLycjlY8te\" width=\"500\" style=\"background:none; border:none; box-shadow:none;\" /></a> </center>\n",
        "\n",
        "<center><a target=\"_blank\" href=\"http://www.sit.academy\"><img src=\"https://drive.google.com/uc?id=1x9_jQgLhozCSWDSaOdVxKmxOEAe_OLgV\" width=\"250\" style=\"background:none; border:none; box-shadow:none;\" /></a> </center>\n",
        "\n",
        "_____\n",
        "\n",
        "<center> <h1> Live Coding  </h1> </center>\n",
        "\n",
        "<p style=\"margin-bottom:1cm;\"></p>\n",
        "\n",
        "_____\n",
        "\n",
        "<center>SIT Academy, 2022</center>\n",
        "\n"
      ],
      "metadata": {
        "id": "sLm08r11jXhq"
      }
    },
    {
      "cell_type": "markdown",
      "source": [
        "# MLFlow Workshop - Sequence 4 - Model Registry API\n",
        "\n",
        "MLflow Registry offers a centralized model store, set of APIs, and UI, to collaboratively manage the full lifecycle of an MLflow Model. \n",
        "\n",
        "It provides model lineage (which MLflow experiment and run produced the model), model versioning, stage transitions (for example from staging to production or archiving), and annotations."
      ],
      "metadata": {
        "id": "X0G6MEn4SfoL"
      }
    },
    {
      "cell_type": "markdown",
      "source": [
        "## Install dependencies"
      ],
      "metadata": {
        "id": "Oh4f6QesyM-W"
      }
    },
    {
      "cell_type": "code",
      "source": [
        "!pip -q install mlflow boto3 pyngrok"
      ],
      "metadata": {
        "id": "j8J4Xx5QS5WN",
        "colab": {
          "base_uri": "https://localhost:8080/"
        },
        "outputId": "4ee512d6-6a8e-481f-d54c-61c3ae535ab0"
      },
      "execution_count": null,
      "outputs": [
        {
          "output_type": "stream",
          "name": "stdout",
          "text": [
            "\u001b[K     |████████████████████████████████| 17.8 MB 541 kB/s \n",
            "\u001b[K     |████████████████████████████████| 132 kB 34.1 MB/s \n",
            "\u001b[K     |████████████████████████████████| 745 kB 46.5 MB/s \n",
            "\u001b[K     |████████████████████████████████| 181 kB 53.9 MB/s \n",
            "\u001b[K     |████████████████████████████████| 79 kB 7.4 MB/s \n",
            "\u001b[K     |████████████████████████████████| 596 kB 18.6 MB/s \n",
            "\u001b[K     |████████████████████████████████| 209 kB 57.9 MB/s \n",
            "\u001b[K     |████████████████████████████████| 146 kB 59.4 MB/s \n",
            "\u001b[K     |████████████████████████████████| 81 kB 8.5 MB/s \n",
            "\u001b[K     |████████████████████████████████| 54 kB 2.4 MB/s \n",
            "\u001b[K     |████████████████████████████████| 63 kB 1.6 MB/s \n",
            "\u001b[K     |████████████████████████████████| 79 kB 7.0 MB/s \n",
            "\u001b[K     |████████████████████████████████| 8.9 MB 46.3 MB/s \n",
            "\u001b[K     |████████████████████████████████| 127 kB 70.6 MB/s \n",
            "\u001b[K     |████████████████████████████████| 78 kB 7.4 MB/s \n",
            "\u001b[?25h  Building wheel for databricks-cli (setup.py) ... \u001b[?25l\u001b[?25hdone\n",
            "  Building wheel for pyngrok (setup.py) ... \u001b[?25l\u001b[?25hdone\n",
            "\u001b[31mERROR: pip's dependency resolver does not currently take into account all the packages that are installed. This behaviour is the source of the following dependency conflicts.\n",
            "datascience 0.10.6 requires folium==0.2.1, but you have folium 0.8.3 which is incompatible.\u001b[0m\n"
          ]
        }
      ]
    },
    {
      "cell_type": "markdown",
      "source": [
        "## Check and see if SQL is installed"
      ],
      "metadata": {
        "id": "fw3wxzK3bNuA"
      }
    },
    {
      "cell_type": "code",
      "source": [
        "#conda install -c conda-forge ipython-sql #must install to kernel if running locally\n",
        "%load_ext sql"
      ],
      "metadata": {
        "id": "ojQOJV_fWHq1"
      },
      "execution_count": null,
      "outputs": []
    },
    {
      "cell_type": "code",
      "source": [
        "from pyngrok import ngrok\n",
        "from getpass import getpass"
      ],
      "metadata": {
        "id": "2iJKj1UwTzuB"
      },
      "execution_count": null,
      "outputs": []
    },
    {
      "cell_type": "code",
      "source": [
        "def start_tunnel():\n",
        "  # Terminate open tunnels if exist\n",
        "  ngrok.kill()\n",
        "  # Get your authtoken from https://dashboard.ngrok.com/auth\n",
        "  NGROK_AUTH_TOKEN = getpass('Enter the ngrok authtoken: ')\n",
        "  ngrok.set_auth_token(NGROK_AUTH_TOKEN)\n",
        "  # Open an HTTPs tunnel on port 5000 for http://localhost:5000\n",
        "  ngrok_tunnel = ngrok.connect(addr=\"5000\", proto=\"http\", bind_tls=True)\n",
        "  print(\"MLflow Tracking UI:\", ngrok_tunnel.public_url)"
      ],
      "metadata": {
        "id": "nk3SrxMYzq9_"
      },
      "execution_count": null,
      "outputs": []
    },
    {
      "cell_type": "markdown",
      "source": [
        "## Using an SQLite server for tracking (locally)"
      ],
      "metadata": {
        "id": "SfOUbgjfV6-5"
      }
    },
    {
      "cell_type": "code",
      "source": [
        "!touch mlflow.sqlite #this will only persist for the duration of the Colab session unless you move it to your Google Drive"
      ],
      "metadata": {
        "id": "ox_abJgdV_3e"
      },
      "execution_count": null,
      "outputs": []
    },
    {
      "cell_type": "markdown",
      "source": [
        "We need to define an environment variable `MLFLOW_TRACKING_URI` which all subsequent MLFlow runs will use for its tracking server."
      ],
      "metadata": {
        "id": "dTJjcBzuKe0-"
      }
    },
    {
      "cell_type": "code",
      "source": [
        "%env MLFLOW_TRACKING_URI=http://localhost:5000"
      ],
      "metadata": {
        "colab": {
          "base_uri": "https://localhost:8080/"
        },
        "id": "RQjzxzo9V1l6",
        "outputId": "e6420554-28f3-4ab4-8fa2-079f3ffe2a41"
      },
      "execution_count": null,
      "outputs": [
        {
          "output_type": "stream",
          "name": "stdout",
          "text": [
            "env: MLFLOW_TRACKING_URI=http://localhost:5000\n"
          ]
        }
      ]
    },
    {
      "cell_type": "markdown",
      "source": [
        "Then, we can run the MLFlow server in the background (so we can run other cells in the notebook as well):"
      ],
      "metadata": {
        "id": "Tj96DSSnKqBp"
      }
    },
    {
      "cell_type": "code",
      "source": [
        "# We cannot run it in the background with !\n",
        "get_ipython().system_raw(\n",
        "    \"mlflow server --backend-store-uri sqlite:///mlflow.sqlite --host 0.0.0.0 --port 5000 --default-artifact-root /content/mlruns/ &\"\n",
        "    )"
      ],
      "metadata": {
        "id": "TguIdYzEWvHk"
      },
      "execution_count": null,
      "outputs": []
    },
    {
      "cell_type": "markdown",
      "source": [
        "Now let's do a test run:"
      ],
      "metadata": {
        "id": "c7DFfJG7K5UH"
      }
    },
    {
      "cell_type": "code",
      "source": [
        "!mlflow run --env-manager=local https://github.com/SIT-Academy/sds2022_mlflow_workshop.git#src/mlproject_simple_run/ -P alpha=0.2"
      ],
      "metadata": {
        "colab": {
          "base_uri": "https://localhost:8080/"
        },
        "id": "PwOLf6gFVvac",
        "outputId": "5f315e3a-bef5-4580-f01f-bb92ee92bb70"
      },
      "execution_count": null,
      "outputs": [
        {
          "output_type": "stream",
          "name": "stdout",
          "text": [
            "2022/06/22 13:18:37 INFO mlflow.projects.utils: === Fetching project from https://github.com/SIT-Academy/sds2022_mlflow_workshop.git#src/mlproject_simple_run/ into /tmp/tmpiwk_hc70 ===\n",
            "2022/06/22 13:18:41 INFO mlflow.projects.utils: === Created directory /tmp/tmpqh2bfekh for downloading remote URIs passed to arguments of type 'path' ===\n",
            "2022/06/22 13:18:41 INFO mlflow.projects.backend.local: === Running command 'python mlflow_regression_housing.py -r all 0.2 0.5' in run with ID '657963bd41214a50a850bf2cb7956c71' === \n",
            "['mlflow_regression_housing.py', '-r', 'all', '0.2', '0.5']\n",
            "Elasticnet model (alpha=0.200000, l1_ratio=0.500000):\n",
            "  RMSE: 1184313.9608613164\n",
            "  MAE: 608519.8997720616\n",
            "  R2: 0.590015037204457\n",
            "2022/06/22 13:18:49 INFO mlflow.projects: === Run (ID '657963bd41214a50a850bf2cb7956c71') succeeded ===\n"
          ]
        }
      ]
    },
    {
      "cell_type": "code",
      "source": [
        "start_tunnel()"
      ],
      "metadata": {
        "colab": {
          "base_uri": "https://localhost:8080/"
        },
        "id": "Wl58WYoQWuM6",
        "outputId": "5f17e8ec-a3ff-4cc3-b97a-18e4e2319f02"
      },
      "execution_count": null,
      "outputs": [
        {
          "output_type": "stream",
          "name": "stdout",
          "text": [
            "Enter the ngrok authtoken: ··········\n",
            "MLflow Tracking UI: https://2000-34-73-77-123.ngrok.io\n"
          ]
        }
      ]
    },
    {
      "cell_type": "code",
      "source": [
        "# To kill MLFlow Server instances running in the background, uncomment & run:\n",
        "#!pkill -f gunicorn"
      ],
      "metadata": {
        "id": "Jn8BuDcxYZ2q"
      },
      "execution_count": null,
      "outputs": []
    },
    {
      "cell_type": "markdown",
      "source": [
        "## Using an SQL tracking server & S3 bucket for artifact storage"
      ],
      "metadata": {
        "id": "hsIi0HfihOvd"
      }
    },
    {
      "cell_type": "markdown",
      "source": [
        "Here we will provide you access to an S3 bucket (for cloud object storage) for the workshop.\n",
        "\n",
        "*If you are interested in your own (free, AWS-substitute) bucket(s), you can sign up for 150 GB of storage on [Storj](https://www.storj.io/).*"
      ],
      "metadata": {
        "id": "1p-duf8hiXWA"
      }
    },
    {
      "cell_type": "code",
      "source": [
        "%env AWS_ACCESS_KEY_ID=jwhttmo4qhgfncxxdftqlwpxfaia\n",
        "%env AWS_SECRET_ACCESS_KEY=jyhyd7bxmbax3w3mzfi55tscfk5t34rotzj3nbg2e4nwpofxwuh2y\n",
        "\n",
        "%env MLFLOW_S3_ENDPOINT_URL=https://gateway.eu1.storjshare.io/"
      ],
      "metadata": {
        "colab": {
          "base_uri": "https://localhost:8080/"
        },
        "id": "0m39kNEEtjP3",
        "outputId": "b4e795c7-4159-4e5a-9fa1-33e9838bd69f"
      },
      "execution_count": null,
      "outputs": [
        {
          "output_type": "stream",
          "name": "stdout",
          "text": [
            "env: AWS_ACCESS_KEY_ID=jwhttmo4qhgfncxxdftqlwpxfaia\n",
            "env: AWS_SECRET_ACCESS_KEY=jyhyd7bxmbax3w3mzfi55tscfk5t34rotzj3nbg2e4nwpofxwuh2y\n",
            "env: MLFLOW_S3_ENDPOINT_URL=https://gateway.eu1.storjshare.io/\n"
          ]
        }
      ]
    },
    {
      "cell_type": "code",
      "source": [
        "!echo $MLFLOW_TRACKING_URI"
      ],
      "metadata": {
        "colab": {
          "base_uri": "https://localhost:8080/"
        },
        "id": "gM8g4-wcUJhv",
        "outputId": "507abc26-4d7f-453c-f786-9784c70adb8c"
      },
      "execution_count": null,
      "outputs": [
        {
          "output_type": "stream",
          "name": "stdout",
          "text": [
            "http://localhost:5000\n"
          ]
        }
      ]
    },
    {
      "cell_type": "code",
      "source": [
        "#Note: make sure to unset the `MLFLOW_TRACKING_URI` variable first if set earlier\n",
        "#     to have it function properly as a remote tracking server!\n",
        "\n",
        "# Uncomment below & run:\n",
        "!unset MLFLOW_TRACKING_URI"
      ],
      "metadata": {
        "id": "vUiwvoXCT8Kl"
      },
      "execution_count": null,
      "outputs": []
    },
    {
      "cell_type": "code",
      "source": [
        "start_tunnel()"
      ],
      "metadata": {
        "id": "wEms3vIwLPBn",
        "colab": {
          "base_uri": "https://localhost:8080/"
        },
        "outputId": "af0bc919-cdd2-4709-ed21-4aec25bbd968"
      },
      "execution_count": null,
      "outputs": [
        {
          "output_type": "stream",
          "name": "stdout",
          "text": [
            "Enter the ngrok authtoken: ··········\n",
            "MLflow Tracking UI: https://40fe-104-155-206-193.ngrok.io\n"
          ]
        }
      ]
    },
    {
      "cell_type": "code",
      "source": [
        "!mlflow server --backend-store-uri sqlite:///mlflow.sqlite --default-artifact-root s3://demobucket --gunicorn-opts \"--log-level debug\""
      ],
      "metadata": {
        "colab": {
          "base_uri": "https://localhost:8080/"
        },
        "id": "br2P3IEzhRjB",
        "outputId": "078f6546-92d6-4b96-9ce0-249fbc9ae382"
      },
      "execution_count": null,
      "outputs": [
        {
          "output_type": "stream",
          "name": "stdout",
          "text": [
            "[2022-06-22 13:21:46 +0000] [332] [DEBUG] Current configuration:\n",
            "  config: ./gunicorn.conf.py\n",
            "  wsgi_app: None\n",
            "  bind: ['127.0.0.1:5000']\n",
            "  backlog: 2048\n",
            "  workers: 4\n",
            "  worker_class: sync\n",
            "  threads: 1\n",
            "  worker_connections: 1000\n",
            "  max_requests: 0\n",
            "  max_requests_jitter: 0\n",
            "  timeout: 30\n",
            "  graceful_timeout: 30\n",
            "  keepalive: 2\n",
            "  limit_request_line: 4094\n",
            "  limit_request_fields: 100\n",
            "  limit_request_field_size: 8190\n",
            "  reload: False\n",
            "  reload_engine: auto\n",
            "  reload_extra_files: []\n",
            "  spew: False\n",
            "  check_config: False\n",
            "  print_config: False\n",
            "  preload_app: False\n",
            "  sendfile: None\n",
            "  reuse_port: False\n",
            "  chdir: /content\n",
            "  daemon: False\n",
            "  raw_env: []\n",
            "  pidfile: None\n",
            "  worker_tmp_dir: None\n",
            "  user: 0\n",
            "  group: 0\n",
            "  umask: 0\n",
            "  initgroups: False\n",
            "  tmp_upload_dir: None\n",
            "  secure_scheme_headers: {'X-FORWARDED-PROTOCOL': 'ssl', 'X-FORWARDED-PROTO': 'https', 'X-FORWARDED-SSL': 'on'}\n",
            "  forwarded_allow_ips: ['127.0.0.1']\n",
            "  accesslog: None\n",
            "  disable_redirect_access_to_syslog: False\n",
            "  access_log_format: %(h)s %(l)s %(u)s %(t)s \"%(r)s\" %(s)s %(b)s \"%(f)s\" \"%(a)s\"\n",
            "  errorlog: -\n",
            "  loglevel: debug\n",
            "  capture_output: False\n",
            "  logger_class: gunicorn.glogging.Logger\n",
            "  logconfig: None\n",
            "  logconfig_dict: {}\n",
            "  syslog_addr: udp://localhost:514\n",
            "  syslog: False\n",
            "  syslog_prefix: None\n",
            "  syslog_facility: user\n",
            "  enable_stdio_inheritance: False\n",
            "  statsd_host: None\n",
            "  dogstatsd_tags: \n",
            "  statsd_prefix: \n",
            "  proc_name: None\n",
            "  default_proc_name: mlflow.server:app\n",
            "  pythonpath: None\n",
            "  paste: None\n",
            "  on_starting: <function OnStarting.on_starting at 0x7f74d340c830>\n",
            "  on_reload: <function OnReload.on_reload at 0x7f74d340c950>\n",
            "  when_ready: <function WhenReady.when_ready at 0x7f74d340ca70>\n",
            "  pre_fork: <function Prefork.pre_fork at 0x7f74d340cb90>\n",
            "  post_fork: <function Postfork.post_fork at 0x7f74d340ccb0>\n",
            "  post_worker_init: <function PostWorkerInit.post_worker_init at 0x7f74d340cdd0>\n",
            "  worker_int: <function WorkerInt.worker_int at 0x7f74d340cef0>\n",
            "  worker_abort: <function WorkerAbort.worker_abort at 0x7f74d33a1050>\n",
            "  pre_exec: <function PreExec.pre_exec at 0x7f74d33a1170>\n",
            "  pre_request: <function PreRequest.pre_request at 0x7f74d33a1290>\n",
            "  post_request: <function PostRequest.post_request at 0x7f74d33a1320>\n",
            "  child_exit: <function ChildExit.child_exit at 0x7f74d33a1440>\n",
            "  worker_exit: <function WorkerExit.worker_exit at 0x7f74d33a1560>\n",
            "  nworkers_changed: <function NumWorkersChanged.nworkers_changed at 0x7f74d33a1680>\n",
            "  on_exit: <function OnExit.on_exit at 0x7f74d33a17a0>\n",
            "  proxy_protocol: False\n",
            "  proxy_allow_ips: ['127.0.0.1']\n",
            "  keyfile: None\n",
            "  certfile: None\n",
            "  ssl_version: 2\n",
            "  cert_reqs: 0\n",
            "  ca_certs: None\n",
            "  suppress_ragged_eofs: True\n",
            "  do_handshake_on_connect: False\n",
            "  ciphers: None\n",
            "  raw_paste_global_conf: []\n",
            "  strip_header_spaces: False\n",
            "[2022-06-22 13:21:46 +0000] [332] [INFO] Starting gunicorn 20.1.0\n",
            "[2022-06-22 13:21:46 +0000] [332] [DEBUG] Arbiter booted\n",
            "[2022-06-22 13:21:46 +0000] [332] [INFO] Listening at: http://127.0.0.1:5000 (332)\n",
            "[2022-06-22 13:21:46 +0000] [332] [INFO] Using worker: sync\n",
            "[2022-06-22 13:21:46 +0000] [335] [INFO] Booting worker with pid: 335\n",
            "[2022-06-22 13:21:46 +0000] [336] [INFO] Booting worker with pid: 336\n",
            "[2022-06-22 13:21:46 +0000] [337] [INFO] Booting worker with pid: 337\n",
            "[2022-06-22 13:21:46 +0000] [338] [INFO] Booting worker with pid: 338\n",
            "[2022-06-22 13:21:46 +0000] [332] [DEBUG] 4 workers\n",
            "[2022-06-22 13:22:05 +0000] [332] [INFO] Handling signal: int\n",
            "\n",
            "Aborted!\n",
            "[2022-06-22 13:22:05 +0000] [337] [INFO] Worker exiting (pid: 337)\n",
            "[2022-06-22 13:22:05 +0000] [335] [INFO] Worker exiting (pid: 335)\n",
            "[2022-06-22 13:22:05 +0000] [338] [INFO] Worker exiting (pid: 338)\n",
            "[2022-06-22 13:22:05 +0000] [336] [INFO] Worker exiting (pid: 336)\n",
            "[2022-06-22 13:22:06 +0000] [332] [INFO] Shutting down: Master\n"
          ]
        }
      ]
    },
    {
      "cell_type": "markdown",
      "source": [
        "## MLflow server + proxied artifact storage access"
      ],
      "metadata": {
        "id": "AIJbN3ABeODk"
      }
    },
    {
      "cell_type": "markdown",
      "source": [
        "You can also run the tracking server without exposing the artifact store to end-users.\n",
        "\n",
        "**Pro:**\n",
        "*   Client-side does not need authentication to e.g. S3 bucket\n",
        "\n",
        "**Con:**\n",
        "*   Anyone with access to the tracking server can access all artifacts"
      ],
      "metadata": {
        "id": "998orFyDgK87"
      }
    },
    {
      "cell_type": "markdown",
      "source": [
        "Artifact URIs will start with `mlflow-artifacts:/` instead of e.g. `s3:/`."
      ],
      "metadata": {
        "id": "a5RS2rFciKgM"
      }
    },
    {
      "cell_type": "code",
      "source": [
        "start_tunnel()"
      ],
      "metadata": {
        "id": "JwOOSmdZLSDM",
        "colab": {
          "base_uri": "https://localhost:8080/"
        },
        "outputId": "e63bb799-30f6-49f7-aba9-2b84a32a2195"
      },
      "execution_count": null,
      "outputs": [
        {
          "output_type": "stream",
          "name": "stdout",
          "text": [
            "Enter the ngrok authtoken: ··········\n",
            "MLflow Tracking UI: https://113d-104-155-206-193.ngrok.io\n"
          ]
        }
      ]
    },
    {
      "cell_type": "code",
      "source": [
        "!mlflow server --backend-store-uri sqlite:///mlflow.sqlite --default-artifact-root mlflow-artifacts --artifacts-destination s3://demobucket --serve-artifacts"
      ],
      "metadata": {
        "colab": {
          "base_uri": "https://localhost:8080/"
        },
        "id": "ZKK-ngmZeNkh",
        "outputId": "b3f02be3-8cd7-4ec4-9442-44c99f5be8dd"
      },
      "execution_count": null,
      "outputs": [
        {
          "output_type": "stream",
          "name": "stdout",
          "text": [
            "[2022-06-22 13:23:59 +0000] [435] [INFO] Starting gunicorn 20.1.0\n",
            "[2022-06-22 13:23:59 +0000] [435] [INFO] Listening at: http://127.0.0.1:5000 (435)\n",
            "[2022-06-22 13:23:59 +0000] [435] [INFO] Using worker: sync\n",
            "[2022-06-22 13:23:59 +0000] [438] [INFO] Booting worker with pid: 438\n",
            "[2022-06-22 13:23:59 +0000] [439] [INFO] Booting worker with pid: 439\n",
            "[2022-06-22 13:23:59 +0000] [440] [INFO] Booting worker with pid: 440\n",
            "[2022-06-22 13:23:59 +0000] [441] [INFO] Booting worker with pid: 441\n",
            "[2022-06-22 13:25:01 +0000] [435] [INFO] Handling signal: int\n",
            "\n",
            "Aborted!\n",
            "[2022-06-22 13:25:01 +0000] [438] [INFO] Worker exiting (pid: 438)\n",
            "[2022-06-22 13:25:01 +0000] [439] [INFO] Worker exiting (pid: 439)\n",
            "[2022-06-22 13:25:01 +0000] [440] [INFO] Worker exiting (pid: 440)\n",
            "[2022-06-22 13:25:01 +0000] [441] [INFO] Worker exiting (pid: 441)\n",
            "[2022-06-22 13:25:02 +0000] [435] [INFO] Shutting down: Master\n"
          ]
        }
      ]
    },
    {
      "cell_type": "markdown",
      "source": [
        "## Searching through your MLflow runs programmatically"
      ],
      "metadata": {
        "id": "yrY8AFA-hRnv"
      }
    },
    {
      "cell_type": "code",
      "source": [
        "import mlflow"
      ],
      "metadata": {
        "id": "FuNW7-tmhVGD"
      },
      "execution_count": null,
      "outputs": []
    },
    {
      "cell_type": "code",
      "source": [
        "mlflow.search_runs()"
      ],
      "metadata": {
        "id": "EX-t8te0hVBw",
        "colab": {
          "base_uri": "https://localhost:8080/",
          "height": 191
        },
        "outputId": "3d7e7c67-8bcf-43da-a1e0-53ad869508f6"
      },
      "execution_count": null,
      "outputs": [
        {
          "output_type": "execute_result",
          "data": {
            "text/plain": [
              "                             run_id experiment_id    status  \\\n",
              "0  657963bd41214a50a850bf2cb7956c71             0  FINISHED   \n",
              "\n",
              "                                        artifact_uri  \\\n",
              "0  /content/mlruns/0/657963bd41214a50a850bf2cb795...   \n",
              "\n",
              "                        start_time                         end_time  \\\n",
              "0 2022-06-22 13:18:40.157000+00:00 2022-06-22 13:18:49.191000+00:00   \n",
              "\n",
              "   metrics.r2    metrics.mae  metrics.rmse params.model_type  ...  \\\n",
              "0    0.590015  608519.899772  1.184314e+06               all  ...   \n",
              "\n",
              "  params.Model                     tags.mlflow.source.git.repoURL  \\\n",
              "0   ElasticNet  https://github.com/SIT-Academy/sds2022_mlflow_...   \n",
              "\n",
              "                       tags.mlflow.log-model.history  \\\n",
              "0  [{\"run_id\": \"657963bd41214a50a850bf2cb7956c71\"...   \n",
              "\n",
              "                              tags.mlflow.gitRepoURL tags.mlflow.source.type  \\\n",
              "0  https://github.com/SIT-Academy/sds2022_mlflow_...                 PROJECT   \n",
              "\n",
              "  tags.mlflow.project.entryPoint  \\\n",
              "0                           main   \n",
              "\n",
              "                             tags.mlflow.source.name tags.mlflow.user  \\\n",
              "0  https://github.com/SIT-Academy/sds2022_mlflow_...             root   \n",
              "\n",
              "  tags.mlflow.project.backend             tags.mlflow.source.git.commit  \n",
              "0                       local  a94209b7f6a9dfae2dabe4a97cfa2895e2024aec  \n",
              "\n",
              "[1 rows x 22 columns]"
            ],
            "text/html": [
              "\n",
              "  <div id=\"df-a2d2fd86-f830-4568-bf1a-df3bd2034dc2\">\n",
              "    <div class=\"colab-df-container\">\n",
              "      <div>\n",
              "<style scoped>\n",
              "    .dataframe tbody tr th:only-of-type {\n",
              "        vertical-align: middle;\n",
              "    }\n",
              "\n",
              "    .dataframe tbody tr th {\n",
              "        vertical-align: top;\n",
              "    }\n",
              "\n",
              "    .dataframe thead th {\n",
              "        text-align: right;\n",
              "    }\n",
              "</style>\n",
              "<table border=\"1\" class=\"dataframe\">\n",
              "  <thead>\n",
              "    <tr style=\"text-align: right;\">\n",
              "      <th></th>\n",
              "      <th>run_id</th>\n",
              "      <th>experiment_id</th>\n",
              "      <th>status</th>\n",
              "      <th>artifact_uri</th>\n",
              "      <th>start_time</th>\n",
              "      <th>end_time</th>\n",
              "      <th>metrics.r2</th>\n",
              "      <th>metrics.mae</th>\n",
              "      <th>metrics.rmse</th>\n",
              "      <th>params.model_type</th>\n",
              "      <th>...</th>\n",
              "      <th>params.Model</th>\n",
              "      <th>tags.mlflow.source.git.repoURL</th>\n",
              "      <th>tags.mlflow.log-model.history</th>\n",
              "      <th>tags.mlflow.gitRepoURL</th>\n",
              "      <th>tags.mlflow.source.type</th>\n",
              "      <th>tags.mlflow.project.entryPoint</th>\n",
              "      <th>tags.mlflow.source.name</th>\n",
              "      <th>tags.mlflow.user</th>\n",
              "      <th>tags.mlflow.project.backend</th>\n",
              "      <th>tags.mlflow.source.git.commit</th>\n",
              "    </tr>\n",
              "  </thead>\n",
              "  <tbody>\n",
              "    <tr>\n",
              "      <th>0</th>\n",
              "      <td>657963bd41214a50a850bf2cb7956c71</td>\n",
              "      <td>0</td>\n",
              "      <td>FINISHED</td>\n",
              "      <td>/content/mlruns/0/657963bd41214a50a850bf2cb795...</td>\n",
              "      <td>2022-06-22 13:18:40.157000+00:00</td>\n",
              "      <td>2022-06-22 13:18:49.191000+00:00</td>\n",
              "      <td>0.590015</td>\n",
              "      <td>608519.899772</td>\n",
              "      <td>1.184314e+06</td>\n",
              "      <td>all</td>\n",
              "      <td>...</td>\n",
              "      <td>ElasticNet</td>\n",
              "      <td>https://github.com/SIT-Academy/sds2022_mlflow_...</td>\n",
              "      <td>[{\"run_id\": \"657963bd41214a50a850bf2cb7956c71\"...</td>\n",
              "      <td>https://github.com/SIT-Academy/sds2022_mlflow_...</td>\n",
              "      <td>PROJECT</td>\n",
              "      <td>main</td>\n",
              "      <td>https://github.com/SIT-Academy/sds2022_mlflow_...</td>\n",
              "      <td>root</td>\n",
              "      <td>local</td>\n",
              "      <td>a94209b7f6a9dfae2dabe4a97cfa2895e2024aec</td>\n",
              "    </tr>\n",
              "  </tbody>\n",
              "</table>\n",
              "<p>1 rows × 22 columns</p>\n",
              "</div>\n",
              "      <button class=\"colab-df-convert\" onclick=\"convertToInteractive('df-a2d2fd86-f830-4568-bf1a-df3bd2034dc2')\"\n",
              "              title=\"Convert this dataframe to an interactive table.\"\n",
              "              style=\"display:none;\">\n",
              "        \n",
              "  <svg xmlns=\"http://www.w3.org/2000/svg\" height=\"24px\"viewBox=\"0 0 24 24\"\n",
              "       width=\"24px\">\n",
              "    <path d=\"M0 0h24v24H0V0z\" fill=\"none\"/>\n",
              "    <path d=\"M18.56 5.44l.94 2.06.94-2.06 2.06-.94-2.06-.94-.94-2.06-.94 2.06-2.06.94zm-11 1L8.5 8.5l.94-2.06 2.06-.94-2.06-.94L8.5 2.5l-.94 2.06-2.06.94zm10 10l.94 2.06.94-2.06 2.06-.94-2.06-.94-.94-2.06-.94 2.06-2.06.94z\"/><path d=\"M17.41 7.96l-1.37-1.37c-.4-.4-.92-.59-1.43-.59-.52 0-1.04.2-1.43.59L10.3 9.45l-7.72 7.72c-.78.78-.78 2.05 0 2.83L4 21.41c.39.39.9.59 1.41.59.51 0 1.02-.2 1.41-.59l7.78-7.78 2.81-2.81c.8-.78.8-2.07 0-2.86zM5.41 20L4 18.59l7.72-7.72 1.47 1.35L5.41 20z\"/>\n",
              "  </svg>\n",
              "      </button>\n",
              "      \n",
              "  <style>\n",
              "    .colab-df-container {\n",
              "      display:flex;\n",
              "      flex-wrap:wrap;\n",
              "      gap: 12px;\n",
              "    }\n",
              "\n",
              "    .colab-df-convert {\n",
              "      background-color: #E8F0FE;\n",
              "      border: none;\n",
              "      border-radius: 50%;\n",
              "      cursor: pointer;\n",
              "      display: none;\n",
              "      fill: #1967D2;\n",
              "      height: 32px;\n",
              "      padding: 0 0 0 0;\n",
              "      width: 32px;\n",
              "    }\n",
              "\n",
              "    .colab-df-convert:hover {\n",
              "      background-color: #E2EBFA;\n",
              "      box-shadow: 0px 1px 2px rgba(60, 64, 67, 0.3), 0px 1px 3px 1px rgba(60, 64, 67, 0.15);\n",
              "      fill: #174EA6;\n",
              "    }\n",
              "\n",
              "    [theme=dark] .colab-df-convert {\n",
              "      background-color: #3B4455;\n",
              "      fill: #D2E3FC;\n",
              "    }\n",
              "\n",
              "    [theme=dark] .colab-df-convert:hover {\n",
              "      background-color: #434B5C;\n",
              "      box-shadow: 0px 1px 3px 1px rgba(0, 0, 0, 0.15);\n",
              "      filter: drop-shadow(0px 1px 2px rgba(0, 0, 0, 0.3));\n",
              "      fill: #FFFFFF;\n",
              "    }\n",
              "  </style>\n",
              "\n",
              "      <script>\n",
              "        const buttonEl =\n",
              "          document.querySelector('#df-a2d2fd86-f830-4568-bf1a-df3bd2034dc2 button.colab-df-convert');\n",
              "        buttonEl.style.display =\n",
              "          google.colab.kernel.accessAllowed ? 'block' : 'none';\n",
              "\n",
              "        async function convertToInteractive(key) {\n",
              "          const element = document.querySelector('#df-a2d2fd86-f830-4568-bf1a-df3bd2034dc2');\n",
              "          const dataTable =\n",
              "            await google.colab.kernel.invokeFunction('convertToInteractive',\n",
              "                                                     [key], {});\n",
              "          if (!dataTable) return;\n",
              "\n",
              "          const docLinkHtml = 'Like what you see? Visit the ' +\n",
              "            '<a target=\"_blank\" href=https://colab.research.google.com/notebooks/data_table.ipynb>data table notebook</a>'\n",
              "            + ' to learn more about interactive tables.';\n",
              "          element.innerHTML = '';\n",
              "          dataTable['output_type'] = 'display_data';\n",
              "          await google.colab.output.renderOutput(dataTable, element);\n",
              "          const docLink = document.createElement('div');\n",
              "          docLink.innerHTML = docLinkHtml;\n",
              "          element.appendChild(docLink);\n",
              "        }\n",
              "      </script>\n",
              "    </div>\n",
              "  </div>\n",
              "  "
            ]
          },
          "metadata": {},
          "execution_count": 25
        }
      ]
    },
    {
      "cell_type": "markdown",
      "source": [
        "This gives you all the runs listed in the already-defined tracking server as a Pandas dataframe."
      ],
      "metadata": {
        "id": "AZjhtlz_hzSR"
      }
    },
    {
      "cell_type": "code",
      "source": [
        "mlflow.search_runs().loc[0]"
      ],
      "metadata": {
        "id": "qvM2Rh9chU2K",
        "colab": {
          "base_uri": "https://localhost:8080/"
        },
        "outputId": "aff25da6-ac2f-4588-96e8-b5ebf5f78700"
      },
      "execution_count": null,
      "outputs": [
        {
          "output_type": "execute_result",
          "data": {
            "text/plain": [
              "run_id                                             657963bd41214a50a850bf2cb7956c71\n",
              "experiment_id                                                                     0\n",
              "status                                                                     FINISHED\n",
              "artifact_uri                      /content/mlruns/0/657963bd41214a50a850bf2cb795...\n",
              "start_time                                         2022-06-22 13:18:40.157000+00:00\n",
              "end_time                                           2022-06-22 13:18:49.191000+00:00\n",
              "metrics.r2                                                                 0.590015\n",
              "metrics.mae                                                           608519.899772\n",
              "metrics.rmse                                                         1184313.960861\n",
              "params.model_type                                                               all\n",
              "params.alpha                                                                    0.2\n",
              "params.l1_ratio                                                                 0.5\n",
              "params.Model                                                             ElasticNet\n",
              "tags.mlflow.source.git.repoURL    https://github.com/SIT-Academy/sds2022_mlflow_...\n",
              "tags.mlflow.log-model.history     [{\"run_id\": \"657963bd41214a50a850bf2cb7956c71\"...\n",
              "tags.mlflow.gitRepoURL            https://github.com/SIT-Academy/sds2022_mlflow_...\n",
              "tags.mlflow.source.type                                                     PROJECT\n",
              "tags.mlflow.project.entryPoint                                                 main\n",
              "tags.mlflow.source.name           https://github.com/SIT-Academy/sds2022_mlflow_...\n",
              "tags.mlflow.user                                                               root\n",
              "tags.mlflow.project.backend                                                   local\n",
              "tags.mlflow.source.git.commit              a94209b7f6a9dfae2dabe4a97cfa2895e2024aec\n",
              "Name: 0, dtype: object"
            ]
          },
          "metadata": {},
          "execution_count": 24
        }
      ]
    },
    {
      "cell_type": "code",
      "source": [
        "artifact_uri = mlflow.search_runs().loc[0]['artifact_uri']"
      ],
      "metadata": {
        "id": "3z470J7QhiJS"
      },
      "execution_count": null,
      "outputs": []
    },
    {
      "cell_type": "code",
      "source": [
        "mlflow.artifacts.download_artifacts(artifact_uri)"
      ],
      "metadata": {
        "id": "dL90XCGshjQA",
        "colab": {
          "base_uri": "https://localhost:8080/",
          "height": 35
        },
        "outputId": "81ad871f-8037-4462-9ad6-4f3268b206ad"
      },
      "execution_count": null,
      "outputs": [
        {
          "output_type": "execute_result",
          "data": {
            "text/plain": [
              "'/content/mlruns/0/657963bd41214a50a850bf2cb7956c71/artifacts'"
            ],
            "application/vnd.google.colaboratory.intrinsic+json": {
              "type": "string"
            }
          },
          "metadata": {},
          "execution_count": 27
        }
      ]
    },
    {
      "cell_type": "markdown",
      "source": [
        "You can also filter by multiple conditions separated by an `AND` operator."
      ],
      "metadata": {
        "id": "EXF6P9FshnX5"
      }
    },
    {
      "cell_type": "code",
      "source": [
        "mlflow.search_runs(filter_string = \"metrics.r2 > 0.2\")\n",
        "\n",
        "#mlflow.search_runs(filter_string = \"metrics.r2 > 0.2 AND ...\")"
      ],
      "metadata": {
        "id": "XE2-RFCbhkyK",
        "colab": {
          "base_uri": "https://localhost:8080/",
          "height": 191
        },
        "outputId": "f0f90805-fe65-46fb-8836-a940911e801a"
      },
      "execution_count": 28,
      "outputs": [
        {
          "output_type": "execute_result",
          "data": {
            "text/plain": [
              "                             run_id experiment_id    status  \\\n",
              "0  657963bd41214a50a850bf2cb7956c71             0  FINISHED   \n",
              "\n",
              "                                        artifact_uri  \\\n",
              "0  /content/mlruns/0/657963bd41214a50a850bf2cb795...   \n",
              "\n",
              "                        start_time                         end_time  \\\n",
              "0 2022-06-22 13:18:40.157000+00:00 2022-06-22 13:18:49.191000+00:00   \n",
              "\n",
              "   metrics.r2    metrics.mae  metrics.rmse params.model_type  ...  \\\n",
              "0    0.590015  608519.899772  1.184314e+06               all  ...   \n",
              "\n",
              "  params.Model                     tags.mlflow.source.git.repoURL  \\\n",
              "0   ElasticNet  https://github.com/SIT-Academy/sds2022_mlflow_...   \n",
              "\n",
              "                       tags.mlflow.log-model.history  \\\n",
              "0  [{\"run_id\": \"657963bd41214a50a850bf2cb7956c71\"...   \n",
              "\n",
              "                              tags.mlflow.gitRepoURL tags.mlflow.source.type  \\\n",
              "0  https://github.com/SIT-Academy/sds2022_mlflow_...                 PROJECT   \n",
              "\n",
              "  tags.mlflow.project.entryPoint  \\\n",
              "0                           main   \n",
              "\n",
              "                             tags.mlflow.source.name tags.mlflow.user  \\\n",
              "0  https://github.com/SIT-Academy/sds2022_mlflow_...             root   \n",
              "\n",
              "  tags.mlflow.project.backend             tags.mlflow.source.git.commit  \n",
              "0                       local  a94209b7f6a9dfae2dabe4a97cfa2895e2024aec  \n",
              "\n",
              "[1 rows x 22 columns]"
            ],
            "text/html": [
              "\n",
              "  <div id=\"df-0c47cc1c-6938-4774-b2d1-7c3f799e7167\">\n",
              "    <div class=\"colab-df-container\">\n",
              "      <div>\n",
              "<style scoped>\n",
              "    .dataframe tbody tr th:only-of-type {\n",
              "        vertical-align: middle;\n",
              "    }\n",
              "\n",
              "    .dataframe tbody tr th {\n",
              "        vertical-align: top;\n",
              "    }\n",
              "\n",
              "    .dataframe thead th {\n",
              "        text-align: right;\n",
              "    }\n",
              "</style>\n",
              "<table border=\"1\" class=\"dataframe\">\n",
              "  <thead>\n",
              "    <tr style=\"text-align: right;\">\n",
              "      <th></th>\n",
              "      <th>run_id</th>\n",
              "      <th>experiment_id</th>\n",
              "      <th>status</th>\n",
              "      <th>artifact_uri</th>\n",
              "      <th>start_time</th>\n",
              "      <th>end_time</th>\n",
              "      <th>metrics.r2</th>\n",
              "      <th>metrics.mae</th>\n",
              "      <th>metrics.rmse</th>\n",
              "      <th>params.model_type</th>\n",
              "      <th>...</th>\n",
              "      <th>params.Model</th>\n",
              "      <th>tags.mlflow.source.git.repoURL</th>\n",
              "      <th>tags.mlflow.log-model.history</th>\n",
              "      <th>tags.mlflow.gitRepoURL</th>\n",
              "      <th>tags.mlflow.source.type</th>\n",
              "      <th>tags.mlflow.project.entryPoint</th>\n",
              "      <th>tags.mlflow.source.name</th>\n",
              "      <th>tags.mlflow.user</th>\n",
              "      <th>tags.mlflow.project.backend</th>\n",
              "      <th>tags.mlflow.source.git.commit</th>\n",
              "    </tr>\n",
              "  </thead>\n",
              "  <tbody>\n",
              "    <tr>\n",
              "      <th>0</th>\n",
              "      <td>657963bd41214a50a850bf2cb7956c71</td>\n",
              "      <td>0</td>\n",
              "      <td>FINISHED</td>\n",
              "      <td>/content/mlruns/0/657963bd41214a50a850bf2cb795...</td>\n",
              "      <td>2022-06-22 13:18:40.157000+00:00</td>\n",
              "      <td>2022-06-22 13:18:49.191000+00:00</td>\n",
              "      <td>0.590015</td>\n",
              "      <td>608519.899772</td>\n",
              "      <td>1.184314e+06</td>\n",
              "      <td>all</td>\n",
              "      <td>...</td>\n",
              "      <td>ElasticNet</td>\n",
              "      <td>https://github.com/SIT-Academy/sds2022_mlflow_...</td>\n",
              "      <td>[{\"run_id\": \"657963bd41214a50a850bf2cb7956c71\"...</td>\n",
              "      <td>https://github.com/SIT-Academy/sds2022_mlflow_...</td>\n",
              "      <td>PROJECT</td>\n",
              "      <td>main</td>\n",
              "      <td>https://github.com/SIT-Academy/sds2022_mlflow_...</td>\n",
              "      <td>root</td>\n",
              "      <td>local</td>\n",
              "      <td>a94209b7f6a9dfae2dabe4a97cfa2895e2024aec</td>\n",
              "    </tr>\n",
              "  </tbody>\n",
              "</table>\n",
              "<p>1 rows × 22 columns</p>\n",
              "</div>\n",
              "      <button class=\"colab-df-convert\" onclick=\"convertToInteractive('df-0c47cc1c-6938-4774-b2d1-7c3f799e7167')\"\n",
              "              title=\"Convert this dataframe to an interactive table.\"\n",
              "              style=\"display:none;\">\n",
              "        \n",
              "  <svg xmlns=\"http://www.w3.org/2000/svg\" height=\"24px\"viewBox=\"0 0 24 24\"\n",
              "       width=\"24px\">\n",
              "    <path d=\"M0 0h24v24H0V0z\" fill=\"none\"/>\n",
              "    <path d=\"M18.56 5.44l.94 2.06.94-2.06 2.06-.94-2.06-.94-.94-2.06-.94 2.06-2.06.94zm-11 1L8.5 8.5l.94-2.06 2.06-.94-2.06-.94L8.5 2.5l-.94 2.06-2.06.94zm10 10l.94 2.06.94-2.06 2.06-.94-2.06-.94-.94-2.06-.94 2.06-2.06.94z\"/><path d=\"M17.41 7.96l-1.37-1.37c-.4-.4-.92-.59-1.43-.59-.52 0-1.04.2-1.43.59L10.3 9.45l-7.72 7.72c-.78.78-.78 2.05 0 2.83L4 21.41c.39.39.9.59 1.41.59.51 0 1.02-.2 1.41-.59l7.78-7.78 2.81-2.81c.8-.78.8-2.07 0-2.86zM5.41 20L4 18.59l7.72-7.72 1.47 1.35L5.41 20z\"/>\n",
              "  </svg>\n",
              "      </button>\n",
              "      \n",
              "  <style>\n",
              "    .colab-df-container {\n",
              "      display:flex;\n",
              "      flex-wrap:wrap;\n",
              "      gap: 12px;\n",
              "    }\n",
              "\n",
              "    .colab-df-convert {\n",
              "      background-color: #E8F0FE;\n",
              "      border: none;\n",
              "      border-radius: 50%;\n",
              "      cursor: pointer;\n",
              "      display: none;\n",
              "      fill: #1967D2;\n",
              "      height: 32px;\n",
              "      padding: 0 0 0 0;\n",
              "      width: 32px;\n",
              "    }\n",
              "\n",
              "    .colab-df-convert:hover {\n",
              "      background-color: #E2EBFA;\n",
              "      box-shadow: 0px 1px 2px rgba(60, 64, 67, 0.3), 0px 1px 3px 1px rgba(60, 64, 67, 0.15);\n",
              "      fill: #174EA6;\n",
              "    }\n",
              "\n",
              "    [theme=dark] .colab-df-convert {\n",
              "      background-color: #3B4455;\n",
              "      fill: #D2E3FC;\n",
              "    }\n",
              "\n",
              "    [theme=dark] .colab-df-convert:hover {\n",
              "      background-color: #434B5C;\n",
              "      box-shadow: 0px 1px 3px 1px rgba(0, 0, 0, 0.15);\n",
              "      filter: drop-shadow(0px 1px 2px rgba(0, 0, 0, 0.3));\n",
              "      fill: #FFFFFF;\n",
              "    }\n",
              "  </style>\n",
              "\n",
              "      <script>\n",
              "        const buttonEl =\n",
              "          document.querySelector('#df-0c47cc1c-6938-4774-b2d1-7c3f799e7167 button.colab-df-convert');\n",
              "        buttonEl.style.display =\n",
              "          google.colab.kernel.accessAllowed ? 'block' : 'none';\n",
              "\n",
              "        async function convertToInteractive(key) {\n",
              "          const element = document.querySelector('#df-0c47cc1c-6938-4774-b2d1-7c3f799e7167');\n",
              "          const dataTable =\n",
              "            await google.colab.kernel.invokeFunction('convertToInteractive',\n",
              "                                                     [key], {});\n",
              "          if (!dataTable) return;\n",
              "\n",
              "          const docLinkHtml = 'Like what you see? Visit the ' +\n",
              "            '<a target=\"_blank\" href=https://colab.research.google.com/notebooks/data_table.ipynb>data table notebook</a>'\n",
              "            + ' to learn more about interactive tables.';\n",
              "          element.innerHTML = '';\n",
              "          dataTable['output_type'] = 'display_data';\n",
              "          await google.colab.output.renderOutput(dataTable, element);\n",
              "          const docLink = document.createElement('div');\n",
              "          docLink.innerHTML = docLinkHtml;\n",
              "          element.appendChild(docLink);\n",
              "        }\n",
              "      </script>\n",
              "    </div>\n",
              "  </div>\n",
              "  "
            ]
          },
          "metadata": {},
          "execution_count": 28
        }
      ]
    }
  ]
}